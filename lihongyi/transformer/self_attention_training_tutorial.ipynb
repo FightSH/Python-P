{
  "nbformat": 4,
  "nbformat_minor": 0,
  "metadata": {
    "colab": {
      "provenance": []
    },
    "kernelspec": {
      "name": "python3",
      "display_name": "Python 3"
    },
    "language_info": {
      "name": "python"
    }
  },
  "cells": [
    {
      "cell_type": "markdown",
      "source": [
        "# 利用Self-Attention进行时间序列预测\n",
        "\n",
        "本Notebook利用股市时间序列数据集来展示self-attention的训练和测试流程"
      ],
      "metadata": {
        "id": "i5Zct1C9mu91"
      }
    },
    {
      "cell_type": "markdown",
      "source": [
        "## 1. 加载数据"
      ],
      "metadata": {
        "id": "B6pCtAPSQCla"
      }
    },
    {
      "cell_type": "code",
      "source": [
        "!wget https://raw.githubusercontent.com/Liadrinz/ml-tutorial/refs/heads/main/MARUTI.csv"
      ],
      "metadata": {
        "id": "rEuX2rp4VCY8",
        "colab": {
          "base_uri": "https://localhost:8080/"
        },
        "outputId": "a75d95a2-f7d5-40c3-c297-f5f6dfa8f5a9"
      },
      "execution_count": null,
      "outputs": [
        {
          "output_type": "stream",
          "name": "stdout",
          "text": [
            "--2024-12-04 13:44:08--  https://raw.githubusercontent.com/Liadrinz/ml-tutorial/refs/heads/main/MARUTI.csv\n",
            "Resolving raw.githubusercontent.com (raw.githubusercontent.com)... 185.199.108.133, 185.199.109.133, 185.199.110.133, ...\n",
            "Connecting to raw.githubusercontent.com (raw.githubusercontent.com)|185.199.108.133|:443... connected.\n",
            "HTTP request sent, awaiting response... 200 OK\n",
            "Length: 488885 (477K) [text/plain]\n",
            "Saving to: ‘MARUTI.csv.1’\n",
            "\n",
            "\rMARUTI.csv.1          0%[                    ]       0  --.-KB/s               \rMARUTI.csv.1        100%[===================>] 477.43K  --.-KB/s    in 0.05s   \n",
            "\n",
            "2024-12-04 13:44:08 (9.62 MB/s) - ‘MARUTI.csv.1’ saved [488885/488885]\n",
            "\n"
          ]
        }
      ]
    },
    {
      "cell_type": "code",
      "source": [
        "import pandas as pd\n",
        "import numpy as np\n",
        "import torch\n",
        "\n",
        "from torch import nn\n",
        "from torch.utils.data.dataset import Dataset\n",
        "from torch.utils.data.dataloader import DataLoader\n",
        "from torch.optim import AdamW\n",
        "from torch.optim.lr_scheduler import LinearLR\n",
        "from scipy.special import softmax"
      ],
      "metadata": {
        "id": "mLX3r_Hp2_ed"
      },
      "execution_count": null,
      "outputs": []
    },
    {
      "cell_type": "code",
      "source": [
        "np.random.seed(42)\n",
        "torch.random.manual_seed(42)\n",
        "torch.manual_seed(42)"
      ],
      "metadata": {
        "colab": {
          "base_uri": "https://localhost:8080/"
        },
        "id": "RROtHoneQhdc",
        "outputId": "bc11f242-054b-4e47-86db-835cb329ae02"
      },
      "execution_count": null,
      "outputs": [
        {
          "output_type": "execute_result",
          "data": {
            "text/plain": [
              "<torch._C.Generator at 0x7f106e39ae30>"
            ]
          },
          "metadata": {},
          "execution_count": 3
        }
      ]
    },
    {
      "cell_type": "code",
      "source": [
        "data = pd.read_csv(\"MARUTI.csv\")"
      ],
      "metadata": {
        "id": "b17kTlZo3Afs"
      },
      "execution_count": null,
      "outputs": []
    },
    {
      "cell_type": "code",
      "source": [
        "data"
      ],
      "metadata": {
        "colab": {
          "base_uri": "https://localhost:8080/",
          "height": 424
        },
        "id": "Xq6wMiVe3Dx1",
        "outputId": "2c9491b2-bc84-4986-a1c1-f3e42b4cb7c9"
      },
      "execution_count": null,
      "outputs": [
        {
          "output_type": "execute_result",
          "data": {
            "text/plain": [
              "            Date  Symbol Series  Prev Close     Open     High      Low  \\\n",
              "0     2003-07-09  MARUTI     EQ      125.00   164.90   170.40   155.00   \n",
              "1     2003-07-10  MARUTI     EQ      164.30   167.00   168.70   164.50   \n",
              "2     2003-07-11  MARUTI     EQ      167.00   167.75   174.85   166.25   \n",
              "3     2003-07-14  MARUTI     EQ      173.35   174.25   179.25   174.25   \n",
              "4     2003-07-15  MARUTI     EQ      177.95   200.00   200.00   173.00   \n",
              "...          ...     ...    ...         ...      ...      ...      ...   \n",
              "4093  2019-12-24  MARUTI     EQ     7360.90  7397.00  7423.70  7302.00   \n",
              "4094  2019-12-26  MARUTI     EQ     7327.80  7334.00  7343.45  7222.00   \n",
              "4095  2019-12-27  MARUTI     EQ     7240.90  7268.00  7368.50  7251.40   \n",
              "4096  2019-12-30  MARUTI     EQ     7344.90  7378.00  7431.95  7341.60   \n",
              "4097  2019-12-31  MARUTI     EQ     7416.25  7412.50  7412.50  7355.25   \n",
              "\n",
              "         Last    Close     VWAP    Volume      Turnover   Trades  \\\n",
              "0      164.00   164.30   165.95  35164283  5.835528e+14      NaN   \n",
              "1      167.00   167.00   166.74  10464179  1.744820e+14      NaN   \n",
              "2      173.60   173.35   172.45  11740117  2.024622e+14      NaN   \n",
              "3      178.60   177.95   177.91   5982324  1.064313e+14      NaN   \n",
              "4      176.30   176.20   176.88   6173689  1.092001e+14      NaN   \n",
              "...       ...      ...      ...       ...           ...      ...   \n",
              "4093  7319.50  7327.80  7373.16    850537  6.271145e+14  66849.0   \n",
              "4094  7237.25  7240.90  7282.31    556360  4.051589e+14  41162.0   \n",
              "4095  7354.20  7344.90  7302.96    665383  4.859265e+14  44849.0   \n",
              "4096  7415.00  7416.25  7387.18    739631  5.463787e+14  57365.0   \n",
              "4097  7370.00  7368.60  7377.02    560622  4.135721e+14  40633.0   \n",
              "\n",
              "      Deliverable Volume  %Deliverble  \n",
              "0              8537695.0       0.2428  \n",
              "1              4363947.0       0.4170  \n",
              "2              3014852.0       0.2568  \n",
              "3              1949217.0       0.3258  \n",
              "4              1307694.0       0.2118  \n",
              "...                  ...          ...  \n",
              "4093            140503.0       0.1652  \n",
              "4094            105301.0       0.1893  \n",
              "4095            182392.0       0.2741  \n",
              "4096            234375.0       0.3169  \n",
              "4097            156039.0       0.2783  \n",
              "\n",
              "[4098 rows x 15 columns]"
            ],
            "text/html": [
              "\n",
              "  <div id=\"df-4247d169-ff68-4998-b140-0e892d20902f\" class=\"colab-df-container\">\n",
              "    <div>\n",
              "<style scoped>\n",
              "    .dataframe tbody tr th:only-of-type {\n",
              "        vertical-align: middle;\n",
              "    }\n",
              "\n",
              "    .dataframe tbody tr th {\n",
              "        vertical-align: top;\n",
              "    }\n",
              "\n",
              "    .dataframe thead th {\n",
              "        text-align: right;\n",
              "    }\n",
              "</style>\n",
              "<table border=\"1\" class=\"dataframe\">\n",
              "  <thead>\n",
              "    <tr style=\"text-align: right;\">\n",
              "      <th></th>\n",
              "      <th>Date</th>\n",
              "      <th>Symbol</th>\n",
              "      <th>Series</th>\n",
              "      <th>Prev Close</th>\n",
              "      <th>Open</th>\n",
              "      <th>High</th>\n",
              "      <th>Low</th>\n",
              "      <th>Last</th>\n",
              "      <th>Close</th>\n",
              "      <th>VWAP</th>\n",
              "      <th>Volume</th>\n",
              "      <th>Turnover</th>\n",
              "      <th>Trades</th>\n",
              "      <th>Deliverable Volume</th>\n",
              "      <th>%Deliverble</th>\n",
              "    </tr>\n",
              "  </thead>\n",
              "  <tbody>\n",
              "    <tr>\n",
              "      <th>0</th>\n",
              "      <td>2003-07-09</td>\n",
              "      <td>MARUTI</td>\n",
              "      <td>EQ</td>\n",
              "      <td>125.00</td>\n",
              "      <td>164.90</td>\n",
              "      <td>170.40</td>\n",
              "      <td>155.00</td>\n",
              "      <td>164.00</td>\n",
              "      <td>164.30</td>\n",
              "      <td>165.95</td>\n",
              "      <td>35164283</td>\n",
              "      <td>5.835528e+14</td>\n",
              "      <td>NaN</td>\n",
              "      <td>8537695.0</td>\n",
              "      <td>0.2428</td>\n",
              "    </tr>\n",
              "    <tr>\n",
              "      <th>1</th>\n",
              "      <td>2003-07-10</td>\n",
              "      <td>MARUTI</td>\n",
              "      <td>EQ</td>\n",
              "      <td>164.30</td>\n",
              "      <td>167.00</td>\n",
              "      <td>168.70</td>\n",
              "      <td>164.50</td>\n",
              "      <td>167.00</td>\n",
              "      <td>167.00</td>\n",
              "      <td>166.74</td>\n",
              "      <td>10464179</td>\n",
              "      <td>1.744820e+14</td>\n",
              "      <td>NaN</td>\n",
              "      <td>4363947.0</td>\n",
              "      <td>0.4170</td>\n",
              "    </tr>\n",
              "    <tr>\n",
              "      <th>2</th>\n",
              "      <td>2003-07-11</td>\n",
              "      <td>MARUTI</td>\n",
              "      <td>EQ</td>\n",
              "      <td>167.00</td>\n",
              "      <td>167.75</td>\n",
              "      <td>174.85</td>\n",
              "      <td>166.25</td>\n",
              "      <td>173.60</td>\n",
              "      <td>173.35</td>\n",
              "      <td>172.45</td>\n",
              "      <td>11740117</td>\n",
              "      <td>2.024622e+14</td>\n",
              "      <td>NaN</td>\n",
              "      <td>3014852.0</td>\n",
              "      <td>0.2568</td>\n",
              "    </tr>\n",
              "    <tr>\n",
              "      <th>3</th>\n",
              "      <td>2003-07-14</td>\n",
              "      <td>MARUTI</td>\n",
              "      <td>EQ</td>\n",
              "      <td>173.35</td>\n",
              "      <td>174.25</td>\n",
              "      <td>179.25</td>\n",
              "      <td>174.25</td>\n",
              "      <td>178.60</td>\n",
              "      <td>177.95</td>\n",
              "      <td>177.91</td>\n",
              "      <td>5982324</td>\n",
              "      <td>1.064313e+14</td>\n",
              "      <td>NaN</td>\n",
              "      <td>1949217.0</td>\n",
              "      <td>0.3258</td>\n",
              "    </tr>\n",
              "    <tr>\n",
              "      <th>4</th>\n",
              "      <td>2003-07-15</td>\n",
              "      <td>MARUTI</td>\n",
              "      <td>EQ</td>\n",
              "      <td>177.95</td>\n",
              "      <td>200.00</td>\n",
              "      <td>200.00</td>\n",
              "      <td>173.00</td>\n",
              "      <td>176.30</td>\n",
              "      <td>176.20</td>\n",
              "      <td>176.88</td>\n",
              "      <td>6173689</td>\n",
              "      <td>1.092001e+14</td>\n",
              "      <td>NaN</td>\n",
              "      <td>1307694.0</td>\n",
              "      <td>0.2118</td>\n",
              "    </tr>\n",
              "    <tr>\n",
              "      <th>...</th>\n",
              "      <td>...</td>\n",
              "      <td>...</td>\n",
              "      <td>...</td>\n",
              "      <td>...</td>\n",
              "      <td>...</td>\n",
              "      <td>...</td>\n",
              "      <td>...</td>\n",
              "      <td>...</td>\n",
              "      <td>...</td>\n",
              "      <td>...</td>\n",
              "      <td>...</td>\n",
              "      <td>...</td>\n",
              "      <td>...</td>\n",
              "      <td>...</td>\n",
              "      <td>...</td>\n",
              "    </tr>\n",
              "    <tr>\n",
              "      <th>4093</th>\n",
              "      <td>2019-12-24</td>\n",
              "      <td>MARUTI</td>\n",
              "      <td>EQ</td>\n",
              "      <td>7360.90</td>\n",
              "      <td>7397.00</td>\n",
              "      <td>7423.70</td>\n",
              "      <td>7302.00</td>\n",
              "      <td>7319.50</td>\n",
              "      <td>7327.80</td>\n",
              "      <td>7373.16</td>\n",
              "      <td>850537</td>\n",
              "      <td>6.271145e+14</td>\n",
              "      <td>66849.0</td>\n",
              "      <td>140503.0</td>\n",
              "      <td>0.1652</td>\n",
              "    </tr>\n",
              "    <tr>\n",
              "      <th>4094</th>\n",
              "      <td>2019-12-26</td>\n",
              "      <td>MARUTI</td>\n",
              "      <td>EQ</td>\n",
              "      <td>7327.80</td>\n",
              "      <td>7334.00</td>\n",
              "      <td>7343.45</td>\n",
              "      <td>7222.00</td>\n",
              "      <td>7237.25</td>\n",
              "      <td>7240.90</td>\n",
              "      <td>7282.31</td>\n",
              "      <td>556360</td>\n",
              "      <td>4.051589e+14</td>\n",
              "      <td>41162.0</td>\n",
              "      <td>105301.0</td>\n",
              "      <td>0.1893</td>\n",
              "    </tr>\n",
              "    <tr>\n",
              "      <th>4095</th>\n",
              "      <td>2019-12-27</td>\n",
              "      <td>MARUTI</td>\n",
              "      <td>EQ</td>\n",
              "      <td>7240.90</td>\n",
              "      <td>7268.00</td>\n",
              "      <td>7368.50</td>\n",
              "      <td>7251.40</td>\n",
              "      <td>7354.20</td>\n",
              "      <td>7344.90</td>\n",
              "      <td>7302.96</td>\n",
              "      <td>665383</td>\n",
              "      <td>4.859265e+14</td>\n",
              "      <td>44849.0</td>\n",
              "      <td>182392.0</td>\n",
              "      <td>0.2741</td>\n",
              "    </tr>\n",
              "    <tr>\n",
              "      <th>4096</th>\n",
              "      <td>2019-12-30</td>\n",
              "      <td>MARUTI</td>\n",
              "      <td>EQ</td>\n",
              "      <td>7344.90</td>\n",
              "      <td>7378.00</td>\n",
              "      <td>7431.95</td>\n",
              "      <td>7341.60</td>\n",
              "      <td>7415.00</td>\n",
              "      <td>7416.25</td>\n",
              "      <td>7387.18</td>\n",
              "      <td>739631</td>\n",
              "      <td>5.463787e+14</td>\n",
              "      <td>57365.0</td>\n",
              "      <td>234375.0</td>\n",
              "      <td>0.3169</td>\n",
              "    </tr>\n",
              "    <tr>\n",
              "      <th>4097</th>\n",
              "      <td>2019-12-31</td>\n",
              "      <td>MARUTI</td>\n",
              "      <td>EQ</td>\n",
              "      <td>7416.25</td>\n",
              "      <td>7412.50</td>\n",
              "      <td>7412.50</td>\n",
              "      <td>7355.25</td>\n",
              "      <td>7370.00</td>\n",
              "      <td>7368.60</td>\n",
              "      <td>7377.02</td>\n",
              "      <td>560622</td>\n",
              "      <td>4.135721e+14</td>\n",
              "      <td>40633.0</td>\n",
              "      <td>156039.0</td>\n",
              "      <td>0.2783</td>\n",
              "    </tr>\n",
              "  </tbody>\n",
              "</table>\n",
              "<p>4098 rows × 15 columns</p>\n",
              "</div>\n",
              "    <div class=\"colab-df-buttons\">\n",
              "\n",
              "  <div class=\"colab-df-container\">\n",
              "    <button class=\"colab-df-convert\" onclick=\"convertToInteractive('df-4247d169-ff68-4998-b140-0e892d20902f')\"\n",
              "            title=\"Convert this dataframe to an interactive table.\"\n",
              "            style=\"display:none;\">\n",
              "\n",
              "  <svg xmlns=\"http://www.w3.org/2000/svg\" height=\"24px\" viewBox=\"0 -960 960 960\">\n",
              "    <path d=\"M120-120v-720h720v720H120Zm60-500h600v-160H180v160Zm220 220h160v-160H400v160Zm0 220h160v-160H400v160ZM180-400h160v-160H180v160Zm440 0h160v-160H620v160ZM180-180h160v-160H180v160Zm440 0h160v-160H620v160Z\"/>\n",
              "  </svg>\n",
              "    </button>\n",
              "\n",
              "  <style>\n",
              "    .colab-df-container {\n",
              "      display:flex;\n",
              "      gap: 12px;\n",
              "    }\n",
              "\n",
              "    .colab-df-convert {\n",
              "      background-color: #E8F0FE;\n",
              "      border: none;\n",
              "      border-radius: 50%;\n",
              "      cursor: pointer;\n",
              "      display: none;\n",
              "      fill: #1967D2;\n",
              "      height: 32px;\n",
              "      padding: 0 0 0 0;\n",
              "      width: 32px;\n",
              "    }\n",
              "\n",
              "    .colab-df-convert:hover {\n",
              "      background-color: #E2EBFA;\n",
              "      box-shadow: 0px 1px 2px rgba(60, 64, 67, 0.3), 0px 1px 3px 1px rgba(60, 64, 67, 0.15);\n",
              "      fill: #174EA6;\n",
              "    }\n",
              "\n",
              "    .colab-df-buttons div {\n",
              "      margin-bottom: 4px;\n",
              "    }\n",
              "\n",
              "    [theme=dark] .colab-df-convert {\n",
              "      background-color: #3B4455;\n",
              "      fill: #D2E3FC;\n",
              "    }\n",
              "\n",
              "    [theme=dark] .colab-df-convert:hover {\n",
              "      background-color: #434B5C;\n",
              "      box-shadow: 0px 1px 3px 1px rgba(0, 0, 0, 0.15);\n",
              "      filter: drop-shadow(0px 1px 2px rgba(0, 0, 0, 0.3));\n",
              "      fill: #FFFFFF;\n",
              "    }\n",
              "  </style>\n",
              "\n",
              "    <script>\n",
              "      const buttonEl =\n",
              "        document.querySelector('#df-4247d169-ff68-4998-b140-0e892d20902f button.colab-df-convert');\n",
              "      buttonEl.style.display =\n",
              "        google.colab.kernel.accessAllowed ? 'block' : 'none';\n",
              "\n",
              "      async function convertToInteractive(key) {\n",
              "        const element = document.querySelector('#df-4247d169-ff68-4998-b140-0e892d20902f');\n",
              "        const dataTable =\n",
              "          await google.colab.kernel.invokeFunction('convertToInteractive',\n",
              "                                                    [key], {});\n",
              "        if (!dataTable) return;\n",
              "\n",
              "        const docLinkHtml = 'Like what you see? Visit the ' +\n",
              "          '<a target=\"_blank\" href=https://colab.research.google.com/notebooks/data_table.ipynb>data table notebook</a>'\n",
              "          + ' to learn more about interactive tables.';\n",
              "        element.innerHTML = '';\n",
              "        dataTable['output_type'] = 'display_data';\n",
              "        await google.colab.output.renderOutput(dataTable, element);\n",
              "        const docLink = document.createElement('div');\n",
              "        docLink.innerHTML = docLinkHtml;\n",
              "        element.appendChild(docLink);\n",
              "      }\n",
              "    </script>\n",
              "  </div>\n",
              "\n",
              "\n",
              "<div id=\"df-cfb942f3-3959-44c5-9bbe-23564115ffec\">\n",
              "  <button class=\"colab-df-quickchart\" onclick=\"quickchart('df-cfb942f3-3959-44c5-9bbe-23564115ffec')\"\n",
              "            title=\"Suggest charts\"\n",
              "            style=\"display:none;\">\n",
              "\n",
              "<svg xmlns=\"http://www.w3.org/2000/svg\" height=\"24px\"viewBox=\"0 0 24 24\"\n",
              "     width=\"24px\">\n",
              "    <g>\n",
              "        <path d=\"M19 3H5c-1.1 0-2 .9-2 2v14c0 1.1.9 2 2 2h14c1.1 0 2-.9 2-2V5c0-1.1-.9-2-2-2zM9 17H7v-7h2v7zm4 0h-2V7h2v10zm4 0h-2v-4h2v4z\"/>\n",
              "    </g>\n",
              "</svg>\n",
              "  </button>\n",
              "\n",
              "<style>\n",
              "  .colab-df-quickchart {\n",
              "      --bg-color: #E8F0FE;\n",
              "      --fill-color: #1967D2;\n",
              "      --hover-bg-color: #E2EBFA;\n",
              "      --hover-fill-color: #174EA6;\n",
              "      --disabled-fill-color: #AAA;\n",
              "      --disabled-bg-color: #DDD;\n",
              "  }\n",
              "\n",
              "  [theme=dark] .colab-df-quickchart {\n",
              "      --bg-color: #3B4455;\n",
              "      --fill-color: #D2E3FC;\n",
              "      --hover-bg-color: #434B5C;\n",
              "      --hover-fill-color: #FFFFFF;\n",
              "      --disabled-bg-color: #3B4455;\n",
              "      --disabled-fill-color: #666;\n",
              "  }\n",
              "\n",
              "  .colab-df-quickchart {\n",
              "    background-color: var(--bg-color);\n",
              "    border: none;\n",
              "    border-radius: 50%;\n",
              "    cursor: pointer;\n",
              "    display: none;\n",
              "    fill: var(--fill-color);\n",
              "    height: 32px;\n",
              "    padding: 0;\n",
              "    width: 32px;\n",
              "  }\n",
              "\n",
              "  .colab-df-quickchart:hover {\n",
              "    background-color: var(--hover-bg-color);\n",
              "    box-shadow: 0 1px 2px rgba(60, 64, 67, 0.3), 0 1px 3px 1px rgba(60, 64, 67, 0.15);\n",
              "    fill: var(--button-hover-fill-color);\n",
              "  }\n",
              "\n",
              "  .colab-df-quickchart-complete:disabled,\n",
              "  .colab-df-quickchart-complete:disabled:hover {\n",
              "    background-color: var(--disabled-bg-color);\n",
              "    fill: var(--disabled-fill-color);\n",
              "    box-shadow: none;\n",
              "  }\n",
              "\n",
              "  .colab-df-spinner {\n",
              "    border: 2px solid var(--fill-color);\n",
              "    border-color: transparent;\n",
              "    border-bottom-color: var(--fill-color);\n",
              "    animation:\n",
              "      spin 1s steps(1) infinite;\n",
              "  }\n",
              "\n",
              "  @keyframes spin {\n",
              "    0% {\n",
              "      border-color: transparent;\n",
              "      border-bottom-color: var(--fill-color);\n",
              "      border-left-color: var(--fill-color);\n",
              "    }\n",
              "    20% {\n",
              "      border-color: transparent;\n",
              "      border-left-color: var(--fill-color);\n",
              "      border-top-color: var(--fill-color);\n",
              "    }\n",
              "    30% {\n",
              "      border-color: transparent;\n",
              "      border-left-color: var(--fill-color);\n",
              "      border-top-color: var(--fill-color);\n",
              "      border-right-color: var(--fill-color);\n",
              "    }\n",
              "    40% {\n",
              "      border-color: transparent;\n",
              "      border-right-color: var(--fill-color);\n",
              "      border-top-color: var(--fill-color);\n",
              "    }\n",
              "    60% {\n",
              "      border-color: transparent;\n",
              "      border-right-color: var(--fill-color);\n",
              "    }\n",
              "    80% {\n",
              "      border-color: transparent;\n",
              "      border-right-color: var(--fill-color);\n",
              "      border-bottom-color: var(--fill-color);\n",
              "    }\n",
              "    90% {\n",
              "      border-color: transparent;\n",
              "      border-bottom-color: var(--fill-color);\n",
              "    }\n",
              "  }\n",
              "</style>\n",
              "\n",
              "  <script>\n",
              "    async function quickchart(key) {\n",
              "      const quickchartButtonEl =\n",
              "        document.querySelector('#' + key + ' button');\n",
              "      quickchartButtonEl.disabled = true;  // To prevent multiple clicks.\n",
              "      quickchartButtonEl.classList.add('colab-df-spinner');\n",
              "      try {\n",
              "        const charts = await google.colab.kernel.invokeFunction(\n",
              "            'suggestCharts', [key], {});\n",
              "      } catch (error) {\n",
              "        console.error('Error during call to suggestCharts:', error);\n",
              "      }\n",
              "      quickchartButtonEl.classList.remove('colab-df-spinner');\n",
              "      quickchartButtonEl.classList.add('colab-df-quickchart-complete');\n",
              "    }\n",
              "    (() => {\n",
              "      let quickchartButtonEl =\n",
              "        document.querySelector('#df-cfb942f3-3959-44c5-9bbe-23564115ffec button');\n",
              "      quickchartButtonEl.style.display =\n",
              "        google.colab.kernel.accessAllowed ? 'block' : 'none';\n",
              "    })();\n",
              "  </script>\n",
              "</div>\n",
              "\n",
              "  <div id=\"id_ba50ff43-1091-4c29-a803-b100b7f38a37\">\n",
              "    <style>\n",
              "      .colab-df-generate {\n",
              "        background-color: #E8F0FE;\n",
              "        border: none;\n",
              "        border-radius: 50%;\n",
              "        cursor: pointer;\n",
              "        display: none;\n",
              "        fill: #1967D2;\n",
              "        height: 32px;\n",
              "        padding: 0 0 0 0;\n",
              "        width: 32px;\n",
              "      }\n",
              "\n",
              "      .colab-df-generate:hover {\n",
              "        background-color: #E2EBFA;\n",
              "        box-shadow: 0px 1px 2px rgba(60, 64, 67, 0.3), 0px 1px 3px 1px rgba(60, 64, 67, 0.15);\n",
              "        fill: #174EA6;\n",
              "      }\n",
              "\n",
              "      [theme=dark] .colab-df-generate {\n",
              "        background-color: #3B4455;\n",
              "        fill: #D2E3FC;\n",
              "      }\n",
              "\n",
              "      [theme=dark] .colab-df-generate:hover {\n",
              "        background-color: #434B5C;\n",
              "        box-shadow: 0px 1px 3px 1px rgba(0, 0, 0, 0.15);\n",
              "        filter: drop-shadow(0px 1px 2px rgba(0, 0, 0, 0.3));\n",
              "        fill: #FFFFFF;\n",
              "      }\n",
              "    </style>\n",
              "    <button class=\"colab-df-generate\" onclick=\"generateWithVariable('data')\"\n",
              "            title=\"Generate code using this dataframe.\"\n",
              "            style=\"display:none;\">\n",
              "\n",
              "  <svg xmlns=\"http://www.w3.org/2000/svg\" height=\"24px\"viewBox=\"0 0 24 24\"\n",
              "       width=\"24px\">\n",
              "    <path d=\"M7,19H8.4L18.45,9,17,7.55,7,17.6ZM5,21V16.75L18.45,3.32a2,2,0,0,1,2.83,0l1.4,1.43a1.91,1.91,0,0,1,.58,1.4,1.91,1.91,0,0,1-.58,1.4L9.25,21ZM18.45,9,17,7.55Zm-12,3A5.31,5.31,0,0,0,4.9,8.1,5.31,5.31,0,0,0,1,6.5,5.31,5.31,0,0,0,4.9,4.9,5.31,5.31,0,0,0,6.5,1,5.31,5.31,0,0,0,8.1,4.9,5.31,5.31,0,0,0,12,6.5,5.46,5.46,0,0,0,6.5,12Z\"/>\n",
              "  </svg>\n",
              "    </button>\n",
              "    <script>\n",
              "      (() => {\n",
              "      const buttonEl =\n",
              "        document.querySelector('#id_ba50ff43-1091-4c29-a803-b100b7f38a37 button.colab-df-generate');\n",
              "      buttonEl.style.display =\n",
              "        google.colab.kernel.accessAllowed ? 'block' : 'none';\n",
              "\n",
              "      buttonEl.onclick = () => {\n",
              "        google.colab.notebook.generateWithVariable('data');\n",
              "      }\n",
              "      })();\n",
              "    </script>\n",
              "  </div>\n",
              "\n",
              "    </div>\n",
              "  </div>\n"
            ],
            "application/vnd.google.colaboratory.intrinsic+json": {
              "type": "dataframe",
              "variable_name": "data",
              "summary": "{\n  \"name\": \"data\",\n  \"rows\": 4098,\n  \"fields\": [\n    {\n      \"column\": \"Date\",\n      \"properties\": {\n        \"dtype\": \"object\",\n        \"num_unique_values\": 4095,\n        \"samples\": [\n          \"2008-09-08\",\n          \"2014-05-21\",\n          \"2017-10-04\"\n        ],\n        \"semantic_type\": \"\",\n        \"description\": \"\"\n      }\n    },\n    {\n      \"column\": \"Symbol\",\n      \"properties\": {\n        \"dtype\": \"category\",\n        \"num_unique_values\": 1,\n        \"samples\": [\n          \"MARUTI\"\n        ],\n        \"semantic_type\": \"\",\n        \"description\": \"\"\n      }\n    },\n    {\n      \"column\": \"Series\",\n      \"properties\": {\n        \"dtype\": \"category\",\n        \"num_unique_values\": 1,\n        \"samples\": [\n          \"EQ\"\n        ],\n        \"semantic_type\": \"\",\n        \"description\": \"\"\n      }\n    },\n    {\n      \"column\": \"Prev Close\",\n      \"properties\": {\n        \"dtype\": \"number\",\n        \"std\": 2619.043743161945,\n        \"min\": 125.0,\n        \"max\": 9832.45,\n        \"num_unique_values\": 3966,\n        \"samples\": [\n          473.85\n        ],\n        \"semantic_type\": \"\",\n        \"description\": \"\"\n      }\n    },\n    {\n      \"column\": \"Open\",\n      \"properties\": {\n        \"dtype\": \"number\",\n        \"std\": 2623.6859293942935,\n        \"min\": 164.0,\n        \"max\": 9966.0,\n        \"num_unique_values\": 3152,\n        \"samples\": [\n          7240.0\n        ],\n        \"semantic_type\": \"\",\n        \"description\": \"\"\n      }\n    },\n    {\n      \"column\": \"High\",\n      \"properties\": {\n        \"dtype\": \"number\",\n        \"std\": 2644.792350194169,\n        \"min\": 168.7,\n        \"max\": 9996.4,\n        \"num_unique_values\": 3575,\n        \"samples\": [\n          1859.0\n        ],\n        \"semantic_type\": \"\",\n        \"description\": \"\"\n      }\n    },\n    {\n      \"column\": \"Low\",\n      \"properties\": {\n        \"dtype\": \"number\",\n        \"std\": 2597.8632397860983,\n        \"min\": 155.0,\n        \"max\": 9725.0,\n        \"num_unique_values\": 3606,\n        \"samples\": [\n          6661.0\n        ],\n        \"semantic_type\": \"\",\n        \"description\": \"\"\n      }\n    },\n    {\n      \"column\": \"Last\",\n      \"properties\": {\n        \"dtype\": \"number\",\n        \"std\": 2619.6226067971816,\n        \"min\": 164.0,\n        \"max\": 9846.0,\n        \"num_unique_values\": 3501,\n        \"samples\": [\n          472.7\n        ],\n        \"semantic_type\": \"\",\n        \"description\": \"\"\n      }\n    },\n    {\n      \"column\": \"Close\",\n      \"properties\": {\n        \"dtype\": \"number\",\n        \"std\": 2619.7935566889587,\n        \"min\": 164.3,\n        \"max\": 9832.45,\n        \"num_unique_values\": 3966,\n        \"samples\": [\n          480.65\n        ],\n        \"semantic_type\": \"\",\n        \"description\": \"\"\n      }\n    },\n    {\n      \"column\": \"VWAP\",\n      \"properties\": {\n        \"dtype\": \"number\",\n        \"std\": 2621.409432856337,\n        \"min\": 165.06,\n        \"max\": 9850.96,\n        \"num_unique_values\": 4065,\n        \"samples\": [\n          1478.28\n        ],\n        \"semantic_type\": \"\",\n        \"description\": \"\"\n      }\n    },\n    {\n      \"column\": \"Volume\",\n      \"properties\": {\n        \"dtype\": \"number\",\n        \"std\": 1693731,\n        \"min\": 22796,\n        \"max\": 35164283,\n        \"num_unique_values\": 4089,\n        \"samples\": [\n          2032981\n        ],\n        \"semantic_type\": \"\",\n        \"description\": \"\"\n      }\n    },\n    {\n      \"column\": \"Turnover\",\n      \"properties\": {\n        \"dtype\": \"number\",\n        \"std\": 236184238698883.34,\n        \"min\": 2131517700000.0,\n        \"max\": 4878992369150000.0,\n        \"num_unique_values\": 4095,\n        \"samples\": [\n          91141813480000.0\n        ],\n        \"semantic_type\": \"\",\n        \"description\": \"\"\n      }\n    },\n    {\n      \"column\": \"Trades\",\n      \"properties\": {\n        \"dtype\": \"number\",\n        \"std\": 36942.689913087415,\n        \"min\": 1096.0,\n        \"max\": 407715.0,\n        \"num_unique_values\": 2092,\n        \"samples\": [\n          63936.0\n        ],\n        \"semantic_type\": \"\",\n        \"description\": \"\"\n      }\n    },\n    {\n      \"column\": \"Deliverable Volume\",\n      \"properties\": {\n        \"dtype\": \"number\",\n        \"std\": 377600.0601966818,\n        \"min\": 4896.0,\n        \"max\": 8537695.0,\n        \"num_unique_values\": 4077,\n        \"samples\": [\n          174898.0\n        ],\n        \"semantic_type\": \"\",\n        \"description\": \"\"\n      }\n    },\n    {\n      \"column\": \"%Deliverble\",\n      \"properties\": {\n        \"dtype\": \"number\",\n        \"std\": 0.15748414423064855,\n        \"min\": 0.0343,\n        \"max\": 1.0,\n        \"num_unique_values\": 2955,\n        \"samples\": [\n          0.4415\n        ],\n        \"semantic_type\": \"\",\n        \"description\": \"\"\n      }\n    }\n  ]\n}"
            }
          },
          "metadata": {},
          "execution_count": 5
        }
      ]
    },
    {
      "cell_type": "markdown",
      "source": [
        "把我们需要的列选出来"
      ],
      "metadata": {
        "id": "XHyy9zsa3hPc"
      }
    },
    {
      "cell_type": "code",
      "source": [
        "data_selected = data[[\"Date\", \"Prev Close\", \"Open\", \"High\", \"Low\", \"Last\", \"Close\"]]"
      ],
      "metadata": {
        "id": "42-JTyX43ETz"
      },
      "execution_count": null,
      "outputs": []
    },
    {
      "cell_type": "code",
      "source": [
        "data_selected"
      ],
      "metadata": {
        "colab": {
          "base_uri": "https://localhost:8080/",
          "height": 424
        },
        "id": "JvUrRr-w3Wc-",
        "outputId": "7c214643-f2ae-49e2-e81b-0090321d47cd"
      },
      "execution_count": null,
      "outputs": [
        {
          "output_type": "execute_result",
          "data": {
            "text/plain": [
              "            Date  Prev Close     Open     High      Low     Last    Close\n",
              "0     2003-07-09      125.00   164.90   170.40   155.00   164.00   164.30\n",
              "1     2003-07-10      164.30   167.00   168.70   164.50   167.00   167.00\n",
              "2     2003-07-11      167.00   167.75   174.85   166.25   173.60   173.35\n",
              "3     2003-07-14      173.35   174.25   179.25   174.25   178.60   177.95\n",
              "4     2003-07-15      177.95   200.00   200.00   173.00   176.30   176.20\n",
              "...          ...         ...      ...      ...      ...      ...      ...\n",
              "4093  2019-12-24     7360.90  7397.00  7423.70  7302.00  7319.50  7327.80\n",
              "4094  2019-12-26     7327.80  7334.00  7343.45  7222.00  7237.25  7240.90\n",
              "4095  2019-12-27     7240.90  7268.00  7368.50  7251.40  7354.20  7344.90\n",
              "4096  2019-12-30     7344.90  7378.00  7431.95  7341.60  7415.00  7416.25\n",
              "4097  2019-12-31     7416.25  7412.50  7412.50  7355.25  7370.00  7368.60\n",
              "\n",
              "[4098 rows x 7 columns]"
            ],
            "text/html": [
              "\n",
              "  <div id=\"df-89963d4c-1ce8-4eab-bfe0-34d163f8c2b0\" class=\"colab-df-container\">\n",
              "    <div>\n",
              "<style scoped>\n",
              "    .dataframe tbody tr th:only-of-type {\n",
              "        vertical-align: middle;\n",
              "    }\n",
              "\n",
              "    .dataframe tbody tr th {\n",
              "        vertical-align: top;\n",
              "    }\n",
              "\n",
              "    .dataframe thead th {\n",
              "        text-align: right;\n",
              "    }\n",
              "</style>\n",
              "<table border=\"1\" class=\"dataframe\">\n",
              "  <thead>\n",
              "    <tr style=\"text-align: right;\">\n",
              "      <th></th>\n",
              "      <th>Date</th>\n",
              "      <th>Prev Close</th>\n",
              "      <th>Open</th>\n",
              "      <th>High</th>\n",
              "      <th>Low</th>\n",
              "      <th>Last</th>\n",
              "      <th>Close</th>\n",
              "    </tr>\n",
              "  </thead>\n",
              "  <tbody>\n",
              "    <tr>\n",
              "      <th>0</th>\n",
              "      <td>2003-07-09</td>\n",
              "      <td>125.00</td>\n",
              "      <td>164.90</td>\n",
              "      <td>170.40</td>\n",
              "      <td>155.00</td>\n",
              "      <td>164.00</td>\n",
              "      <td>164.30</td>\n",
              "    </tr>\n",
              "    <tr>\n",
              "      <th>1</th>\n",
              "      <td>2003-07-10</td>\n",
              "      <td>164.30</td>\n",
              "      <td>167.00</td>\n",
              "      <td>168.70</td>\n",
              "      <td>164.50</td>\n",
              "      <td>167.00</td>\n",
              "      <td>167.00</td>\n",
              "    </tr>\n",
              "    <tr>\n",
              "      <th>2</th>\n",
              "      <td>2003-07-11</td>\n",
              "      <td>167.00</td>\n",
              "      <td>167.75</td>\n",
              "      <td>174.85</td>\n",
              "      <td>166.25</td>\n",
              "      <td>173.60</td>\n",
              "      <td>173.35</td>\n",
              "    </tr>\n",
              "    <tr>\n",
              "      <th>3</th>\n",
              "      <td>2003-07-14</td>\n",
              "      <td>173.35</td>\n",
              "      <td>174.25</td>\n",
              "      <td>179.25</td>\n",
              "      <td>174.25</td>\n",
              "      <td>178.60</td>\n",
              "      <td>177.95</td>\n",
              "    </tr>\n",
              "    <tr>\n",
              "      <th>4</th>\n",
              "      <td>2003-07-15</td>\n",
              "      <td>177.95</td>\n",
              "      <td>200.00</td>\n",
              "      <td>200.00</td>\n",
              "      <td>173.00</td>\n",
              "      <td>176.30</td>\n",
              "      <td>176.20</td>\n",
              "    </tr>\n",
              "    <tr>\n",
              "      <th>...</th>\n",
              "      <td>...</td>\n",
              "      <td>...</td>\n",
              "      <td>...</td>\n",
              "      <td>...</td>\n",
              "      <td>...</td>\n",
              "      <td>...</td>\n",
              "      <td>...</td>\n",
              "    </tr>\n",
              "    <tr>\n",
              "      <th>4093</th>\n",
              "      <td>2019-12-24</td>\n",
              "      <td>7360.90</td>\n",
              "      <td>7397.00</td>\n",
              "      <td>7423.70</td>\n",
              "      <td>7302.00</td>\n",
              "      <td>7319.50</td>\n",
              "      <td>7327.80</td>\n",
              "    </tr>\n",
              "    <tr>\n",
              "      <th>4094</th>\n",
              "      <td>2019-12-26</td>\n",
              "      <td>7327.80</td>\n",
              "      <td>7334.00</td>\n",
              "      <td>7343.45</td>\n",
              "      <td>7222.00</td>\n",
              "      <td>7237.25</td>\n",
              "      <td>7240.90</td>\n",
              "    </tr>\n",
              "    <tr>\n",
              "      <th>4095</th>\n",
              "      <td>2019-12-27</td>\n",
              "      <td>7240.90</td>\n",
              "      <td>7268.00</td>\n",
              "      <td>7368.50</td>\n",
              "      <td>7251.40</td>\n",
              "      <td>7354.20</td>\n",
              "      <td>7344.90</td>\n",
              "    </tr>\n",
              "    <tr>\n",
              "      <th>4096</th>\n",
              "      <td>2019-12-30</td>\n",
              "      <td>7344.90</td>\n",
              "      <td>7378.00</td>\n",
              "      <td>7431.95</td>\n",
              "      <td>7341.60</td>\n",
              "      <td>7415.00</td>\n",
              "      <td>7416.25</td>\n",
              "    </tr>\n",
              "    <tr>\n",
              "      <th>4097</th>\n",
              "      <td>2019-12-31</td>\n",
              "      <td>7416.25</td>\n",
              "      <td>7412.50</td>\n",
              "      <td>7412.50</td>\n",
              "      <td>7355.25</td>\n",
              "      <td>7370.00</td>\n",
              "      <td>7368.60</td>\n",
              "    </tr>\n",
              "  </tbody>\n",
              "</table>\n",
              "<p>4098 rows × 7 columns</p>\n",
              "</div>\n",
              "    <div class=\"colab-df-buttons\">\n",
              "\n",
              "  <div class=\"colab-df-container\">\n",
              "    <button class=\"colab-df-convert\" onclick=\"convertToInteractive('df-89963d4c-1ce8-4eab-bfe0-34d163f8c2b0')\"\n",
              "            title=\"Convert this dataframe to an interactive table.\"\n",
              "            style=\"display:none;\">\n",
              "\n",
              "  <svg xmlns=\"http://www.w3.org/2000/svg\" height=\"24px\" viewBox=\"0 -960 960 960\">\n",
              "    <path d=\"M120-120v-720h720v720H120Zm60-500h600v-160H180v160Zm220 220h160v-160H400v160Zm0 220h160v-160H400v160ZM180-400h160v-160H180v160Zm440 0h160v-160H620v160ZM180-180h160v-160H180v160Zm440 0h160v-160H620v160Z\"/>\n",
              "  </svg>\n",
              "    </button>\n",
              "\n",
              "  <style>\n",
              "    .colab-df-container {\n",
              "      display:flex;\n",
              "      gap: 12px;\n",
              "    }\n",
              "\n",
              "    .colab-df-convert {\n",
              "      background-color: #E8F0FE;\n",
              "      border: none;\n",
              "      border-radius: 50%;\n",
              "      cursor: pointer;\n",
              "      display: none;\n",
              "      fill: #1967D2;\n",
              "      height: 32px;\n",
              "      padding: 0 0 0 0;\n",
              "      width: 32px;\n",
              "    }\n",
              "\n",
              "    .colab-df-convert:hover {\n",
              "      background-color: #E2EBFA;\n",
              "      box-shadow: 0px 1px 2px rgba(60, 64, 67, 0.3), 0px 1px 3px 1px rgba(60, 64, 67, 0.15);\n",
              "      fill: #174EA6;\n",
              "    }\n",
              "\n",
              "    .colab-df-buttons div {\n",
              "      margin-bottom: 4px;\n",
              "    }\n",
              "\n",
              "    [theme=dark] .colab-df-convert {\n",
              "      background-color: #3B4455;\n",
              "      fill: #D2E3FC;\n",
              "    }\n",
              "\n",
              "    [theme=dark] .colab-df-convert:hover {\n",
              "      background-color: #434B5C;\n",
              "      box-shadow: 0px 1px 3px 1px rgba(0, 0, 0, 0.15);\n",
              "      filter: drop-shadow(0px 1px 2px rgba(0, 0, 0, 0.3));\n",
              "      fill: #FFFFFF;\n",
              "    }\n",
              "  </style>\n",
              "\n",
              "    <script>\n",
              "      const buttonEl =\n",
              "        document.querySelector('#df-89963d4c-1ce8-4eab-bfe0-34d163f8c2b0 button.colab-df-convert');\n",
              "      buttonEl.style.display =\n",
              "        google.colab.kernel.accessAllowed ? 'block' : 'none';\n",
              "\n",
              "      async function convertToInteractive(key) {\n",
              "        const element = document.querySelector('#df-89963d4c-1ce8-4eab-bfe0-34d163f8c2b0');\n",
              "        const dataTable =\n",
              "          await google.colab.kernel.invokeFunction('convertToInteractive',\n",
              "                                                    [key], {});\n",
              "        if (!dataTable) return;\n",
              "\n",
              "        const docLinkHtml = 'Like what you see? Visit the ' +\n",
              "          '<a target=\"_blank\" href=https://colab.research.google.com/notebooks/data_table.ipynb>data table notebook</a>'\n",
              "          + ' to learn more about interactive tables.';\n",
              "        element.innerHTML = '';\n",
              "        dataTable['output_type'] = 'display_data';\n",
              "        await google.colab.output.renderOutput(dataTable, element);\n",
              "        const docLink = document.createElement('div');\n",
              "        docLink.innerHTML = docLinkHtml;\n",
              "        element.appendChild(docLink);\n",
              "      }\n",
              "    </script>\n",
              "  </div>\n",
              "\n",
              "\n",
              "<div id=\"df-129db4e2-5307-4109-b182-4b14a4b6686c\">\n",
              "  <button class=\"colab-df-quickchart\" onclick=\"quickchart('df-129db4e2-5307-4109-b182-4b14a4b6686c')\"\n",
              "            title=\"Suggest charts\"\n",
              "            style=\"display:none;\">\n",
              "\n",
              "<svg xmlns=\"http://www.w3.org/2000/svg\" height=\"24px\"viewBox=\"0 0 24 24\"\n",
              "     width=\"24px\">\n",
              "    <g>\n",
              "        <path d=\"M19 3H5c-1.1 0-2 .9-2 2v14c0 1.1.9 2 2 2h14c1.1 0 2-.9 2-2V5c0-1.1-.9-2-2-2zM9 17H7v-7h2v7zm4 0h-2V7h2v10zm4 0h-2v-4h2v4z\"/>\n",
              "    </g>\n",
              "</svg>\n",
              "  </button>\n",
              "\n",
              "<style>\n",
              "  .colab-df-quickchart {\n",
              "      --bg-color: #E8F0FE;\n",
              "      --fill-color: #1967D2;\n",
              "      --hover-bg-color: #E2EBFA;\n",
              "      --hover-fill-color: #174EA6;\n",
              "      --disabled-fill-color: #AAA;\n",
              "      --disabled-bg-color: #DDD;\n",
              "  }\n",
              "\n",
              "  [theme=dark] .colab-df-quickchart {\n",
              "      --bg-color: #3B4455;\n",
              "      --fill-color: #D2E3FC;\n",
              "      --hover-bg-color: #434B5C;\n",
              "      --hover-fill-color: #FFFFFF;\n",
              "      --disabled-bg-color: #3B4455;\n",
              "      --disabled-fill-color: #666;\n",
              "  }\n",
              "\n",
              "  .colab-df-quickchart {\n",
              "    background-color: var(--bg-color);\n",
              "    border: none;\n",
              "    border-radius: 50%;\n",
              "    cursor: pointer;\n",
              "    display: none;\n",
              "    fill: var(--fill-color);\n",
              "    height: 32px;\n",
              "    padding: 0;\n",
              "    width: 32px;\n",
              "  }\n",
              "\n",
              "  .colab-df-quickchart:hover {\n",
              "    background-color: var(--hover-bg-color);\n",
              "    box-shadow: 0 1px 2px rgba(60, 64, 67, 0.3), 0 1px 3px 1px rgba(60, 64, 67, 0.15);\n",
              "    fill: var(--button-hover-fill-color);\n",
              "  }\n",
              "\n",
              "  .colab-df-quickchart-complete:disabled,\n",
              "  .colab-df-quickchart-complete:disabled:hover {\n",
              "    background-color: var(--disabled-bg-color);\n",
              "    fill: var(--disabled-fill-color);\n",
              "    box-shadow: none;\n",
              "  }\n",
              "\n",
              "  .colab-df-spinner {\n",
              "    border: 2px solid var(--fill-color);\n",
              "    border-color: transparent;\n",
              "    border-bottom-color: var(--fill-color);\n",
              "    animation:\n",
              "      spin 1s steps(1) infinite;\n",
              "  }\n",
              "\n",
              "  @keyframes spin {\n",
              "    0% {\n",
              "      border-color: transparent;\n",
              "      border-bottom-color: var(--fill-color);\n",
              "      border-left-color: var(--fill-color);\n",
              "    }\n",
              "    20% {\n",
              "      border-color: transparent;\n",
              "      border-left-color: var(--fill-color);\n",
              "      border-top-color: var(--fill-color);\n",
              "    }\n",
              "    30% {\n",
              "      border-color: transparent;\n",
              "      border-left-color: var(--fill-color);\n",
              "      border-top-color: var(--fill-color);\n",
              "      border-right-color: var(--fill-color);\n",
              "    }\n",
              "    40% {\n",
              "      border-color: transparent;\n",
              "      border-right-color: var(--fill-color);\n",
              "      border-top-color: var(--fill-color);\n",
              "    }\n",
              "    60% {\n",
              "      border-color: transparent;\n",
              "      border-right-color: var(--fill-color);\n",
              "    }\n",
              "    80% {\n",
              "      border-color: transparent;\n",
              "      border-right-color: var(--fill-color);\n",
              "      border-bottom-color: var(--fill-color);\n",
              "    }\n",
              "    90% {\n",
              "      border-color: transparent;\n",
              "      border-bottom-color: var(--fill-color);\n",
              "    }\n",
              "  }\n",
              "</style>\n",
              "\n",
              "  <script>\n",
              "    async function quickchart(key) {\n",
              "      const quickchartButtonEl =\n",
              "        document.querySelector('#' + key + ' button');\n",
              "      quickchartButtonEl.disabled = true;  // To prevent multiple clicks.\n",
              "      quickchartButtonEl.classList.add('colab-df-spinner');\n",
              "      try {\n",
              "        const charts = await google.colab.kernel.invokeFunction(\n",
              "            'suggestCharts', [key], {});\n",
              "      } catch (error) {\n",
              "        console.error('Error during call to suggestCharts:', error);\n",
              "      }\n",
              "      quickchartButtonEl.classList.remove('colab-df-spinner');\n",
              "      quickchartButtonEl.classList.add('colab-df-quickchart-complete');\n",
              "    }\n",
              "    (() => {\n",
              "      let quickchartButtonEl =\n",
              "        document.querySelector('#df-129db4e2-5307-4109-b182-4b14a4b6686c button');\n",
              "      quickchartButtonEl.style.display =\n",
              "        google.colab.kernel.accessAllowed ? 'block' : 'none';\n",
              "    })();\n",
              "  </script>\n",
              "</div>\n",
              "\n",
              "  <div id=\"id_f4357ce9-ee26-4548-a63a-86fa3d43b311\">\n",
              "    <style>\n",
              "      .colab-df-generate {\n",
              "        background-color: #E8F0FE;\n",
              "        border: none;\n",
              "        border-radius: 50%;\n",
              "        cursor: pointer;\n",
              "        display: none;\n",
              "        fill: #1967D2;\n",
              "        height: 32px;\n",
              "        padding: 0 0 0 0;\n",
              "        width: 32px;\n",
              "      }\n",
              "\n",
              "      .colab-df-generate:hover {\n",
              "        background-color: #E2EBFA;\n",
              "        box-shadow: 0px 1px 2px rgba(60, 64, 67, 0.3), 0px 1px 3px 1px rgba(60, 64, 67, 0.15);\n",
              "        fill: #174EA6;\n",
              "      }\n",
              "\n",
              "      [theme=dark] .colab-df-generate {\n",
              "        background-color: #3B4455;\n",
              "        fill: #D2E3FC;\n",
              "      }\n",
              "\n",
              "      [theme=dark] .colab-df-generate:hover {\n",
              "        background-color: #434B5C;\n",
              "        box-shadow: 0px 1px 3px 1px rgba(0, 0, 0, 0.15);\n",
              "        filter: drop-shadow(0px 1px 2px rgba(0, 0, 0, 0.3));\n",
              "        fill: #FFFFFF;\n",
              "      }\n",
              "    </style>\n",
              "    <button class=\"colab-df-generate\" onclick=\"generateWithVariable('data_selected')\"\n",
              "            title=\"Generate code using this dataframe.\"\n",
              "            style=\"display:none;\">\n",
              "\n",
              "  <svg xmlns=\"http://www.w3.org/2000/svg\" height=\"24px\"viewBox=\"0 0 24 24\"\n",
              "       width=\"24px\">\n",
              "    <path d=\"M7,19H8.4L18.45,9,17,7.55,7,17.6ZM5,21V16.75L18.45,3.32a2,2,0,0,1,2.83,0l1.4,1.43a1.91,1.91,0,0,1,.58,1.4,1.91,1.91,0,0,1-.58,1.4L9.25,21ZM18.45,9,17,7.55Zm-12,3A5.31,5.31,0,0,0,4.9,8.1,5.31,5.31,0,0,0,1,6.5,5.31,5.31,0,0,0,4.9,4.9,5.31,5.31,0,0,0,6.5,1,5.31,5.31,0,0,0,8.1,4.9,5.31,5.31,0,0,0,12,6.5,5.46,5.46,0,0,0,6.5,12Z\"/>\n",
              "  </svg>\n",
              "    </button>\n",
              "    <script>\n",
              "      (() => {\n",
              "      const buttonEl =\n",
              "        document.querySelector('#id_f4357ce9-ee26-4548-a63a-86fa3d43b311 button.colab-df-generate');\n",
              "      buttonEl.style.display =\n",
              "        google.colab.kernel.accessAllowed ? 'block' : 'none';\n",
              "\n",
              "      buttonEl.onclick = () => {\n",
              "        google.colab.notebook.generateWithVariable('data_selected');\n",
              "      }\n",
              "      })();\n",
              "    </script>\n",
              "  </div>\n",
              "\n",
              "    </div>\n",
              "  </div>\n"
            ],
            "application/vnd.google.colaboratory.intrinsic+json": {
              "type": "dataframe",
              "variable_name": "data_selected",
              "summary": "{\n  \"name\": \"data_selected\",\n  \"rows\": 4098,\n  \"fields\": [\n    {\n      \"column\": \"Date\",\n      \"properties\": {\n        \"dtype\": \"object\",\n        \"num_unique_values\": 4095,\n        \"samples\": [\n          \"2008-09-08\",\n          \"2014-05-21\",\n          \"2017-10-04\"\n        ],\n        \"semantic_type\": \"\",\n        \"description\": \"\"\n      }\n    },\n    {\n      \"column\": \"Prev Close\",\n      \"properties\": {\n        \"dtype\": \"number\",\n        \"std\": 2619.043743161945,\n        \"min\": 125.0,\n        \"max\": 9832.45,\n        \"num_unique_values\": 3966,\n        \"samples\": [\n          473.85,\n          1414.1,\n          9368.1\n        ],\n        \"semantic_type\": \"\",\n        \"description\": \"\"\n      }\n    },\n    {\n      \"column\": \"Open\",\n      \"properties\": {\n        \"dtype\": \"number\",\n        \"std\": 2623.6859293942935,\n        \"min\": 164.0,\n        \"max\": 9966.0,\n        \"num_unique_values\": 3152,\n        \"samples\": [\n          7240.0,\n          1690.25,\n          4145.0\n        ],\n        \"semantic_type\": \"\",\n        \"description\": \"\"\n      }\n    },\n    {\n      \"column\": \"High\",\n      \"properties\": {\n        \"dtype\": \"number\",\n        \"std\": 2644.792350194169,\n        \"min\": 168.7,\n        \"max\": 9996.4,\n        \"num_unique_values\": 3575,\n        \"samples\": [\n          1859.0,\n          828.5,\n          237.6\n        ],\n        \"semantic_type\": \"\",\n        \"description\": \"\"\n      }\n    },\n    {\n      \"column\": \"Low\",\n      \"properties\": {\n        \"dtype\": \"number\",\n        \"std\": 2597.8632397860983,\n        \"min\": 155.0,\n        \"max\": 9725.0,\n        \"num_unique_values\": 3606,\n        \"samples\": [\n          6661.0,\n          835.05,\n          1511.75\n        ],\n        \"semantic_type\": \"\",\n        \"description\": \"\"\n      }\n    },\n    {\n      \"column\": \"Last\",\n      \"properties\": {\n        \"dtype\": \"number\",\n        \"std\": 2619.6226067971816,\n        \"min\": 164.0,\n        \"max\": 9846.0,\n        \"num_unique_values\": 3501,\n        \"samples\": [\n          472.7,\n          1390.25,\n          1977.0\n        ],\n        \"semantic_type\": \"\",\n        \"description\": \"\"\n      }\n    },\n    {\n      \"column\": \"Close\",\n      \"properties\": {\n        \"dtype\": \"number\",\n        \"std\": 2619.7935566889587,\n        \"min\": 164.3,\n        \"max\": 9832.45,\n        \"num_unique_values\": 3966,\n        \"samples\": [\n          480.65,\n          1408.85,\n          9205.8\n        ],\n        \"semantic_type\": \"\",\n        \"description\": \"\"\n      }\n    }\n  ]\n}"
            }
          },
          "metadata": {},
          "execution_count": 7
        }
      ]
    },
    {
      "cell_type": "markdown",
      "source": [
        "## 2. 任务和函数定义"
      ],
      "metadata": {
        "id": "Y4a4aJ3pQRZ7"
      }
    },
    {
      "cell_type": "markdown",
      "source": [
        "我们希望能用前**3-5**个交易日的数据（6项：前一收盘价、开盘价、最高价、最低价、最后成交价、收盘价）预测下一个交易日的开盘价。\n",
        "\n",
        "设$X$是前3-5个交易日的数据，那么$X$是一个$n\\times6$的矩阵，$n=3,4,5$.\n",
        "\n",
        "$X=(\\mathbf{x}_1,\\mathbf{x}_2,\\cdots,\\mathbf{x}_n)$，每个向量$\\mathbf{x}_i$是一个交易日的数据。\n",
        "\n",
        "$y$是下一个交易日的开盘价格。\n",
        "\n",
        "我们的目标是找到一个函数$f$，使得$y=f(X)$.\n",
        "\n",
        "Self-Attention可以很好地处理$X$这种不固定长度的向量序列。\n",
        "\n",
        "我们先把[Self Attention Tutorial](https://colab.research.google.com/drive/1iTQrUxxwbvapAwvoEXatL64u2a21nnPy#scrollTo=dkwIKog3ak-y)中总结的self-attention函数复制过来进行一些修改，将参数$W^q,W^k,W^v$都设为6x6的方形矩阵。"
      ],
      "metadata": {
        "id": "ar847nD451wV"
      }
    },
    {
      "cell_type": "code",
      "source": [
        "def self_attention(X):\n",
        "    W_q = np.random.randn(6, 6)\n",
        "    W_k = np.random.randn(6, 6)\n",
        "    W_v = np.random.randn(6, 6)\n",
        "    Q = X @ W_q\n",
        "    K = X @ W_k\n",
        "    V = X @ W_v\n",
        "    attention_scores = softmax(Q @ K.T, axis=-1)\n",
        "    Y = attention_scores @ V\n",
        "    return Y"
      ],
      "metadata": {
        "id": "MMe5t-JG3agW"
      },
      "execution_count": null,
      "outputs": []
    },
    {
      "cell_type": "markdown",
      "source": [
        "然后用一组数据测试一下函数是否能进行运算："
      ],
      "metadata": {
        "id": "Nrj8ccFuDRBC"
      }
    },
    {
      "cell_type": "code",
      "source": [
        "X = np.array(data_selected.iloc[:4, 1:7])\n",
        "H = self_attention(X)"
      ],
      "metadata": {
        "id": "q_nOvONIDQK5"
      },
      "execution_count": null,
      "outputs": []
    },
    {
      "cell_type": "markdown",
      "source": [
        "可以看到，`self_attention`输出了与原始输入形状一致一个向量序列"
      ],
      "metadata": {
        "id": "n7dRLr-jD56l"
      }
    },
    {
      "cell_type": "code",
      "source": [
        "H"
      ],
      "metadata": {
        "colab": {
          "base_uri": "https://localhost:8080/"
        },
        "id": "1sAzC0v4DhuI",
        "outputId": "ac48bce1-a130-4c36-861a-8df7c3a274b9"
      },
      "execution_count": null,
      "outputs": [
        {
          "output_type": "execute_result",
          "data": {
            "text/plain": [
              "array([[-118.76702047,  -90.5414419 , -454.24948915,  224.53671181,\n",
              "         185.8639328 , -330.93130129],\n",
              "       [-118.76702047,  -90.5414419 , -454.24948915,  224.53671181,\n",
              "         185.8639328 , -330.93130129],\n",
              "       [-118.76702047,  -90.5414419 , -454.24948915,  224.53671181,\n",
              "         185.8639328 , -330.93130129],\n",
              "       [-118.76702047,  -90.5414419 , -454.24948915,  224.53671181,\n",
              "         185.8639328 , -330.93130129]])"
            ]
          },
          "metadata": {},
          "execution_count": 10
        }
      ]
    },
    {
      "cell_type": "code",
      "source": [
        "H.shape"
      ],
      "metadata": {
        "colab": {
          "base_uri": "https://localhost:8080/"
        },
        "id": "YI9WfNCkDuws",
        "outputId": "6fa34340-01ce-4fd2-a607-613a01920e86"
      },
      "execution_count": null,
      "outputs": [
        {
          "output_type": "execute_result",
          "data": {
            "text/plain": [
              "(4, 6)"
            ]
          },
          "metadata": {},
          "execution_count": 11
        }
      ]
    },
    {
      "cell_type": "code",
      "source": [
        "X.shape"
      ],
      "metadata": {
        "colab": {
          "base_uri": "https://localhost:8080/"
        },
        "id": "XUbPfTbODwSw",
        "outputId": "ddbc7c67-704f-4cd9-f481-fe67cd50a9ff"
      },
      "execution_count": null,
      "outputs": [
        {
          "output_type": "execute_result",
          "data": {
            "text/plain": [
              "(4, 6)"
            ]
          },
          "metadata": {},
          "execution_count": 12
        }
      ]
    },
    {
      "cell_type": "markdown",
      "source": [
        "## 3. 封装torch模型"
      ],
      "metadata": {
        "id": "RokOgrGMQX6p"
      }
    },
    {
      "cell_type": "markdown",
      "source": [
        "在[Neural Network Tutorial](https://colab.research.google.com/drive/1nWz3-wz9WouCE6KW_Yn4m6HzGQM39VSC#scrollTo=3QSeelx8IT6Y)中提到过，为了进行训练，我们要把self-attention封装成一个`nn.Module`模块"
      ],
      "metadata": {
        "id": "M_F0eIk6EbVY"
      }
    },
    {
      "cell_type": "code",
      "source": [
        "class SelfAttention(nn.Module):\n",
        "\n",
        "  def __init__(self):\n",
        "    super().__init__()\n",
        "    self.W_q = nn.Parameter(torch.randn(6, 6))\n",
        "    self.W_k = nn.Parameter(torch.randn(6, 6))\n",
        "    self.W_v = nn.Parameter(torch.randn(6, 6))\n",
        "    self.softmax = nn.Softmax(-1)\n",
        "\n",
        "  def forward(self, X):\n",
        "    Q = X @ self.W_q\n",
        "    K = X @ self.W_k\n",
        "    V = X @ self.W_v\n",
        "    attention_scores = self.softmax(Q @ K.T)\n",
        "    Y = attention_scores @ V\n",
        "    return Y\n",
        "\n",
        "self_attention_module = SelfAttention()\n",
        "self_attention_module(torch.tensor(X, dtype=torch.float32))"
      ],
      "metadata": {
        "colab": {
          "base_uri": "https://localhost:8080/"
        },
        "id": "X_GDzSCEDxJ0",
        "outputId": "ae1570af-cb9e-41b2-cce8-cab908384fb7"
      },
      "execution_count": null,
      "outputs": [
        {
          "output_type": "execute_result",
          "data": {
            "text/plain": [
              "tensor([[-499.4633,  370.6825, 1100.7992,  643.9886, -173.1711,  343.9676],\n",
              "        [-499.4633,  370.6825, 1100.7992,  643.9886, -173.1711,  343.9676],\n",
              "        [-499.4633,  370.6825, 1100.7992,  643.9886, -173.1711,  343.9676],\n",
              "        [-499.4633,  370.6825, 1100.7992,  643.9886, -173.1711,  343.9676]],\n",
              "       grad_fn=<MmBackward0>)"
            ]
          },
          "metadata": {},
          "execution_count": 13
        }
      ]
    },
    {
      "cell_type": "markdown",
      "source": [
        "## 4. 一些Tricks\n",
        "\n",
        "上面`SelfAttention`函数输出的结果有些奇怪，输出了4个相同的向量。\n",
        "\n",
        "把`softmax`前后的`attention_scores`打印出来可以发现：\n",
        "\n",
        "- `softmax`之前，注意力分数的数量级很大，都是$10^5$级别的\n",
        "- 经过`softmax`后，只有一列是1，其他位置都是0"
      ],
      "metadata": {
        "id": "3o79F_MtHhjX"
      }
    },
    {
      "cell_type": "code",
      "source": [
        "class SelfAttention(nn.Module):\n",
        "\n",
        "  def __init__(self):\n",
        "    super().__init__()\n",
        "    self.W_q = nn.Parameter(torch.randn(6, 6))\n",
        "    self.W_k = nn.Parameter(torch.randn(6, 6))\n",
        "    self.W_v = nn.Parameter(torch.randn(6, 6))\n",
        "    self.softmax = nn.Softmax(-1)\n",
        "\n",
        "  def forward(self, X):\n",
        "    Q = X @ self.W_q\n",
        "    K = X @ self.W_k\n",
        "    V = X @ self.W_v\n",
        "    attention_scores = Q @ K.T\n",
        "    print(attention_scores)\n",
        "    attention_scores = self.softmax(attention_scores)\n",
        "    print(attention_scores)\n",
        "    Y = attention_scores @ V\n",
        "    return Y\n",
        "\n",
        "self_attention_module = SelfAttention()\n",
        "self_attention_module(torch.tensor(X, dtype=torch.float32))"
      ],
      "metadata": {
        "colab": {
          "base_uri": "https://localhost:8080/"
        },
        "id": "uo7PYLzcF846",
        "outputId": "aa88c865-9206-4fd4-8302-9e4e75ac7c62"
      },
      "execution_count": null,
      "outputs": [
        {
          "output_type": "stream",
          "name": "stdout",
          "text": [
            "tensor([[451053.6250, 470461.4375, 480011.5000, 495996.7188],\n",
            "        [529195.3125, 552199.7500, 562567.8750, 581724.2500],\n",
            "        [548142.8750, 571568.6875, 582370.5625, 602166.4375],\n",
            "        [562730.3750, 587006.2500, 598057.0000, 618403.8750]],\n",
            "       grad_fn=<MmBackward0>)\n",
            "tensor([[0., 0., 0., 1.],\n",
            "        [0., 0., 0., 1.],\n",
            "        [0., 0., 0., 1.],\n",
            "        [0., 0., 0., 1.]], grad_fn=<SoftmaxBackward0>)\n"
          ]
        },
        {
          "output_type": "execute_result",
          "data": {
            "text/plain": [
              "tensor([[  23.0905, -694.8510,  610.4684,  427.4961, -288.8658, -148.9294],\n",
              "        [  23.0905, -694.8510,  610.4684,  427.4961, -288.8658, -148.9294],\n",
              "        [  23.0905, -694.8510,  610.4684,  427.4961, -288.8658, -148.9294],\n",
              "        [  23.0905, -694.8510,  610.4684,  427.4961, -288.8658, -148.9294]],\n",
              "       grad_fn=<MmBackward0>)"
            ]
          },
          "metadata": {},
          "execution_count": 14
        }
      ]
    },
    {
      "cell_type": "markdown",
      "source": [
        "从经验来看，可能是因为我们随机初始化的参数`W^q,W^k,W^v`的数量级太大。\n",
        "\n",
        "`torch.randn(a, b)`默认产生一系列服从标准正态分布的随机数（均值为0，标准差为1），然后填充到形状为`(a, b)`的矩阵中。\n",
        "\n",
        "我们可以调小标准差的数量级，从1调至0.01："
      ],
      "metadata": {
        "id": "oqbQQ0uQPoZz"
      }
    },
    {
      "cell_type": "code",
      "source": [
        "class SelfAttention(nn.Module):\n",
        "\n",
        "  def __init__(self):\n",
        "    super().__init__()\n",
        "    self.W_q = nn.Parameter(torch.randn(6, 6) / 100)\n",
        "    self.W_k = nn.Parameter(torch.randn(6, 6) / 100)\n",
        "    self.W_v = nn.Parameter(torch.randn(6, 6) / 100)\n",
        "    self.softmax = nn.Softmax(-1)\n",
        "\n",
        "  def forward(self, X):\n",
        "    Q = X @ self.W_q\n",
        "    K = X @ self.W_k\n",
        "    V = X @ self.W_v\n",
        "    attention_scores = Q @ K.T\n",
        "    print(attention_scores)\n",
        "    attention_scores = self.softmax(attention_scores)\n",
        "    print(attention_scores)\n",
        "    Y = attention_scores @ V\n",
        "    return Y\n",
        "\n",
        "self_attention_module = SelfAttention()\n",
        "self_attention_module(torch.tensor(X, dtype=torch.float32))"
      ],
      "metadata": {
        "colab": {
          "base_uri": "https://localhost:8080/"
        },
        "id": "TOGcmiT3PH2L",
        "outputId": "78d7f578-2a0d-4c51-cc09-d585c260b09c"
      },
      "execution_count": null,
      "outputs": [
        {
          "output_type": "stream",
          "name": "stdout",
          "text": [
            "tensor([[22.7238, 26.1755, 25.8179, 26.9629],\n",
            "        [23.0903, 27.1591, 26.7285, 27.9385],\n",
            "        [23.9255, 28.0852, 27.6483, 28.8961],\n",
            "        [24.4905, 28.8076, 28.3517, 29.6352]], grad_fn=<MmBackward0>)\n",
            "tensor([[0.0081, 0.2545, 0.1780, 0.5594],\n",
            "        [0.0044, 0.2599, 0.1690, 0.5667],\n",
            "        [0.0040, 0.2557, 0.1652, 0.5752],\n",
            "        [0.0034, 0.2541, 0.1611, 0.5814]], grad_fn=<SoftmaxBackward0>)\n"
          ]
        },
        {
          "output_type": "execute_result",
          "data": {
            "text/plain": [
              "tensor([[-0.7230, -1.7021, -2.9081,  3.9040, -0.9363,  2.1705],\n",
              "        [-0.7226, -1.7039, -2.9097,  3.9048, -0.9374,  2.1702],\n",
              "        [-0.7229, -1.7044, -2.9109,  3.9064, -0.9379,  2.1710],\n",
              "        [-0.7230, -1.7050, -2.9118,  3.9073, -0.9384,  2.1714]],\n",
              "       grad_fn=<MmBackward0>)"
            ]
          },
          "metadata": {},
          "execution_count": 15
        }
      ]
    },
    {
      "cell_type": "markdown",
      "source": [
        "这样计算出来的`attention_scores`和最终的输出`Y`都不是极端的数值。\n",
        "\n",
        "- 极端的数值可能意味着参数初始化的错误。\n",
        "- 极端的数值可能不利于梯度的计算。"
      ],
      "metadata": {
        "id": "bJpexFiMP-kY"
      }
    },
    {
      "cell_type": "markdown",
      "source": [
        "## 5. 批量矩阵乘法和Broadcast的概念\n",
        "\n",
        "批量化矩阵乘法："
      ],
      "metadata": {
        "id": "lI6Adtnvd8cc"
      }
    },
    {
      "cell_type": "code",
      "source": [
        "A = torch.randn(3, 5, 4)\n",
        "B = torch.randn(3, 4, 5)\n",
        "C = A @ B\n",
        "C.size()"
      ],
      "metadata": {
        "colab": {
          "base_uri": "https://localhost:8080/"
        },
        "id": "u57nV0FEeEQt",
        "outputId": "a0b39b17-910d-4007-e76b-33c2f2272ae9"
      },
      "execution_count": null,
      "outputs": [
        {
          "output_type": "execute_result",
          "data": {
            "text/plain": [
              "torch.Size([3, 5, 5])"
            ]
          },
          "metadata": {},
          "execution_count": 16
        }
      ]
    },
    {
      "cell_type": "markdown",
      "source": [
        "不管前面有多少维，需要保证最后两维的形状符合矩阵乘法规则，且前面的维度对应相同："
      ],
      "metadata": {
        "id": "kh0QQ2L0efnt"
      }
    },
    {
      "cell_type": "code",
      "source": [
        "A = torch.randn(3, 4, 2, 5, 4)\n",
        "B = torch.randn(3, 4, 2, 4, 5)\n",
        "C = A @ B\n",
        "C.size()"
      ],
      "metadata": {
        "colab": {
          "base_uri": "https://localhost:8080/"
        },
        "id": "OLP9kkYIeooC",
        "outputId": "d34b7e57-62d1-4b35-be04-492899ec6f6f"
      },
      "execution_count": null,
      "outputs": [
        {
          "output_type": "execute_result",
          "data": {
            "text/plain": [
              "torch.Size([3, 4, 2, 5, 5])"
            ]
          },
          "metadata": {},
          "execution_count": 17
        }
      ]
    },
    {
      "cell_type": "markdown",
      "source": [
        "转置不能再用`T`，因为`T`本质上转置的是第一维和最后一维："
      ],
      "metadata": {
        "id": "N5ha002Qe7OB"
      }
    },
    {
      "cell_type": "code",
      "source": [
        "A = torch.randn(3, 5, 4)\n",
        "A.T.size()"
      ],
      "metadata": {
        "colab": {
          "base_uri": "https://localhost:8080/"
        },
        "id": "07RFgKlee9Ax",
        "outputId": "7d4eb768-417d-42a0-de06-ab9cbae21e4b"
      },
      "execution_count": null,
      "outputs": [
        {
          "output_type": "stream",
          "name": "stderr",
          "text": [
            "<ipython-input-18-5ddffc5339c1>:2: UserWarning: The use of `x.T` on tensors of dimension other than 2 to reverse their shape is deprecated and it will throw an error in a future release. Consider `x.mT` to transpose batches of matrices or `x.permute(*torch.arange(x.ndim - 1, -1, -1))` to reverse the dimensions of a tensor. (Triggered internally at ../aten/src/ATen/native/TensorShape.cpp:3683.)\n",
            "  A.T.size()\n"
          ]
        },
        {
          "output_type": "execute_result",
          "data": {
            "text/plain": [
              "torch.Size([4, 5, 3])"
            ]
          },
          "metadata": {},
          "execution_count": 18
        }
      ]
    },
    {
      "cell_type": "markdown",
      "source": [
        "批量的矩阵乘法应该转置倒数第二和倒数第一维；\n",
        "\n",
        "下面的例子使用`transpose(1, 2)`转置了第二维（索引1）和第三维（索引2）："
      ],
      "metadata": {
        "id": "GJI5_zAmfNGn"
      }
    },
    {
      "cell_type": "code",
      "source": [
        "A = torch.randn(3, 5, 4)\n",
        "B = torch.randn(3, 5, 4)\n",
        "C = A @ B.transpose(1, 2)\n",
        "C.size()"
      ],
      "metadata": {
        "colab": {
          "base_uri": "https://localhost:8080/"
        },
        "id": "l5Ot72LReT4t",
        "outputId": "80c4b84f-f7cc-4aa5-ae4e-99f2afaa3b13"
      },
      "execution_count": null,
      "outputs": [
        {
          "output_type": "execute_result",
          "data": {
            "text/plain": [
              "torch.Size([3, 5, 5])"
            ]
          },
          "metadata": {},
          "execution_count": 19
        }
      ]
    },
    {
      "cell_type": "markdown",
      "source": [
        "批量矩阵乘法支持broadcast.\n",
        "\n",
        "什么是broadcast？例如，一个向量加上一个标量，这个标量会被加到向量的每个元素上："
      ],
      "metadata": {
        "id": "MYMvrS-ufu15"
      }
    },
    {
      "cell_type": "code",
      "source": [
        "x = torch.tensor([1.0, 2.0, 3.0])\n",
        "s = torch.tensor(0.5)\n",
        "x + s"
      ],
      "metadata": {
        "colab": {
          "base_uri": "https://localhost:8080/"
        },
        "id": "FAalrKIjgOWl",
        "outputId": "1c7ce45c-9f9b-4914-ec20-4222c5f9eff9"
      },
      "execution_count": null,
      "outputs": [
        {
          "output_type": "execute_result",
          "data": {
            "text/plain": [
              "tensor([1.5000, 2.5000, 3.5000])"
            ]
          },
          "metadata": {},
          "execution_count": 20
        }
      ]
    },
    {
      "cell_type": "markdown",
      "source": [
        "一个矩阵加上一个 行/列 向量，这个 行/列 向量会被加到矩阵的每一 行/列："
      ],
      "metadata": {
        "id": "MDK7v2cZgaO3"
      }
    },
    {
      "cell_type": "code",
      "source": [
        "A = torch.zeros(4, 3)\n",
        "x = torch.tensor([1.0, 2.0, 3.0])\n",
        "A + x"
      ],
      "metadata": {
        "colab": {
          "base_uri": "https://localhost:8080/"
        },
        "id": "FTzqTDe5gl4y",
        "outputId": "364e56d2-1f49-4639-edc0-1237a0102099"
      },
      "execution_count": null,
      "outputs": [
        {
          "output_type": "execute_result",
          "data": {
            "text/plain": [
              "tensor([[1., 2., 3.],\n",
              "        [1., 2., 3.],\n",
              "        [1., 2., 3.],\n",
              "        [1., 2., 3.]])"
            ]
          },
          "metadata": {},
          "execution_count": 21
        }
      ]
    },
    {
      "cell_type": "code",
      "source": [
        "B = torch.zeros(4, 3)\n",
        "y = torch.tensor([\n",
        "    [1.0],\n",
        "    [2.0],\n",
        "    [3.0],\n",
        "    [4.0],\n",
        "])\n",
        "B + y"
      ],
      "metadata": {
        "colab": {
          "base_uri": "https://localhost:8080/"
        },
        "id": "VuHRg06TgyD_",
        "outputId": "102ab083-969e-4cfc-eb67-1bc1c575cd50"
      },
      "execution_count": null,
      "outputs": [
        {
          "output_type": "execute_result",
          "data": {
            "text/plain": [
              "tensor([[1., 1., 1.],\n",
              "        [2., 2., 2.],\n",
              "        [3., 3., 3.],\n",
              "        [4., 4., 4.]])"
            ]
          },
          "metadata": {},
          "execution_count": 22
        }
      ]
    },
    {
      "cell_type": "markdown",
      "source": [
        "但是并非所有形状不匹配的tensor进行运算都能发生broadcast\n",
        "\n",
        "一个形状为`(4, 3)`的矩阵与形状为`(4, 1)`和`(1, 3)`的矩阵相加都可以发生broadcast\n",
        "\n",
        "但是与形状为`(4, 2)`或`(2, 3)`的矩阵相加会发生错误："
      ],
      "metadata": {
        "id": "2g-psVCOhHsk"
      }
    },
    {
      "cell_type": "code",
      "source": [
        "A = torch.randn(4, 3)\n",
        "B = torch.randn(4, 1)\n",
        "A + B"
      ],
      "metadata": {
        "colab": {
          "base_uri": "https://localhost:8080/"
        },
        "id": "ebdovZFRhpQD",
        "outputId": "7f427734-c162-4a34-a40b-01f553d08a52"
      },
      "execution_count": null,
      "outputs": [
        {
          "output_type": "execute_result",
          "data": {
            "text/plain": [
              "tensor([[ 1.5509,  1.2795,  1.1821],\n",
              "        [ 0.6343,  0.0106,  1.7354],\n",
              "        [ 4.4817,  0.1474,  1.5750],\n",
              "        [-0.7164, -2.3884, -2.2045]])"
            ]
          },
          "metadata": {},
          "execution_count": 23
        }
      ]
    },
    {
      "cell_type": "code",
      "source": [
        "A = torch.randn(4, 3)\n",
        "B = torch.randn(1, 3)\n",
        "A + B"
      ],
      "metadata": {
        "colab": {
          "base_uri": "https://localhost:8080/"
        },
        "id": "LAY3PNh5h1CY",
        "outputId": "da989f56-d537-4147-ccdf-4eea8bc42015"
      },
      "execution_count": null,
      "outputs": [
        {
          "output_type": "execute_result",
          "data": {
            "text/plain": [
              "tensor([[ 0.7389, -0.0661, -0.7843],\n",
              "        [ 1.4201,  0.5694, -1.3937],\n",
              "        [ 1.2893,  1.2604, -1.6130],\n",
              "        [ 1.7330, -1.4413,  0.1327]])"
            ]
          },
          "metadata": {},
          "execution_count": 24
        }
      ]
    },
    {
      "cell_type": "code",
      "source": [
        "# A = torch.randn(4, 3)\n",
        "# B = torch.randn(4, 2)\n",
        "# A + B"
      ],
      "metadata": {
        "id": "gzV0USyeh2Zk"
      },
      "execution_count": null,
      "outputs": []
    },
    {
      "cell_type": "code",
      "source": [
        "# A = torch.randn(4, 3)\n",
        "# B = torch.randn(2, 3)\n",
        "# A + B"
      ],
      "metadata": {
        "id": "3WCi5yzFh4zs"
      },
      "execution_count": null,
      "outputs": []
    },
    {
      "cell_type": "markdown",
      "source": [
        "矩阵乘法的broadcast:"
      ],
      "metadata": {
        "id": "wvNtfKQPiCJ0"
      }
    },
    {
      "cell_type": "code",
      "source": [
        "A = torch.randn(3, 5, 4)\n",
        "B = torch.randn(4, 5)\n",
        "C1 = A @ B\n",
        "C2 = B @ A"
      ],
      "metadata": {
        "id": "Riypd01pifHo"
      },
      "execution_count": null,
      "outputs": []
    },
    {
      "cell_type": "markdown",
      "source": [
        "`C1`表示将`A`中的3个`(5, 4)`的矩阵分别与`B`这一个`(4, 5)`的矩阵相乘\n",
        "\n",
        "`C2`表示将`B`这一个`(4, 5)`的矩阵与`A`中的3个`(5, 4)`的矩阵分别相乘"
      ],
      "metadata": {
        "id": "qBuzXFHUimLL"
      }
    },
    {
      "cell_type": "code",
      "source": [
        "C1.size()"
      ],
      "metadata": {
        "colab": {
          "base_uri": "https://localhost:8080/"
        },
        "id": "ih_Ew7WJihzy",
        "outputId": "56a2e451-96a7-4af3-b3fe-fbd7f9e22ccb"
      },
      "execution_count": null,
      "outputs": [
        {
          "output_type": "execute_result",
          "data": {
            "text/plain": [
              "torch.Size([3, 5, 5])"
            ]
          },
          "metadata": {},
          "execution_count": 28
        }
      ]
    },
    {
      "cell_type": "code",
      "source": [
        "C2.size()"
      ],
      "metadata": {
        "colab": {
          "base_uri": "https://localhost:8080/"
        },
        "id": "UvoBhaDEijZJ",
        "outputId": "9bf43c56-692e-4f04-8835-fb59820810b0"
      },
      "execution_count": null,
      "outputs": [
        {
          "output_type": "execute_result",
          "data": {
            "text/plain": [
              "torch.Size([3, 4, 4])"
            ]
          },
          "metadata": {},
          "execution_count": 29
        }
      ]
    },
    {
      "cell_type": "markdown",
      "source": [
        "## 6. 批量化`SelfAttention`\n",
        "\n",
        "我们将`SelfAttention`中的矩阵运算批量化，使其可以接收批量的`X`:"
      ],
      "metadata": {
        "id": "gI6chi2QdnnY"
      }
    },
    {
      "cell_type": "code",
      "source": [
        "class SelfAttention(nn.Module):\n",
        "\n",
        "  def __init__(self):\n",
        "    super().__init__()\n",
        "    self.W_q = nn.Parameter(torch.randn(6, 6) / 100)\n",
        "    self.W_k = nn.Parameter(torch.randn(6, 6) / 100)\n",
        "    self.W_v = nn.Parameter(torch.randn(6, 6) / 100)\n",
        "    self.softmax = nn.Softmax(-1)\n",
        "\n",
        "  def forward(self, X):\n",
        "    Q = X @ self.W_q\n",
        "    K = X @ self.W_k\n",
        "    V = X @ self.W_v\n",
        "    attention_scores = Q @ K.transpose(1, 2)  # 转置后两维\n",
        "    attention_scores = self.softmax(attention_scores)\n",
        "    Y = attention_scores @ V\n",
        "    return Y\n",
        "\n",
        "self_attention_module = SelfAttention()\n",
        "X_batch = torch.tensor(X, dtype=torch.float32).unsqueeze(0)  # 增加一个维度，模拟batch=1的输入\n",
        "print(X_batch.shape)\n",
        "H_batch = self_attention_module(X_batch)\n",
        "print(H_batch.shape)"
      ],
      "metadata": {
        "colab": {
          "base_uri": "https://localhost:8080/"
        },
        "id": "z-mAO0D1dmAp",
        "outputId": "f9d2157c-7ea7-4fcc-af06-d7902ca1cbeb"
      },
      "execution_count": null,
      "outputs": [
        {
          "output_type": "stream",
          "name": "stdout",
          "text": [
            "torch.Size([1, 4, 6])\n",
            "torch.Size([1, 4, 6])\n"
          ]
        }
      ]
    },
    {
      "cell_type": "markdown",
      "source": [
        "## 7. 搭建最终数值预测模型\n",
        "\n",
        "搭建最终的数值预测模型需要以下（可训练）模块：\n",
        "\n",
        "- SelfAttention：提取序列特征\n",
        "- FNN：全连接神经网络，两个线性层，进一步提取每个位置的特征\n",
        "- 数值输出头：线性层，将特征映射为最终的输出值\n",
        "\n",
        "另外还需要引入以下机制：\n",
        "\n",
        "- 激活函数：使函数具有非线性特征，可以建模非线性的关系\n",
        "- 池化（Pooling）：后面详细讲\n",
        "\n",
        "这里我们**没有**用到：\n",
        "\n",
        "\n",
        "- 残差连接：将输入加到输出上，避免梯度消失\n",
        "- 层归一化：对SelfAttention的输出向量进行归一化，使梯度更加稳定\n",
        "\n",
        "因为我们的网络很浅，梯度本身就可以比较稳定地回传。"
      ],
      "metadata": {
        "id": "urbf0Q3dT7Y_"
      }
    },
    {
      "cell_type": "code",
      "source": [
        "class SelfAttentionPredictModel(nn.Module):\n",
        "\n",
        "  def __init__(self):\n",
        "    super().__init__()\n",
        "    self.attn = SelfAttention()\n",
        "    self.fnn = nn.Sequential(\n",
        "        nn.Linear(6, 16),\n",
        "        nn.Linear(16, 6)\n",
        "    )\n",
        "    self.act = nn.ReLU()\n",
        "    self.pred_head = nn.Linear(6, 1)\n",
        "\n",
        "  def forward(self, X):\n",
        "    H_attn = self.attn(X)\n",
        "    H_fnn = self.fnn(H_attn)\n",
        "    H_act = self.act(H_fnn)\n",
        "    H_pooled = H_act.mean(dim=1)  # 池化\n",
        "    y = self.pred_head(H_pooled) * 100  # 输出头\n",
        "    return y.squeeze(-1)"
      ],
      "metadata": {
        "id": "OKGxXlbFSyho"
      },
      "execution_count": null,
      "outputs": []
    },
    {
      "cell_type": "markdown",
      "source": [
        "网络的架构图如下。整体流程为：\n",
        "\n",
        "1. 原始输入`X`（黄色，前3-5个交易日的数据序列）经过SelfAttention后得到`H_attn`（绿色，每个向量包含所有输入交易日的信息）\n",
        "2. `H_attn`（绿色）经过FNN得到`H_fnn`（橙色），这一步每个向量不关心其他向量，各自单独经过FNN\n",
        "3. 对所有`H_fnn`（橙色）取均值得到一个向量`H_pooled`（灰色），这一步称为池化\n",
        "4. 将`H_pooled`（灰色）输入PredictionHead得到最终的输出，这一输出用来表示下一个交易日的开盘价\n",
        "\n",
        "**池化（Pooling）是什么？**\n",
        "\n",
        "Pooling这一概念兴起于卷积神经网络（Convolutional Neural Network, CNN）。\n",
        "\n",
        "CNN中需要对往往需要对提取到的特征图（feature map）进行降维，一种常见的做法就是取每个2x2的区域的最大值或平均值，前者叫Max Pooling，后者叫Average/Mean Pooling.\n",
        "\n",
        "**我们为什么也需要Pooling？**\n",
        "\n",
        "在基于SelfAttention的模型中，输入序列`X`的长度是不固定的。\n",
        "\n",
        "但是最后需要做 分类/回归 预测时，需要有一个固定大小的向量来“承载”整个序列的特征。\n",
        "\n",
        "我们的做法是对`H_fnn`（橙色）中所有输出向量取平均，可以看作一种Average Pooling\n",
        "\n",
        "还有一种常见的做法是直接取某个位置的向量来承载整个序列的特征，因为`SelfAttention`输出的每个向量都包含了输入序列`X`中每个向量的信息，所以理论上可以用输出向量序列中的任一向量来表示整个序列的特征：\n",
        "\n",
        "- BERT: 使用BERT架构的模型做句子分类时，输出向量序列中的第1个向量会被用来作为整个句子的特征向量\n",
        "- GPT: 使用GPT架构的模型做句子分类时，输出向量序列中的最后一个向量会被用来作为整个句子的特征向量"
      ],
      "metadata": {
        "id": "wSB5ZPrgXgJ2"
      }
    },
    {
      "cell_type": "markdown",
      "source": [
        "![image.png](data:image/png;base64,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)"
      ],
      "metadata": {
        "id": "XzguYRiWV0sE"
      }
    },
    {
      "cell_type": "markdown",
      "source": [
        "## 8. PyTorch数据集（Dataset）和数据加载器（DataLoader）\n",
        "\n",
        "把DataFrame封装成pytorch数据集："
      ],
      "metadata": {
        "id": "5vBAO8E1NTiG"
      }
    },
    {
      "cell_type": "code",
      "source": [
        "data_train = data_selected.iloc[:-100]\n",
        "data_test = data_selected.iloc[-100:]\n",
        "\n",
        "\n",
        "class StockDataset(Dataset):\n",
        "\n",
        "  def __init__(self, data_frame):\n",
        "    super().__init__()\n",
        "    self.data = data_frame.iloc[:, 1:]\n",
        "\n",
        "  def __getitem__(self, idx):\n",
        "    i = idx + 5  # 跳过最开始的5个交易日\n",
        "    y = self.data[\"Open\"].iloc[i]\n",
        "    seq_len = np.random.randint(3, 6)  # 随机考虑3-5个交易日\n",
        "    X = self.data.iloc[i-seq_len:i]\n",
        "    return np.array(X), np.array(y)\n",
        "\n",
        "  def __len__(self):\n",
        "    return len(self.data) - 5\n",
        "\n",
        "\n",
        "dataset_train = StockDataset(data_train)\n",
        "dataset_test = StockDataset(data_test)"
      ],
      "metadata": {
        "id": "LW8pTrAxSIqY"
      },
      "execution_count": null,
      "outputs": []
    },
    {
      "cell_type": "code",
      "source": [
        "len(dataset_train)"
      ],
      "metadata": {
        "colab": {
          "base_uri": "https://localhost:8080/"
        },
        "id": "qa1NlNhQbvOT",
        "outputId": "60e2606f-ee13-42d4-a095-7d9e8ce184b3"
      },
      "execution_count": null,
      "outputs": [
        {
          "output_type": "execute_result",
          "data": {
            "text/plain": [
              "3993"
            ]
          },
          "metadata": {},
          "execution_count": 33
        }
      ]
    },
    {
      "cell_type": "code",
      "source": [
        "len(dataset_test)"
      ],
      "metadata": {
        "colab": {
          "base_uri": "https://localhost:8080/"
        },
        "id": "pK-B5wA2bw0B",
        "outputId": "2158ad8a-af72-4f4c-feaf-af92e7fa0604"
      },
      "execution_count": null,
      "outputs": [
        {
          "output_type": "execute_result",
          "data": {
            "text/plain": [
              "95"
            ]
          },
          "metadata": {},
          "execution_count": 34
        }
      ]
    },
    {
      "cell_type": "code",
      "source": [
        "dataset_train[0]"
      ],
      "metadata": {
        "colab": {
          "base_uri": "https://localhost:8080/"
        },
        "id": "SG16fC7js-fx",
        "outputId": "0de8bc33-af07-49d9-9cef-29a5808ce139"
      },
      "execution_count": null,
      "outputs": [
        {
          "output_type": "execute_result",
          "data": {
            "text/plain": [
              "(array([[167.  , 167.75, 174.85, 166.25, 173.6 , 173.35],\n",
              "        [173.35, 174.25, 179.25, 174.25, 178.6 , 177.95],\n",
              "        [177.95, 200.  , 200.  , 173.  , 176.3 , 176.2 ]]),\n",
              " array(176.45))"
            ]
          },
          "metadata": {},
          "execution_count": 35
        }
      ]
    },
    {
      "cell_type": "markdown",
      "source": [
        "将数据集封装到`DataLoader`中，按batch遍历。这里`batch_size`先设为1，之后讲如何将不同长度的序列攒成batch."
      ],
      "metadata": {
        "id": "L6aRXTgpNZj5"
      }
    },
    {
      "cell_type": "code",
      "source": [
        "loader_train = DataLoader(dataset_train, batch_size=1)\n",
        "loader_test = DataLoader(dataset_test, batch_size=1)"
      ],
      "metadata": {
        "id": "h19VvqMTb0n6"
      },
      "execution_count": null,
      "outputs": []
    },
    {
      "cell_type": "markdown",
      "source": [
        "数据集被封装成了可遍历的`DataLoader`对象："
      ],
      "metadata": {
        "id": "jjSwo6VklmgF"
      }
    },
    {
      "cell_type": "code",
      "source": [
        "for batch in loader_train:\n",
        "  X, y = batch\n",
        "  print(X.shape)\n",
        "  print(y.shape)\n",
        "  print(X)\n",
        "  print(y)\n",
        "  break"
      ],
      "metadata": {
        "colab": {
          "base_uri": "https://localhost:8080/"
        },
        "id": "6HWyQXjOlztl",
        "outputId": "e57cafaa-ffb9-4e2c-9b54-d761dee1fd71"
      },
      "execution_count": null,
      "outputs": [
        {
          "output_type": "stream",
          "name": "stdout",
          "text": [
            "torch.Size([1, 4, 6])\n",
            "torch.Size([1])\n",
            "tensor([[[164.3000, 167.0000, 168.7000, 164.5000, 167.0000, 167.0000],\n",
            "         [167.0000, 167.7500, 174.8500, 166.2500, 173.6000, 173.3500],\n",
            "         [173.3500, 174.2500, 179.2500, 174.2500, 178.6000, 177.9500],\n",
            "         [177.9500, 200.0000, 200.0000, 173.0000, 176.3000, 176.2000]]],\n",
            "       dtype=torch.float64)\n",
            "tensor([176.4500], dtype=torch.float64)\n"
          ]
        }
      ]
    },
    {
      "cell_type": "markdown",
      "source": [
        "## 9. 训练和测试"
      ],
      "metadata": {
        "id": "Hj5xby7HmJCn"
      }
    },
    {
      "cell_type": "markdown",
      "source": [
        "先创建模型："
      ],
      "metadata": {
        "id": "-PZE4BqkNtwI"
      }
    },
    {
      "cell_type": "code",
      "source": [
        "model = SelfAttentionPredictModel()"
      ],
      "metadata": {
        "id": "EbO09UtqN7PO"
      },
      "execution_count": null,
      "outputs": []
    },
    {
      "cell_type": "markdown",
      "source": [
        "在训练之前先测试模型在测试集上的预测误差，可以看到误差达到了100%"
      ],
      "metadata": {
        "id": "6G2AtTdSN9Jz"
      }
    },
    {
      "cell_type": "code",
      "source": [
        "total_error = []\n",
        "for X, y in loader_test:\n",
        "  X = torch.tensor(X, dtype=torch.float32)\n",
        "  y = torch.tensor(y, dtype=torch.float32)\n",
        "  with torch.no_grad():\n",
        "    y_pred = model(X)\n",
        "  error = (y_pred - y).abs() / y.abs()\n",
        "  total_error.append(error)\n",
        "avg_error = sum(total_error) / len(total_error)\n",
        "print(f\"Error: {avg_error.item()*100:.2f}%\")"
      ],
      "metadata": {
        "colab": {
          "base_uri": "https://localhost:8080/"
        },
        "id": "a2UIXQY-OCBx",
        "outputId": "5558d06c-351d-4d85-952f-36adc4a84960"
      },
      "execution_count": null,
      "outputs": [
        {
          "output_type": "stream",
          "name": "stderr",
          "text": [
            "<ipython-input-39-ab9b3b1a218f>:3: UserWarning: To copy construct from a tensor, it is recommended to use sourceTensor.clone().detach() or sourceTensor.clone().detach().requires_grad_(True), rather than torch.tensor(sourceTensor).\n",
            "  X = torch.tensor(X, dtype=torch.float32)\n",
            "<ipython-input-39-ab9b3b1a218f>:4: UserWarning: To copy construct from a tensor, it is recommended to use sourceTensor.clone().detach() or sourceTensor.clone().detach().requires_grad_(True), rather than torch.tensor(sourceTensor).\n",
            "  y = torch.tensor(y, dtype=torch.float32)\n"
          ]
        },
        {
          "output_type": "stream",
          "name": "stdout",
          "text": [
            "Error: 59.39%\n"
          ]
        }
      ]
    },
    {
      "cell_type": "markdown",
      "source": [
        "接下来就是创建一个优化器，并用优化器来优化模型的参数，即训练模型。\n",
        "\n",
        "这里用到了`LinearLR`作为学习率调度器，可以在训练过程中动态地调整学习率。\n",
        "\n",
        "我们把优化器中设定的学习率`2e-4`称为原始学习率，则：\n",
        "\n",
        "- `start_factor=1.0`表示训练开始时的学习率为原始学习率的1.0倍，即`2e-4`\n",
        "- `end_factor=0.5`表示训练结束时的学习率为原始学习率的`0.5`倍，即`1e-4`\n",
        "- `total_iters`表示从`start_factor`变化到`end_factor`需要的步数\n",
        "\n",
        "这里我们一边训练一边打印`loss`和学习率："
      ],
      "metadata": {
        "id": "vkR9cjlSOE8r"
      }
    },
    {
      "cell_type": "code",
      "source": [
        "optimizer = AdamW(model.parameters(), lr=5e-4)\n",
        "num_train_epochs = 20\n",
        "scheduler = LinearLR(optimizer, start_factor=1.0, end_factor=0.5, total_iters=num_train_epochs)\n",
        "\n",
        "\n",
        "def get_lr(optimizer):\n",
        "  for param_group in optimizer.param_groups:\n",
        "    return param_group['lr']\n",
        "\n",
        "\n",
        "for i_epoch in range(num_train_epochs):\n",
        "  total_loss = []\n",
        "  for X, y in loader_train:\n",
        "    X = torch.tensor(X, dtype=torch.float32)\n",
        "    y = torch.tensor(y, dtype=torch.float32)\n",
        "    y_pred = model(X)\n",
        "    loss = (y_pred - y) ** 2  # 均方误差\n",
        "    total_loss.append(loss)\n",
        "  avg_loss = sum(total_loss) / len(total_loss)\n",
        "  print(\"=\"*100)\n",
        "  print(\"Loss:\", avg_loss.item())\n",
        "  print(\"LR:\", get_lr(optimizer))\n",
        "  print(\"=\"*100)\n",
        "  optimizer.zero_grad()\n",
        "  avg_loss.backward()\n",
        "  optimizer.step()\n",
        "  scheduler.step()  # 调整学习率"
      ],
      "metadata": {
        "colab": {
          "base_uri": "https://localhost:8080/"
        },
        "id": "LkqYaAR9RP1Y",
        "outputId": "e5063a6b-b549-4778-abbc-279ef386bc26"
      },
      "execution_count": null,
      "outputs": [
        {
          "output_type": "stream",
          "name": "stderr",
          "text": [
            "<ipython-input-40-80d4f698abfd>:14: UserWarning: To copy construct from a tensor, it is recommended to use sourceTensor.clone().detach() or sourceTensor.clone().detach().requires_grad_(True), rather than torch.tensor(sourceTensor).\n",
            "  X = torch.tensor(X, dtype=torch.float32)\n",
            "<ipython-input-40-80d4f698abfd>:15: UserWarning: To copy construct from a tensor, it is recommended to use sourceTensor.clone().detach() or sourceTensor.clone().detach().requires_grad_(True), rather than torch.tensor(sourceTensor).\n",
            "  y = torch.tensor(y, dtype=torch.float32)\n"
          ]
        },
        {
          "output_type": "stream",
          "name": "stdout",
          "text": [
            "====================================================================================================\n",
            "Loss: 4498435.5\n",
            "LR: 0.0005\n",
            "====================================================================================================\n",
            "====================================================================================================\n",
            "Loss: 3771024.75\n",
            "LR: 0.0004875\n",
            "====================================================================================================\n",
            "====================================================================================================\n",
            "Loss: 2874947.75\n",
            "LR: 0.00047499999999999994\n",
            "====================================================================================================\n",
            "====================================================================================================\n",
            "Loss: 1962572.875\n",
            "LR: 0.00046249999999999997\n",
            "====================================================================================================\n",
            "====================================================================================================\n",
            "Loss: 1195314.375\n",
            "LR: 0.00045\n",
            "====================================================================================================\n",
            "====================================================================================================\n",
            "Loss: 599574.8125\n",
            "LR: 0.0004375\n",
            "====================================================================================================\n",
            "====================================================================================================\n",
            "Loss: 221301.484375\n",
            "LR: 0.00042500000000000003\n",
            "====================================================================================================\n",
            "====================================================================================================\n",
            "Loss: 39062.50390625\n",
            "LR: 0.00041250000000000005\n",
            "====================================================================================================\n",
            "====================================================================================================\n",
            "Loss: 11920.4580078125\n",
            "LR: 0.0004000000000000001\n",
            "====================================================================================================\n",
            "====================================================================================================\n",
            "Loss: 90746.0625\n",
            "LR: 0.0003875000000000001\n",
            "====================================================================================================\n",
            "====================================================================================================\n",
            "Loss: 218228.609375\n",
            "LR: 0.0003750000000000001\n",
            "====================================================================================================\n",
            "====================================================================================================\n",
            "Loss: 347528.46875\n",
            "LR: 0.00036250000000000014\n",
            "====================================================================================================\n",
            "====================================================================================================\n",
            "Loss: 440296.53125\n",
            "LR: 0.00035000000000000016\n",
            "====================================================================================================\n",
            "====================================================================================================\n",
            "Loss: 481792.53125\n",
            "LR: 0.0003375000000000002\n",
            "====================================================================================================\n",
            "====================================================================================================\n",
            "Loss: 479673.8125\n",
            "LR: 0.0003250000000000002\n",
            "====================================================================================================\n",
            "====================================================================================================\n",
            "Loss: 436930.78125\n",
            "LR: 0.0003125000000000002\n",
            "====================================================================================================\n",
            "====================================================================================================\n",
            "Loss: 372052.875\n",
            "LR: 0.0003000000000000002\n",
            "====================================================================================================\n",
            "====================================================================================================\n",
            "Loss: 297712.40625\n",
            "LR: 0.0002875000000000002\n",
            "====================================================================================================\n",
            "====================================================================================================\n",
            "Loss: 223655.125\n",
            "LR: 0.00027500000000000023\n",
            "====================================================================================================\n",
            "====================================================================================================\n",
            "Loss: 157516.6875\n",
            "LR: 0.00026250000000000025\n",
            "====================================================================================================\n"
          ]
        }
      ]
    },
    {
      "cell_type": "markdown",
      "source": [
        "训练完成后在测试集上评估预测误差，相比训练之前有显著的下降\n",
        "\n",
        "（虽然对于实际股票场景来说差得还是很离谱，但对于这么小的模型来说已经很厉害了）："
      ],
      "metadata": {
        "id": "0rs1yDdWPqcQ"
      }
    },
    {
      "cell_type": "code",
      "source": [
        "total_error = []\n",
        "predictions = []\n",
        "for X, y in loader_test:\n",
        "  X = torch.tensor(X, dtype=torch.float32)\n",
        "  y = torch.tensor(y, dtype=torch.float32)\n",
        "  with torch.no_grad():\n",
        "    y_pred = model(X)\n",
        "  predictions.append(y_pred.item())\n",
        "  error = (y_pred - y).abs() / y.abs()\n",
        "  total_error.append(error)\n",
        "avg_error = sum(total_error) / len(total_error)\n",
        "print(f\"Error: {avg_error.item()*100:.2f}%\")"
      ],
      "metadata": {
        "id": "C-mR-xMpdGpA",
        "colab": {
          "base_uri": "https://localhost:8080/"
        },
        "outputId": "4d22ec93-4de7-4eb0-f31f-8fe343a72193"
      },
      "execution_count": null,
      "outputs": [
        {
          "output_type": "stream",
          "name": "stdout",
          "text": [
            "Error: 8.14%\n"
          ]
        },
        {
          "output_type": "stream",
          "name": "stderr",
          "text": [
            "<ipython-input-41-ee3b141bb733>:4: UserWarning: To copy construct from a tensor, it is recommended to use sourceTensor.clone().detach() or sourceTensor.clone().detach().requires_grad_(True), rather than torch.tensor(sourceTensor).\n",
            "  X = torch.tensor(X, dtype=torch.float32)\n",
            "<ipython-input-41-ee3b141bb733>:5: UserWarning: To copy construct from a tensor, it is recommended to use sourceTensor.clone().detach() or sourceTensor.clone().detach().requires_grad_(True), rather than torch.tensor(sourceTensor).\n",
            "  y = torch.tensor(y, dtype=torch.float32)\n"
          ]
        }
      ]
    },
    {
      "cell_type": "markdown",
      "source": [
        "我们可以把预测值的开盘价和真实的开盘价放在一个表中进行一个直观的对比："
      ],
      "metadata": {
        "id": "qV6dLhkEnaZx"
      }
    },
    {
      "cell_type": "code",
      "source": [
        "data_test.insert(3, \"Open (Predicted)\", 0)"
      ],
      "metadata": {
        "id": "DKta4-BtNDOS"
      },
      "execution_count": null,
      "outputs": []
    },
    {
      "cell_type": "code",
      "source": [
        "data_test[\"Open (Predicted)\"][5:] = predictions"
      ],
      "metadata": {
        "colab": {
          "base_uri": "https://localhost:8080/"
        },
        "id": "ucKuA5Y8pG7a",
        "outputId": "14f6b3d4-6a5a-480f-e33b-a627b6893cc6"
      },
      "execution_count": null,
      "outputs": [
        {
          "output_type": "stream",
          "name": "stderr",
          "text": [
            "<ipython-input-43-febcd6bc6301>:1: FutureWarning: ChainedAssignmentError: behaviour will change in pandas 3.0!\n",
            "You are setting values through chained assignment. Currently this works in certain cases, but when using Copy-on-Write (which will become the default behaviour in pandas 3.0) this will never work to update the original DataFrame or Series, because the intermediate object on which we are setting values will behave as a copy.\n",
            "A typical example is when you are setting values in a column of a DataFrame, like:\n",
            "\n",
            "df[\"col\"][row_indexer] = value\n",
            "\n",
            "Use `df.loc[row_indexer, \"col\"] = values` instead, to perform the assignment in a single step and ensure this keeps updating the original `df`.\n",
            "\n",
            "See the caveats in the documentation: https://pandas.pydata.org/pandas-docs/stable/user_guide/indexing.html#returning-a-view-versus-a-copy\n",
            "\n",
            "  data_test[\"Open (Predicted)\"][5:] = predictions\n",
            "<ipython-input-43-febcd6bc6301>:1: SettingWithCopyWarning: \n",
            "A value is trying to be set on a copy of a slice from a DataFrame\n",
            "\n",
            "See the caveats in the documentation: https://pandas.pydata.org/pandas-docs/stable/user_guide/indexing.html#returning-a-view-versus-a-copy\n",
            "  data_test[\"Open (Predicted)\"][5:] = predictions\n",
            "<ipython-input-43-febcd6bc6301>:1: FutureWarning: Setting an item of incompatible dtype is deprecated and will raise an error in a future version of pandas. Value '[6239.73486328125, 6251.32080078125, 6461.4951171875, 6376.962890625, 6376.962890625, 6376.962890625, 6431.38720703125, 6531.880859375, 6681.005859375, 6681.615234375, 6681.615234375, 6757.92626953125, 6757.92626953125, 6757.92626953125, 6757.92626953125, 6763.09130859375, 6627.9599609375, 6582.9560546875, 6513.02197265625, 6582.95654296875, 6656.81689453125, 6916.236328125, 6954.98486328125, 6954.98486328125, 6954.984375, 6954.98486328125, 6954.984375, 6877.55908203125, 6877.55908203125, 7275.65380859375, 7475.30126953125, 7475.30126953125, 7475.30126953125, 7282.74853515625, 7475.30126953125, 7319.17724609375, 7263.5576171875, 7263.5576171875, 7263.5576171875, 7263.5576171875, 7263.5576171875, 7141.24853515625, 7265.33740234375, 7406.75732421875, 7494.92626953125, 7560.93212890625, 7716.80078125, 7832.98876953125, 7855.22998046875, 7943.68212890625, 7978.75732421875, 8001.05810546875, 8095.93896484375, 8199.3564453125, 8199.3564453125, 8199.3564453125, 8166.0498046875, 8199.3564453125, 8166.0498046875, 8166.0498046875, 8045.33154296875, 7897.9951171875, 7782.10302734375, 7782.10205078125, 7742.4501953125, 7742.4501953125, 7742.45068359375, 7742.4501953125, 7607.1875, 7655.9287109375, 7670.75341796875, 7703.83984375, 7703.83837890625, 7819.2568359375, 7819.25732421875, 7819.25830078125, 7819.25830078125, 7731.5400390625, 7731.5390625, 7634.5595703125, 7666.1103515625, 7500.09228515625, 7500.09326171875, 7537.86474609375, 7644.8935546875, 7719.7607421875, 7719.7607421875, 7760.86572265625, 7775.99169921875, 7800.23974609375, 7856.81298828125, 7904.2470703125, 7904.2470703125, 7904.2470703125, 7942.24951171875]' has dtype incompatible with int64, please explicitly cast to a compatible dtype first.\n",
            "  data_test[\"Open (Predicted)\"][5:] = predictions\n"
          ]
        }
      ]
    },
    {
      "cell_type": "code",
      "source": [
        "data_test"
      ],
      "metadata": {
        "colab": {
          "base_uri": "https://localhost:8080/",
          "height": 424
        },
        "id": "PhIuK0S3pIAg",
        "outputId": "2b3a52a7-b306-4b67-8bd4-2136853ef04c"
      },
      "execution_count": null,
      "outputs": [
        {
          "output_type": "execute_result",
          "data": {
            "text/plain": [
              "            Date  Prev Close     Open  Open (Predicted)     High      Low  \\\n",
              "3998  2019-08-01     5469.70  5469.70          0.000000  5615.00  5450.00   \n",
              "3999  2019-08-02     5572.60  5539.60          0.000000  5724.00  5485.00   \n",
              "4000  2019-08-05     5689.35  5600.00          0.000000  5695.00  5452.00   \n",
              "4001  2019-08-06     5670.35  5640.00          0.000000  5849.00  5640.00   \n",
              "4002  2019-08-07     5833.30  5833.95          0.000000  5867.00  5735.70   \n",
              "...          ...         ...      ...               ...      ...      ...   \n",
              "4093  2019-12-24     7360.90  7397.00       7856.812988  7423.70  7302.00   \n",
              "4094  2019-12-26     7327.80  7334.00       7904.247070  7343.45  7222.00   \n",
              "4095  2019-12-27     7240.90  7268.00       7904.247070  7368.50  7251.40   \n",
              "4096  2019-12-30     7344.90  7378.00       7904.247070  7431.95  7341.60   \n",
              "4097  2019-12-31     7416.25  7412.50       7942.249512  7412.50  7355.25   \n",
              "\n",
              "         Last    Close  \n",
              "3998  5586.00  5572.60  \n",
              "3999  5710.00  5689.35  \n",
              "4000  5667.50  5670.35  \n",
              "4001  5830.00  5833.30  \n",
              "4002  5736.00  5775.00  \n",
              "...       ...      ...  \n",
              "4093  7319.50  7327.80  \n",
              "4094  7237.25  7240.90  \n",
              "4095  7354.20  7344.90  \n",
              "4096  7415.00  7416.25  \n",
              "4097  7370.00  7368.60  \n",
              "\n",
              "[100 rows x 8 columns]"
            ],
            "text/html": [
              "\n",
              "  <div id=\"df-95930b10-0a70-4a31-b4aa-eb7ac67a1cdb\" class=\"colab-df-container\">\n",
              "    <div>\n",
              "<style scoped>\n",
              "    .dataframe tbody tr th:only-of-type {\n",
              "        vertical-align: middle;\n",
              "    }\n",
              "\n",
              "    .dataframe tbody tr th {\n",
              "        vertical-align: top;\n",
              "    }\n",
              "\n",
              "    .dataframe thead th {\n",
              "        text-align: right;\n",
              "    }\n",
              "</style>\n",
              "<table border=\"1\" class=\"dataframe\">\n",
              "  <thead>\n",
              "    <tr style=\"text-align: right;\">\n",
              "      <th></th>\n",
              "      <th>Date</th>\n",
              "      <th>Prev Close</th>\n",
              "      <th>Open</th>\n",
              "      <th>Open (Predicted)</th>\n",
              "      <th>High</th>\n",
              "      <th>Low</th>\n",
              "      <th>Last</th>\n",
              "      <th>Close</th>\n",
              "    </tr>\n",
              "  </thead>\n",
              "  <tbody>\n",
              "    <tr>\n",
              "      <th>3998</th>\n",
              "      <td>2019-08-01</td>\n",
              "      <td>5469.70</td>\n",
              "      <td>5469.70</td>\n",
              "      <td>0.000000</td>\n",
              "      <td>5615.00</td>\n",
              "      <td>5450.00</td>\n",
              "      <td>5586.00</td>\n",
              "      <td>5572.60</td>\n",
              "    </tr>\n",
              "    <tr>\n",
              "      <th>3999</th>\n",
              "      <td>2019-08-02</td>\n",
              "      <td>5572.60</td>\n",
              "      <td>5539.60</td>\n",
              "      <td>0.000000</td>\n",
              "      <td>5724.00</td>\n",
              "      <td>5485.00</td>\n",
              "      <td>5710.00</td>\n",
              "      <td>5689.35</td>\n",
              "    </tr>\n",
              "    <tr>\n",
              "      <th>4000</th>\n",
              "      <td>2019-08-05</td>\n",
              "      <td>5689.35</td>\n",
              "      <td>5600.00</td>\n",
              "      <td>0.000000</td>\n",
              "      <td>5695.00</td>\n",
              "      <td>5452.00</td>\n",
              "      <td>5667.50</td>\n",
              "      <td>5670.35</td>\n",
              "    </tr>\n",
              "    <tr>\n",
              "      <th>4001</th>\n",
              "      <td>2019-08-06</td>\n",
              "      <td>5670.35</td>\n",
              "      <td>5640.00</td>\n",
              "      <td>0.000000</td>\n",
              "      <td>5849.00</td>\n",
              "      <td>5640.00</td>\n",
              "      <td>5830.00</td>\n",
              "      <td>5833.30</td>\n",
              "    </tr>\n",
              "    <tr>\n",
              "      <th>4002</th>\n",
              "      <td>2019-08-07</td>\n",
              "      <td>5833.30</td>\n",
              "      <td>5833.95</td>\n",
              "      <td>0.000000</td>\n",
              "      <td>5867.00</td>\n",
              "      <td>5735.70</td>\n",
              "      <td>5736.00</td>\n",
              "      <td>5775.00</td>\n",
              "    </tr>\n",
              "    <tr>\n",
              "      <th>...</th>\n",
              "      <td>...</td>\n",
              "      <td>...</td>\n",
              "      <td>...</td>\n",
              "      <td>...</td>\n",
              "      <td>...</td>\n",
              "      <td>...</td>\n",
              "      <td>...</td>\n",
              "      <td>...</td>\n",
              "    </tr>\n",
              "    <tr>\n",
              "      <th>4093</th>\n",
              "      <td>2019-12-24</td>\n",
              "      <td>7360.90</td>\n",
              "      <td>7397.00</td>\n",
              "      <td>7856.812988</td>\n",
              "      <td>7423.70</td>\n",
              "      <td>7302.00</td>\n",
              "      <td>7319.50</td>\n",
              "      <td>7327.80</td>\n",
              "    </tr>\n",
              "    <tr>\n",
              "      <th>4094</th>\n",
              "      <td>2019-12-26</td>\n",
              "      <td>7327.80</td>\n",
              "      <td>7334.00</td>\n",
              "      <td>7904.247070</td>\n",
              "      <td>7343.45</td>\n",
              "      <td>7222.00</td>\n",
              "      <td>7237.25</td>\n",
              "      <td>7240.90</td>\n",
              "    </tr>\n",
              "    <tr>\n",
              "      <th>4095</th>\n",
              "      <td>2019-12-27</td>\n",
              "      <td>7240.90</td>\n",
              "      <td>7268.00</td>\n",
              "      <td>7904.247070</td>\n",
              "      <td>7368.50</td>\n",
              "      <td>7251.40</td>\n",
              "      <td>7354.20</td>\n",
              "      <td>7344.90</td>\n",
              "    </tr>\n",
              "    <tr>\n",
              "      <th>4096</th>\n",
              "      <td>2019-12-30</td>\n",
              "      <td>7344.90</td>\n",
              "      <td>7378.00</td>\n",
              "      <td>7904.247070</td>\n",
              "      <td>7431.95</td>\n",
              "      <td>7341.60</td>\n",
              "      <td>7415.00</td>\n",
              "      <td>7416.25</td>\n",
              "    </tr>\n",
              "    <tr>\n",
              "      <th>4097</th>\n",
              "      <td>2019-12-31</td>\n",
              "      <td>7416.25</td>\n",
              "      <td>7412.50</td>\n",
              "      <td>7942.249512</td>\n",
              "      <td>7412.50</td>\n",
              "      <td>7355.25</td>\n",
              "      <td>7370.00</td>\n",
              "      <td>7368.60</td>\n",
              "    </tr>\n",
              "  </tbody>\n",
              "</table>\n",
              "<p>100 rows × 8 columns</p>\n",
              "</div>\n",
              "    <div class=\"colab-df-buttons\">\n",
              "\n",
              "  <div class=\"colab-df-container\">\n",
              "    <button class=\"colab-df-convert\" onclick=\"convertToInteractive('df-95930b10-0a70-4a31-b4aa-eb7ac67a1cdb')\"\n",
              "            title=\"Convert this dataframe to an interactive table.\"\n",
              "            style=\"display:none;\">\n",
              "\n",
              "  <svg xmlns=\"http://www.w3.org/2000/svg\" height=\"24px\" viewBox=\"0 -960 960 960\">\n",
              "    <path d=\"M120-120v-720h720v720H120Zm60-500h600v-160H180v160Zm220 220h160v-160H400v160Zm0 220h160v-160H400v160ZM180-400h160v-160H180v160Zm440 0h160v-160H620v160ZM180-180h160v-160H180v160Zm440 0h160v-160H620v160Z\"/>\n",
              "  </svg>\n",
              "    </button>\n",
              "\n",
              "  <style>\n",
              "    .colab-df-container {\n",
              "      display:flex;\n",
              "      gap: 12px;\n",
              "    }\n",
              "\n",
              "    .colab-df-convert {\n",
              "      background-color: #E8F0FE;\n",
              "      border: none;\n",
              "      border-radius: 50%;\n",
              "      cursor: pointer;\n",
              "      display: none;\n",
              "      fill: #1967D2;\n",
              "      height: 32px;\n",
              "      padding: 0 0 0 0;\n",
              "      width: 32px;\n",
              "    }\n",
              "\n",
              "    .colab-df-convert:hover {\n",
              "      background-color: #E2EBFA;\n",
              "      box-shadow: 0px 1px 2px rgba(60, 64, 67, 0.3), 0px 1px 3px 1px rgba(60, 64, 67, 0.15);\n",
              "      fill: #174EA6;\n",
              "    }\n",
              "\n",
              "    .colab-df-buttons div {\n",
              "      margin-bottom: 4px;\n",
              "    }\n",
              "\n",
              "    [theme=dark] .colab-df-convert {\n",
              "      background-color: #3B4455;\n",
              "      fill: #D2E3FC;\n",
              "    }\n",
              "\n",
              "    [theme=dark] .colab-df-convert:hover {\n",
              "      background-color: #434B5C;\n",
              "      box-shadow: 0px 1px 3px 1px rgba(0, 0, 0, 0.15);\n",
              "      filter: drop-shadow(0px 1px 2px rgba(0, 0, 0, 0.3));\n",
              "      fill: #FFFFFF;\n",
              "    }\n",
              "  </style>\n",
              "\n",
              "    <script>\n",
              "      const buttonEl =\n",
              "        document.querySelector('#df-95930b10-0a70-4a31-b4aa-eb7ac67a1cdb button.colab-df-convert');\n",
              "      buttonEl.style.display =\n",
              "        google.colab.kernel.accessAllowed ? 'block' : 'none';\n",
              "\n",
              "      async function convertToInteractive(key) {\n",
              "        const element = document.querySelector('#df-95930b10-0a70-4a31-b4aa-eb7ac67a1cdb');\n",
              "        const dataTable =\n",
              "          await google.colab.kernel.invokeFunction('convertToInteractive',\n",
              "                                                    [key], {});\n",
              "        if (!dataTable) return;\n",
              "\n",
              "        const docLinkHtml = 'Like what you see? Visit the ' +\n",
              "          '<a target=\"_blank\" href=https://colab.research.google.com/notebooks/data_table.ipynb>data table notebook</a>'\n",
              "          + ' to learn more about interactive tables.';\n",
              "        element.innerHTML = '';\n",
              "        dataTable['output_type'] = 'display_data';\n",
              "        await google.colab.output.renderOutput(dataTable, element);\n",
              "        const docLink = document.createElement('div');\n",
              "        docLink.innerHTML = docLinkHtml;\n",
              "        element.appendChild(docLink);\n",
              "      }\n",
              "    </script>\n",
              "  </div>\n",
              "\n",
              "\n",
              "<div id=\"df-01b90b8e-6d9b-4e2b-b6c5-a0bec686dfa6\">\n",
              "  <button class=\"colab-df-quickchart\" onclick=\"quickchart('df-01b90b8e-6d9b-4e2b-b6c5-a0bec686dfa6')\"\n",
              "            title=\"Suggest charts\"\n",
              "            style=\"display:none;\">\n",
              "\n",
              "<svg xmlns=\"http://www.w3.org/2000/svg\" height=\"24px\"viewBox=\"0 0 24 24\"\n",
              "     width=\"24px\">\n",
              "    <g>\n",
              "        <path d=\"M19 3H5c-1.1 0-2 .9-2 2v14c0 1.1.9 2 2 2h14c1.1 0 2-.9 2-2V5c0-1.1-.9-2-2-2zM9 17H7v-7h2v7zm4 0h-2V7h2v10zm4 0h-2v-4h2v4z\"/>\n",
              "    </g>\n",
              "</svg>\n",
              "  </button>\n",
              "\n",
              "<style>\n",
              "  .colab-df-quickchart {\n",
              "      --bg-color: #E8F0FE;\n",
              "      --fill-color: #1967D2;\n",
              "      --hover-bg-color: #E2EBFA;\n",
              "      --hover-fill-color: #174EA6;\n",
              "      --disabled-fill-color: #AAA;\n",
              "      --disabled-bg-color: #DDD;\n",
              "  }\n",
              "\n",
              "  [theme=dark] .colab-df-quickchart {\n",
              "      --bg-color: #3B4455;\n",
              "      --fill-color: #D2E3FC;\n",
              "      --hover-bg-color: #434B5C;\n",
              "      --hover-fill-color: #FFFFFF;\n",
              "      --disabled-bg-color: #3B4455;\n",
              "      --disabled-fill-color: #666;\n",
              "  }\n",
              "\n",
              "  .colab-df-quickchart {\n",
              "    background-color: var(--bg-color);\n",
              "    border: none;\n",
              "    border-radius: 50%;\n",
              "    cursor: pointer;\n",
              "    display: none;\n",
              "    fill: var(--fill-color);\n",
              "    height: 32px;\n",
              "    padding: 0;\n",
              "    width: 32px;\n",
              "  }\n",
              "\n",
              "  .colab-df-quickchart:hover {\n",
              "    background-color: var(--hover-bg-color);\n",
              "    box-shadow: 0 1px 2px rgba(60, 64, 67, 0.3), 0 1px 3px 1px rgba(60, 64, 67, 0.15);\n",
              "    fill: var(--button-hover-fill-color);\n",
              "  }\n",
              "\n",
              "  .colab-df-quickchart-complete:disabled,\n",
              "  .colab-df-quickchart-complete:disabled:hover {\n",
              "    background-color: var(--disabled-bg-color);\n",
              "    fill: var(--disabled-fill-color);\n",
              "    box-shadow: none;\n",
              "  }\n",
              "\n",
              "  .colab-df-spinner {\n",
              "    border: 2px solid var(--fill-color);\n",
              "    border-color: transparent;\n",
              "    border-bottom-color: var(--fill-color);\n",
              "    animation:\n",
              "      spin 1s steps(1) infinite;\n",
              "  }\n",
              "\n",
              "  @keyframes spin {\n",
              "    0% {\n",
              "      border-color: transparent;\n",
              "      border-bottom-color: var(--fill-color);\n",
              "      border-left-color: var(--fill-color);\n",
              "    }\n",
              "    20% {\n",
              "      border-color: transparent;\n",
              "      border-left-color: var(--fill-color);\n",
              "      border-top-color: var(--fill-color);\n",
              "    }\n",
              "    30% {\n",
              "      border-color: transparent;\n",
              "      border-left-color: var(--fill-color);\n",
              "      border-top-color: var(--fill-color);\n",
              "      border-right-color: var(--fill-color);\n",
              "    }\n",
              "    40% {\n",
              "      border-color: transparent;\n",
              "      border-right-color: var(--fill-color);\n",
              "      border-top-color: var(--fill-color);\n",
              "    }\n",
              "    60% {\n",
              "      border-color: transparent;\n",
              "      border-right-color: var(--fill-color);\n",
              "    }\n",
              "    80% {\n",
              "      border-color: transparent;\n",
              "      border-right-color: var(--fill-color);\n",
              "      border-bottom-color: var(--fill-color);\n",
              "    }\n",
              "    90% {\n",
              "      border-color: transparent;\n",
              "      border-bottom-color: var(--fill-color);\n",
              "    }\n",
              "  }\n",
              "</style>\n",
              "\n",
              "  <script>\n",
              "    async function quickchart(key) {\n",
              "      const quickchartButtonEl =\n",
              "        document.querySelector('#' + key + ' button');\n",
              "      quickchartButtonEl.disabled = true;  // To prevent multiple clicks.\n",
              "      quickchartButtonEl.classList.add('colab-df-spinner');\n",
              "      try {\n",
              "        const charts = await google.colab.kernel.invokeFunction(\n",
              "            'suggestCharts', [key], {});\n",
              "      } catch (error) {\n",
              "        console.error('Error during call to suggestCharts:', error);\n",
              "      }\n",
              "      quickchartButtonEl.classList.remove('colab-df-spinner');\n",
              "      quickchartButtonEl.classList.add('colab-df-quickchart-complete');\n",
              "    }\n",
              "    (() => {\n",
              "      let quickchartButtonEl =\n",
              "        document.querySelector('#df-01b90b8e-6d9b-4e2b-b6c5-a0bec686dfa6 button');\n",
              "      quickchartButtonEl.style.display =\n",
              "        google.colab.kernel.accessAllowed ? 'block' : 'none';\n",
              "    })();\n",
              "  </script>\n",
              "</div>\n",
              "\n",
              "  <div id=\"id_40818230-5a59-48de-b75c-4ee020aa894e\">\n",
              "    <style>\n",
              "      .colab-df-generate {\n",
              "        background-color: #E8F0FE;\n",
              "        border: none;\n",
              "        border-radius: 50%;\n",
              "        cursor: pointer;\n",
              "        display: none;\n",
              "        fill: #1967D2;\n",
              "        height: 32px;\n",
              "        padding: 0 0 0 0;\n",
              "        width: 32px;\n",
              "      }\n",
              "\n",
              "      .colab-df-generate:hover {\n",
              "        background-color: #E2EBFA;\n",
              "        box-shadow: 0px 1px 2px rgba(60, 64, 67, 0.3), 0px 1px 3px 1px rgba(60, 64, 67, 0.15);\n",
              "        fill: #174EA6;\n",
              "      }\n",
              "\n",
              "      [theme=dark] .colab-df-generate {\n",
              "        background-color: #3B4455;\n",
              "        fill: #D2E3FC;\n",
              "      }\n",
              "\n",
              "      [theme=dark] .colab-df-generate:hover {\n",
              "        background-color: #434B5C;\n",
              "        box-shadow: 0px 1px 3px 1px rgba(0, 0, 0, 0.15);\n",
              "        filter: drop-shadow(0px 1px 2px rgba(0, 0, 0, 0.3));\n",
              "        fill: #FFFFFF;\n",
              "      }\n",
              "    </style>\n",
              "    <button class=\"colab-df-generate\" onclick=\"generateWithVariable('data_test')\"\n",
              "            title=\"Generate code using this dataframe.\"\n",
              "            style=\"display:none;\">\n",
              "\n",
              "  <svg xmlns=\"http://www.w3.org/2000/svg\" height=\"24px\"viewBox=\"0 0 24 24\"\n",
              "       width=\"24px\">\n",
              "    <path d=\"M7,19H8.4L18.45,9,17,7.55,7,17.6ZM5,21V16.75L18.45,3.32a2,2,0,0,1,2.83,0l1.4,1.43a1.91,1.91,0,0,1,.58,1.4,1.91,1.91,0,0,1-.58,1.4L9.25,21ZM18.45,9,17,7.55Zm-12,3A5.31,5.31,0,0,0,4.9,8.1,5.31,5.31,0,0,0,1,6.5,5.31,5.31,0,0,0,4.9,4.9,5.31,5.31,0,0,0,6.5,1,5.31,5.31,0,0,0,8.1,4.9,5.31,5.31,0,0,0,12,6.5,5.46,5.46,0,0,0,6.5,12Z\"/>\n",
              "  </svg>\n",
              "    </button>\n",
              "    <script>\n",
              "      (() => {\n",
              "      const buttonEl =\n",
              "        document.querySelector('#id_40818230-5a59-48de-b75c-4ee020aa894e button.colab-df-generate');\n",
              "      buttonEl.style.display =\n",
              "        google.colab.kernel.accessAllowed ? 'block' : 'none';\n",
              "\n",
              "      buttonEl.onclick = () => {\n",
              "        google.colab.notebook.generateWithVariable('data_test');\n",
              "      }\n",
              "      })();\n",
              "    </script>\n",
              "  </div>\n",
              "\n",
              "    </div>\n",
              "  </div>\n"
            ],
            "application/vnd.google.colaboratory.intrinsic+json": {
              "type": "dataframe",
              "variable_name": "data_test",
              "repr_error": "0"
            }
          },
          "metadata": {},
          "execution_count": 44
        }
      ]
    },
    {
      "cell_type": "markdown",
      "source": [
        "## 10. 填充和批量化（Padding & Batching）"
      ],
      "metadata": {
        "id": "okBfWHFOqg_b"
      }
    },
    {
      "cell_type": "markdown",
      "source": [
        "[Neural Network Tutorial](https://colab.research.google.com/drive/1nWz3-wz9WouCE6KW_Yn4m6HzGQM39VSC#scrollTo=3QSeelx8IT6Y)中使用的Iris数据集中，每条输入都是形状完全相同的向量（长度为4），因此要将它们攒成一个batch很简单，直接拼起来变成矩阵就可以。\n",
        "\n",
        "但是我们的场景中，输入序列的长度3到5是不固定的，单条数据的大小是形状为`(n, 6)`的矩阵，其中`n=3,4,5`，没有办法直接拼起来。\n",
        "\n",
        "我们可以再封装一个数据集，把所有的输入序列都填充到最大长度（5）："
      ],
      "metadata": {
        "id": "7nDV0ufVrO23"
      }
    },
    {
      "cell_type": "code",
      "source": [
        "class PaddedStockDataset(Dataset):\n",
        "\n",
        "  def __init__(self, org_dataset):\n",
        "    self.org_dataset = org_dataset\n",
        "\n",
        "  def __getitem__(self, idx):\n",
        "    X, y = self.org_dataset[idx]\n",
        "    pad_len = 5 - X.shape[0]\n",
        "    padding = np.zeros((pad_len, 6))\n",
        "    X_padded = np.concatenate([X, padding])\n",
        "    return X_padded, y\n",
        "\n",
        "\n",
        "  def __len__(self):\n",
        "    return len(self.org_dataset)"
      ],
      "metadata": {
        "id": "ad-6_SX3pYno"
      },
      "execution_count": null,
      "outputs": []
    },
    {
      "cell_type": "code",
      "source": [
        "padded_dataset_train = PaddedStockDataset(dataset_train)\n",
        "padded_dataset_test = PaddedStockDataset(dataset_test)"
      ],
      "metadata": {
        "id": "kjV2pT7DtxLX"
      },
      "execution_count": null,
      "outputs": []
    },
    {
      "cell_type": "code",
      "source": [
        "padded_dataset_train[2]"
      ],
      "metadata": {
        "colab": {
          "base_uri": "https://localhost:8080/"
        },
        "id": "XOs3eAUKt56K",
        "outputId": "e9ac7136-7114-47a8-f572-c01f2746398a"
      },
      "execution_count": null,
      "outputs": [
        {
          "output_type": "execute_result",
          "data": {
            "text/plain": [
              "(array([[173.35, 174.25, 179.25, 174.25, 178.6 , 177.95],\n",
              "        [177.95, 200.  , 200.  , 173.  , 176.3 , 176.2 ],\n",
              "        [176.2 , 176.45, 179.1 , 175.35, 176.9 , 177.1 ],\n",
              "        [177.1 , 177.5 , 178.  , 170.65, 170.7 , 172.2 ],\n",
              "        [  0.  ,   0.  ,   0.  ,   0.  ,   0.  ,   0.  ]]),\n",
              " array(165.))"
            ]
          },
          "metadata": {},
          "execution_count": 47
        }
      ]
    },
    {
      "cell_type": "code",
      "source": [
        "padded_dataset_test[3]"
      ],
      "metadata": {
        "colab": {
          "base_uri": "https://localhost:8080/"
        },
        "id": "hRHn15O5t7xs",
        "outputId": "577cfdff-f22e-42a5-d90f-d3fd17118e59"
      },
      "execution_count": null,
      "outputs": [
        {
          "output_type": "execute_result",
          "data": {
            "text/plain": [
              "(array([[5670.35, 5640.  , 5849.  , 5640.  , 5830.  , 5833.3 ],\n",
              "        [5833.3 , 5833.95, 5867.  , 5735.7 , 5736.  , 5775.  ],\n",
              "        [5775.  , 5725.  , 5947.  , 5725.  , 5934.25, 5902.25],\n",
              "        [5902.25, 5937.65, 6155.  , 5927.2 , 6100.25, 6099.9 ],\n",
              "        [6099.9 , 6099.7 , 6123.  , 5791.55, 5792.  , 5815.45]]),\n",
              " array(5792.))"
            ]
          },
          "metadata": {},
          "execution_count": 48
        }
      ]
    },
    {
      "cell_type": "markdown",
      "source": [
        "但是这样有一个很显然的问题，就是我们填充进去的0是有含义的。\n",
        "\n",
        "模型不知道这个0单纯是用来填充的，它会单纯地认为这个交易日的所有数据都是0，并且进行计算。\n",
        "\n",
        "怎样让填充的部分不参与计算？\n",
        "\n",
        "这就需要引入`attention_mask`的概念了。\n",
        "\n",
        "`attention_mask`是一个01向量（或者布尔向量），用来区分输入的向量序列`X`中哪些位置需要参与计算，哪些位置是填充内容或没有意义，不需要参与计算。\n",
        "\n",
        "我们可以在`PaddedStockDataset`为每条数据加入`attention_mask`："
      ],
      "metadata": {
        "id": "FZ71U8MduK3_"
      }
    },
    {
      "cell_type": "code",
      "source": [
        "class PaddedStockDataset(Dataset):\n",
        "\n",
        "  def __init__(self, org_dataset):\n",
        "    self.org_dataset = org_dataset\n",
        "\n",
        "  def __getitem__(self, idx):\n",
        "    X, y = self.org_dataset[idx]\n",
        "    pad_len = 5 - X.shape[0]\n",
        "    padding = np.zeros((pad_len, 6))\n",
        "    X_padded = np.concatenate([X, padding])\n",
        "    attention_mask = np.array([1 if i < X.shape[0] else 0 for i in range(5)])\n",
        "    return X_padded, y, attention_mask\n",
        "\n",
        "\n",
        "  def __len__(self):\n",
        "    return len(self.org_dataset)\n",
        "\n",
        "\n",
        "padded_dataset_train = PaddedStockDataset(dataset_train)\n",
        "padded_dataset_test = PaddedStockDataset(dataset_test)\n",
        "padded_dataset_train[2]"
      ],
      "metadata": {
        "colab": {
          "base_uri": "https://localhost:8080/"
        },
        "id": "adLhcWWauEG5",
        "outputId": "f9417a8b-56b2-4ffa-f437-bd0f5c05ee6c"
      },
      "execution_count": null,
      "outputs": [
        {
          "output_type": "execute_result",
          "data": {
            "text/plain": [
              "(array([[173.35, 174.25, 179.25, 174.25, 178.6 , 177.95],\n",
              "        [177.95, 200.  , 200.  , 173.  , 176.3 , 176.2 ],\n",
              "        [176.2 , 176.45, 179.1 , 175.35, 176.9 , 177.1 ],\n",
              "        [177.1 , 177.5 , 178.  , 170.65, 170.7 , 172.2 ],\n",
              "        [  0.  ,   0.  ,   0.  ,   0.  ,   0.  ,   0.  ]]),\n",
              " array(165.),\n",
              " array([1, 1, 1, 1, 0]))"
            ]
          },
          "metadata": {},
          "execution_count": 49
        }
      ]
    },
    {
      "cell_type": "markdown",
      "source": [
        "接下来需要改造`SelfAttention`模块以及`SelfAttentionPredictModel`，使其能接收`attention_mask`作为输入，并根据`attention_mask`调整计算过程：\n",
        "\n",
        "![image.png](data:image/png;base64,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)"
      ],
      "metadata": {
        "id": "4e9UsirKw3Pc"
      }
    },
    {
      "cell_type": "code",
      "source": [
        "class SelfAttention(nn.Module):\n",
        "\n",
        "  def __init__(self):\n",
        "    super().__init__()\n",
        "    self.W_q = nn.Parameter(torch.randn(6, 6) / 100)\n",
        "    self.W_k = nn.Parameter(torch.randn(6, 6) / 100)\n",
        "    self.W_v = nn.Parameter(torch.randn(6, 6) / 100)\n",
        "    self.softmax = nn.Softmax(-1)\n",
        "\n",
        "  @staticmethod\n",
        "  def get_attention_mask_2d(attention_mask):\n",
        "    batch_size = attention_mask.size(0)\n",
        "    mask_len = attention_mask.size(1)\n",
        "    attention_mask_2d = attention_mask[:, None, :].expand(batch_size, mask_len, mask_len).to(torch.float32)\n",
        "    inverted_mask = 1.0 - attention_mask_2d\n",
        "    return inverted_mask.masked_fill(inverted_mask.to(torch.bool), torch.finfo(torch.float32).min)\n",
        "\n",
        "  def forward(self, X, attention_mask):\n",
        "    Q = X @ self.W_q\n",
        "    K = X @ self.W_k\n",
        "    V = X @ self.W_v\n",
        "    attention_scores = Q @ K.transpose(1, 2)\n",
        "\n",
        "    attention_mask_2d = self.get_attention_mask_2d(attention_mask)  # 获取二维的attention_mask\n",
        "    attention_scores = self.softmax(attention_scores + attention_mask_2d)  # 将attention_mask应用到attention_scores上\n",
        "\n",
        "    Y = attention_scores @ V\n",
        "    return Y\n",
        "\n",
        "\n",
        "class SelfAttentionPredictModel(nn.Module):\n",
        "\n",
        "  def __init__(self):\n",
        "    super().__init__()\n",
        "    self.attn = SelfAttention()\n",
        "    self.fnn = nn.Sequential(\n",
        "        nn.Linear(6, 16),\n",
        "        nn.Linear(16, 6)\n",
        "    )\n",
        "    self.act = nn.ReLU()\n",
        "    self.pred_head = nn.Linear(6, 1)\n",
        "\n",
        "  def forward(self, X, attention_mask):\n",
        "    H_attn = self.attn(X, attention_mask)\n",
        "    H_fnn = self.fnn(H_attn)\n",
        "    H_act = self.act(H_fnn)\n",
        "\n",
        "    # 忽略填充的部分求均值\n",
        "    H_pooled = H_act.sum(dim=1) / attention_mask.sum(dim=1, keepdim=True)\n",
        "\n",
        "    y = self.pred_head(H_pooled) * 100  # 输出头\n",
        "    return y.squeeze(-1)"
      ],
      "metadata": {
        "id": "T2OlKSlAwepx"
      },
      "execution_count": null,
      "outputs": []
    },
    {
      "cell_type": "markdown",
      "source": [
        "现在我们就可以开始批量训练了："
      ],
      "metadata": {
        "id": "Ggzv0ZUX4rZ9"
      }
    },
    {
      "cell_type": "code",
      "source": [
        "padded_loader_train = DataLoader(padded_dataset_train, batch_size=4)\n",
        "padded_loader_test = DataLoader(padded_dataset_test, batch_size=4)"
      ],
      "metadata": {
        "id": "wA0lscac2DLW"
      },
      "execution_count": null,
      "outputs": []
    },
    {
      "cell_type": "code",
      "source": [
        "for batch in padded_loader_train:\n",
        "  print(batch)\n",
        "  break"
      ],
      "metadata": {
        "colab": {
          "base_uri": "https://localhost:8080/"
        },
        "id": "mC3a84Q04zLd",
        "outputId": "3dc165b7-adb9-4075-ba22-152560b8420c"
      },
      "execution_count": null,
      "outputs": [
        {
          "output_type": "stream",
          "name": "stdout",
          "text": [
            "[tensor([[[167.0000, 167.7500, 174.8500, 166.2500, 173.6000, 173.3500],\n",
            "         [173.3500, 174.2500, 179.2500, 174.2500, 178.6000, 177.9500],\n",
            "         [177.9500, 200.0000, 200.0000, 173.0000, 176.3000, 176.2000],\n",
            "         [  0.0000,   0.0000,   0.0000,   0.0000,   0.0000,   0.0000],\n",
            "         [  0.0000,   0.0000,   0.0000,   0.0000,   0.0000,   0.0000]],\n",
            "\n",
            "        [[164.3000, 167.0000, 168.7000, 164.5000, 167.0000, 167.0000],\n",
            "         [167.0000, 167.7500, 174.8500, 166.2500, 173.6000, 173.3500],\n",
            "         [173.3500, 174.2500, 179.2500, 174.2500, 178.6000, 177.9500],\n",
            "         [177.9500, 200.0000, 200.0000, 173.0000, 176.3000, 176.2000],\n",
            "         [176.2000, 176.4500, 179.1000, 175.3500, 176.9000, 177.1000]],\n",
            "\n",
            "        [[167.0000, 167.7500, 174.8500, 166.2500, 173.6000, 173.3500],\n",
            "         [173.3500, 174.2500, 179.2500, 174.2500, 178.6000, 177.9500],\n",
            "         [177.9500, 200.0000, 200.0000, 173.0000, 176.3000, 176.2000],\n",
            "         [176.2000, 176.4500, 179.1000, 175.3500, 176.9000, 177.1000],\n",
            "         [177.1000, 177.5000, 178.0000, 170.6500, 170.7000, 172.2000]],\n",
            "\n",
            "        [[177.9500, 200.0000, 200.0000, 173.0000, 176.3000, 176.2000],\n",
            "         [176.2000, 176.4500, 179.1000, 175.3500, 176.9000, 177.1000],\n",
            "         [177.1000, 177.5000, 178.0000, 170.6500, 170.7000, 172.2000],\n",
            "         [172.2000, 165.0000, 171.9000, 160.0000, 167.4000, 167.4000],\n",
            "         [  0.0000,   0.0000,   0.0000,   0.0000,   0.0000,   0.0000]]],\n",
            "       dtype=torch.float64), tensor([176.4500, 177.5000, 165.0000, 169.0000], dtype=torch.float64), tensor([[1, 1, 1, 0, 0],\n",
            "        [1, 1, 1, 1, 1],\n",
            "        [1, 1, 1, 1, 1],\n",
            "        [1, 1, 1, 1, 0]])]\n"
          ]
        }
      ]
    },
    {
      "cell_type": "code",
      "source": [
        "model = SelfAttentionPredictModel()\n",
        "optimizer = AdamW(model.parameters(), lr=2e-3)\n",
        "num_train_epochs = 20\n",
        "scheduler = LinearLR(optimizer, start_factor=1.0, end_factor=0.5, total_iters=num_train_epochs)\n",
        "\n",
        "\n",
        "def get_lr(optimizer):\n",
        "  for param_group in optimizer.param_groups:\n",
        "    return param_group['lr']\n",
        "\n",
        "\n",
        "for i_epoch in range(num_train_epochs):\n",
        "  total_loss = []\n",
        "  for X, y, attention_mask in padded_loader_train:\n",
        "    X = torch.tensor(X, dtype=torch.float32)\n",
        "    y = torch.tensor(y, dtype=torch.float32)\n",
        "    y_pred = model(X, attention_mask)\n",
        "    loss = ((y_pred - y) ** 2).mean()  # 均方误差\n",
        "    total_loss.append(loss)\n",
        "  avg_loss = sum(total_loss) / len(total_loss)\n",
        "  print(\"=\"*100)\n",
        "  print(\"Loss:\", avg_loss.item())\n",
        "  print(\"LR:\", get_lr(optimizer))\n",
        "  print(\"=\"*100)\n",
        "  optimizer.zero_grad()\n",
        "  avg_loss.backward()\n",
        "  optimizer.step()\n",
        "  scheduler.step()  # 调整学习率"
      ],
      "metadata": {
        "colab": {
          "base_uri": "https://localhost:8080/"
        },
        "id": "C4_bDxRO41KS",
        "outputId": "391f0b6f-e814-4846-a276-bf0c0b2a3e94"
      },
      "execution_count": null,
      "outputs": [
        {
          "output_type": "stream",
          "name": "stderr",
          "text": [
            "<ipython-input-53-192fa594bba0>:15: UserWarning: To copy construct from a tensor, it is recommended to use sourceTensor.clone().detach() or sourceTensor.clone().detach().requires_grad_(True), rather than torch.tensor(sourceTensor).\n",
            "  X = torch.tensor(X, dtype=torch.float32)\n",
            "<ipython-input-53-192fa594bba0>:16: UserWarning: To copy construct from a tensor, it is recommended to use sourceTensor.clone().detach() or sourceTensor.clone().detach().requires_grad_(True), rather than torch.tensor(sourceTensor).\n",
            "  y = torch.tensor(y, dtype=torch.float32)\n"
          ]
        },
        {
          "output_type": "stream",
          "name": "stdout",
          "text": [
            "====================================================================================================\n",
            "Loss: 23973770.0\n",
            "LR: 0.002\n",
            "====================================================================================================\n",
            "====================================================================================================\n",
            "Loss: 12067606.0\n",
            "LR: 0.00195\n",
            "====================================================================================================\n",
            "====================================================================================================\n",
            "Loss: 4132061.75\n",
            "LR: 0.0018999999999999998\n",
            "====================================================================================================\n",
            "====================================================================================================\n",
            "Loss: 808783.0\n",
            "LR: 0.0018499999999999999\n",
            "====================================================================================================\n",
            "====================================================================================================\n",
            "Loss: 1206992.375\n",
            "LR: 0.0018\n",
            "====================================================================================================\n",
            "====================================================================================================\n",
            "Loss: 3152888.5\n",
            "LR: 0.00175\n",
            "====================================================================================================\n",
            "====================================================================================================\n",
            "Loss: 4174752.0\n",
            "LR: 0.0017000000000000001\n",
            "====================================================================================================\n",
            "====================================================================================================\n",
            "Loss: 3376085.75\n",
            "LR: 0.0016500000000000002\n",
            "====================================================================================================\n",
            "====================================================================================================\n",
            "Loss: 2145302.0\n",
            "LR: 0.0016000000000000003\n",
            "====================================================================================================\n",
            "====================================================================================================\n",
            "Loss: 938925.375\n",
            "LR: 0.0015500000000000004\n",
            "====================================================================================================\n",
            "====================================================================================================\n",
            "Loss: 563152.9375\n",
            "LR: 0.0015000000000000005\n",
            "====================================================================================================\n",
            "====================================================================================================\n",
            "Loss: 903043.5\n",
            "LR: 0.0014500000000000006\n",
            "====================================================================================================\n",
            "====================================================================================================\n",
            "Loss: 1477775.5\n",
            "LR: 0.0014000000000000006\n",
            "====================================================================================================\n",
            "====================================================================================================\n",
            "Loss: 1929058.875\n",
            "LR: 0.0013500000000000007\n",
            "====================================================================================================\n",
            "====================================================================================================\n",
            "Loss: 1905837.125\n",
            "LR: 0.0013000000000000008\n",
            "====================================================================================================\n",
            "====================================================================================================\n",
            "Loss: 1611459.75\n",
            "LR: 0.001250000000000001\n",
            "====================================================================================================\n",
            "====================================================================================================\n",
            "Loss: 1159036.375\n",
            "LR: 0.0012000000000000008\n",
            "====================================================================================================\n",
            "====================================================================================================\n",
            "Loss: 833772.9375\n",
            "LR: 0.0011500000000000008\n",
            "====================================================================================================\n",
            "====================================================================================================\n",
            "Loss: 603094.4375\n",
            "LR: 0.001100000000000001\n",
            "====================================================================================================\n",
            "====================================================================================================\n",
            "Loss: 575711.625\n",
            "LR: 0.001050000000000001\n",
            "====================================================================================================\n"
          ]
        }
      ]
    },
    {
      "cell_type": "markdown",
      "source": [
        "测试同样可以批量进行："
      ],
      "metadata": {
        "id": "qBHJi9uE5wXi"
      }
    },
    {
      "cell_type": "code",
      "source": [
        "total_error = []\n",
        "predictions = []\n",
        "for X, y, attention_mask in padded_loader_test:\n",
        "  X = torch.tensor(X, dtype=torch.float32)\n",
        "  y = torch.tensor(y, dtype=torch.float32)\n",
        "  with torch.no_grad():\n",
        "    y_pred = model(X, attention_mask)\n",
        "  predictions.extend(y_pred.tolist())\n",
        "  error = ((y_pred - y).abs() / y.abs()).mean()\n",
        "  total_error.append(error)\n",
        "avg_error = sum(total_error) / len(total_error)\n",
        "print(f\"Error: {avg_error.item()*100:.2f}%\")\n",
        "\n",
        "data_test.insert(3, \"Open (Predicted-4)\", 0)\n",
        "data_test[\"Open (Predicted-4)\"][5:] = predictions\n",
        "data_test"
      ],
      "metadata": {
        "colab": {
          "base_uri": "https://localhost:8080/",
          "height": 843
        },
        "id": "GaR9it545uii",
        "outputId": "993d77b7-a289-48a7-dad4-43eb68b8b8d1"
      },
      "execution_count": null,
      "outputs": [
        {
          "output_type": "stream",
          "name": "stdout",
          "text": [
            "Error: 15.91%\n"
          ]
        },
        {
          "output_type": "stream",
          "name": "stderr",
          "text": [
            "<ipython-input-54-f9fba0c408f1>:4: UserWarning: To copy construct from a tensor, it is recommended to use sourceTensor.clone().detach() or sourceTensor.clone().detach().requires_grad_(True), rather than torch.tensor(sourceTensor).\n",
            "  X = torch.tensor(X, dtype=torch.float32)\n",
            "<ipython-input-54-f9fba0c408f1>:5: UserWarning: To copy construct from a tensor, it is recommended to use sourceTensor.clone().detach() or sourceTensor.clone().detach().requires_grad_(True), rather than torch.tensor(sourceTensor).\n",
            "  y = torch.tensor(y, dtype=torch.float32)\n",
            "<ipython-input-54-f9fba0c408f1>:15: FutureWarning: ChainedAssignmentError: behaviour will change in pandas 3.0!\n",
            "You are setting values through chained assignment. Currently this works in certain cases, but when using Copy-on-Write (which will become the default behaviour in pandas 3.0) this will never work to update the original DataFrame or Series, because the intermediate object on which we are setting values will behave as a copy.\n",
            "A typical example is when you are setting values in a column of a DataFrame, like:\n",
            "\n",
            "df[\"col\"][row_indexer] = value\n",
            "\n",
            "Use `df.loc[row_indexer, \"col\"] = values` instead, to perform the assignment in a single step and ensure this keeps updating the original `df`.\n",
            "\n",
            "See the caveats in the documentation: https://pandas.pydata.org/pandas-docs/stable/user_guide/indexing.html#returning-a-view-versus-a-copy\n",
            "\n",
            "  data_test[\"Open (Predicted-4)\"][5:] = predictions\n",
            "<ipython-input-54-f9fba0c408f1>:15: SettingWithCopyWarning: \n",
            "A value is trying to be set on a copy of a slice from a DataFrame\n",
            "\n",
            "See the caveats in the documentation: https://pandas.pydata.org/pandas-docs/stable/user_guide/indexing.html#returning-a-view-versus-a-copy\n",
            "  data_test[\"Open (Predicted-4)\"][5:] = predictions\n",
            "<ipython-input-54-f9fba0c408f1>:15: FutureWarning: Setting an item of incompatible dtype is deprecated and will raise an error in a future version of pandas. Value '[5711.048828125, 5722.080078125, 4566.2802734375, 5895.10205078125, 5908.275390625, 4719.18798828125, 4719.18798828125, 5910.00537109375, 4719.18798828125, 8218.8701171875, 4839.72021484375, 4911.98046875, 8364.5244140625, 5028.93115234375, 6279.98876953125, 6188.40234375, 6167.72021484375, 4845.111328125, 6054.544921875, 4845.1123046875, 6058.12744140625, 5997.212890625, 6171.09130859375, 8762.5703125, 5035.16943359375, 5127.53125, 4954.4814453125, 6174.88037109375, 6168.189453125, 8337.302734375, 6232.0771484375, 6453.46533203125, 6957.07763671875, 5582.0654296875, 6950.1572265625, 6820.01171875, 5459.73828125, 6811.775390625, 6725.96875, 8956.380859375, 6752.458984375, 5409.19091796875, 6753.3525390625, 9004.3896484375, 6749.04638671875, 5379.04736328125, 5465.2900390625, 7074.01416015625, 5640.05224609375, 5685.86181640625, 7391.744140625, 7478.41357421875, 10034.3310546875, 5990.83251953125, 10190.9482421875, 6029.86181640625, 6115.17626953125, 7527.18798828125, 5959.94580078125, 7400.169921875, 5887.8447265625, 7269.10693359375, 5805.0263671875, 9648.125, 5805.0263671875, 9627.291015625, 9577.19921875, 7175.81787109375, 7192.4873046875, 7187.31787109375, 5762.583984375, 5762.583984375, 9674.931640625, 5689.84130859375, 5828.404296875, 5828.404296875, 9643.578125, 7206.32177734375, 9526.6337890625, 5648.03076171875, 9403.607421875, 9390.3232421875, 7051.423828125, 7058.79736328125, 7064.97119140625, 5654.31591796875, 9662.6025390625, 5665.4228515625, 7273.22998046875, 5824.07470703125, 9752.1845703125, 5829.142578125, 9829.9677734375, 5905.41162109375, 5905.41455078125]' has dtype incompatible with int64, please explicitly cast to a compatible dtype first.\n",
            "  data_test[\"Open (Predicted-4)\"][5:] = predictions\n"
          ]
        },
        {
          "output_type": "execute_result",
          "data": {
            "text/plain": [
              "            Date  Prev Close     Open  Open (Predicted-4)  Open (Predicted)  \\\n",
              "3998  2019-08-01     5469.70  5469.70            0.000000          0.000000   \n",
              "3999  2019-08-02     5572.60  5539.60            0.000000          0.000000   \n",
              "4000  2019-08-05     5689.35  5600.00            0.000000          0.000000   \n",
              "4001  2019-08-06     5670.35  5640.00            0.000000          0.000000   \n",
              "4002  2019-08-07     5833.30  5833.95            0.000000          0.000000   \n",
              "...          ...         ...      ...                 ...               ...   \n",
              "4093  2019-12-24     7360.90  7397.00         9752.184570       7856.812988   \n",
              "4094  2019-12-26     7327.80  7334.00         5829.142578       7904.247070   \n",
              "4095  2019-12-27     7240.90  7268.00         9829.967773       7904.247070   \n",
              "4096  2019-12-30     7344.90  7378.00         5905.411621       7904.247070   \n",
              "4097  2019-12-31     7416.25  7412.50         5905.414551       7942.249512   \n",
              "\n",
              "         High      Low     Last    Close  \n",
              "3998  5615.00  5450.00  5586.00  5572.60  \n",
              "3999  5724.00  5485.00  5710.00  5689.35  \n",
              "4000  5695.00  5452.00  5667.50  5670.35  \n",
              "4001  5849.00  5640.00  5830.00  5833.30  \n",
              "4002  5867.00  5735.70  5736.00  5775.00  \n",
              "...       ...      ...      ...      ...  \n",
              "4093  7423.70  7302.00  7319.50  7327.80  \n",
              "4094  7343.45  7222.00  7237.25  7240.90  \n",
              "4095  7368.50  7251.40  7354.20  7344.90  \n",
              "4096  7431.95  7341.60  7415.00  7416.25  \n",
              "4097  7412.50  7355.25  7370.00  7368.60  \n",
              "\n",
              "[100 rows x 9 columns]"
            ],
            "text/html": [
              "\n",
              "  <div id=\"df-7477974e-c7fb-4f56-9955-5edec1e75a1e\" class=\"colab-df-container\">\n",
              "    <div>\n",
              "<style scoped>\n",
              "    .dataframe tbody tr th:only-of-type {\n",
              "        vertical-align: middle;\n",
              "    }\n",
              "\n",
              "    .dataframe tbody tr th {\n",
              "        vertical-align: top;\n",
              "    }\n",
              "\n",
              "    .dataframe thead th {\n",
              "        text-align: right;\n",
              "    }\n",
              "</style>\n",
              "<table border=\"1\" class=\"dataframe\">\n",
              "  <thead>\n",
              "    <tr style=\"text-align: right;\">\n",
              "      <th></th>\n",
              "      <th>Date</th>\n",
              "      <th>Prev Close</th>\n",
              "      <th>Open</th>\n",
              "      <th>Open (Predicted-4)</th>\n",
              "      <th>Open (Predicted)</th>\n",
              "      <th>High</th>\n",
              "      <th>Low</th>\n",
              "      <th>Last</th>\n",
              "      <th>Close</th>\n",
              "    </tr>\n",
              "  </thead>\n",
              "  <tbody>\n",
              "    <tr>\n",
              "      <th>3998</th>\n",
              "      <td>2019-08-01</td>\n",
              "      <td>5469.70</td>\n",
              "      <td>5469.70</td>\n",
              "      <td>0.000000</td>\n",
              "      <td>0.000000</td>\n",
              "      <td>5615.00</td>\n",
              "      <td>5450.00</td>\n",
              "      <td>5586.00</td>\n",
              "      <td>5572.60</td>\n",
              "    </tr>\n",
              "    <tr>\n",
              "      <th>3999</th>\n",
              "      <td>2019-08-02</td>\n",
              "      <td>5572.60</td>\n",
              "      <td>5539.60</td>\n",
              "      <td>0.000000</td>\n",
              "      <td>0.000000</td>\n",
              "      <td>5724.00</td>\n",
              "      <td>5485.00</td>\n",
              "      <td>5710.00</td>\n",
              "      <td>5689.35</td>\n",
              "    </tr>\n",
              "    <tr>\n",
              "      <th>4000</th>\n",
              "      <td>2019-08-05</td>\n",
              "      <td>5689.35</td>\n",
              "      <td>5600.00</td>\n",
              "      <td>0.000000</td>\n",
              "      <td>0.000000</td>\n",
              "      <td>5695.00</td>\n",
              "      <td>5452.00</td>\n",
              "      <td>5667.50</td>\n",
              "      <td>5670.35</td>\n",
              "    </tr>\n",
              "    <tr>\n",
              "      <th>4001</th>\n",
              "      <td>2019-08-06</td>\n",
              "      <td>5670.35</td>\n",
              "      <td>5640.00</td>\n",
              "      <td>0.000000</td>\n",
              "      <td>0.000000</td>\n",
              "      <td>5849.00</td>\n",
              "      <td>5640.00</td>\n",
              "      <td>5830.00</td>\n",
              "      <td>5833.30</td>\n",
              "    </tr>\n",
              "    <tr>\n",
              "      <th>4002</th>\n",
              "      <td>2019-08-07</td>\n",
              "      <td>5833.30</td>\n",
              "      <td>5833.95</td>\n",
              "      <td>0.000000</td>\n",
              "      <td>0.000000</td>\n",
              "      <td>5867.00</td>\n",
              "      <td>5735.70</td>\n",
              "      <td>5736.00</td>\n",
              "      <td>5775.00</td>\n",
              "    </tr>\n",
              "    <tr>\n",
              "      <th>...</th>\n",
              "      <td>...</td>\n",
              "      <td>...</td>\n",
              "      <td>...</td>\n",
              "      <td>...</td>\n",
              "      <td>...</td>\n",
              "      <td>...</td>\n",
              "      <td>...</td>\n",
              "      <td>...</td>\n",
              "      <td>...</td>\n",
              "    </tr>\n",
              "    <tr>\n",
              "      <th>4093</th>\n",
              "      <td>2019-12-24</td>\n",
              "      <td>7360.90</td>\n",
              "      <td>7397.00</td>\n",
              "      <td>9752.184570</td>\n",
              "      <td>7856.812988</td>\n",
              "      <td>7423.70</td>\n",
              "      <td>7302.00</td>\n",
              "      <td>7319.50</td>\n",
              "      <td>7327.80</td>\n",
              "    </tr>\n",
              "    <tr>\n",
              "      <th>4094</th>\n",
              "      <td>2019-12-26</td>\n",
              "      <td>7327.80</td>\n",
              "      <td>7334.00</td>\n",
              "      <td>5829.142578</td>\n",
              "      <td>7904.247070</td>\n",
              "      <td>7343.45</td>\n",
              "      <td>7222.00</td>\n",
              "      <td>7237.25</td>\n",
              "      <td>7240.90</td>\n",
              "    </tr>\n",
              "    <tr>\n",
              "      <th>4095</th>\n",
              "      <td>2019-12-27</td>\n",
              "      <td>7240.90</td>\n",
              "      <td>7268.00</td>\n",
              "      <td>9829.967773</td>\n",
              "      <td>7904.247070</td>\n",
              "      <td>7368.50</td>\n",
              "      <td>7251.40</td>\n",
              "      <td>7354.20</td>\n",
              "      <td>7344.90</td>\n",
              "    </tr>\n",
              "    <tr>\n",
              "      <th>4096</th>\n",
              "      <td>2019-12-30</td>\n",
              "      <td>7344.90</td>\n",
              "      <td>7378.00</td>\n",
              "      <td>5905.411621</td>\n",
              "      <td>7904.247070</td>\n",
              "      <td>7431.95</td>\n",
              "      <td>7341.60</td>\n",
              "      <td>7415.00</td>\n",
              "      <td>7416.25</td>\n",
              "    </tr>\n",
              "    <tr>\n",
              "      <th>4097</th>\n",
              "      <td>2019-12-31</td>\n",
              "      <td>7416.25</td>\n",
              "      <td>7412.50</td>\n",
              "      <td>5905.414551</td>\n",
              "      <td>7942.249512</td>\n",
              "      <td>7412.50</td>\n",
              "      <td>7355.25</td>\n",
              "      <td>7370.00</td>\n",
              "      <td>7368.60</td>\n",
              "    </tr>\n",
              "  </tbody>\n",
              "</table>\n",
              "<p>100 rows × 9 columns</p>\n",
              "</div>\n",
              "    <div class=\"colab-df-buttons\">\n",
              "\n",
              "  <div class=\"colab-df-container\">\n",
              "    <button class=\"colab-df-convert\" onclick=\"convertToInteractive('df-7477974e-c7fb-4f56-9955-5edec1e75a1e')\"\n",
              "            title=\"Convert this dataframe to an interactive table.\"\n",
              "            style=\"display:none;\">\n",
              "\n",
              "  <svg xmlns=\"http://www.w3.org/2000/svg\" height=\"24px\" viewBox=\"0 -960 960 960\">\n",
              "    <path d=\"M120-120v-720h720v720H120Zm60-500h600v-160H180v160Zm220 220h160v-160H400v160Zm0 220h160v-160H400v160ZM180-400h160v-160H180v160Zm440 0h160v-160H620v160ZM180-180h160v-160H180v160Zm440 0h160v-160H620v160Z\"/>\n",
              "  </svg>\n",
              "    </button>\n",
              "\n",
              "  <style>\n",
              "    .colab-df-container {\n",
              "      display:flex;\n",
              "      gap: 12px;\n",
              "    }\n",
              "\n",
              "    .colab-df-convert {\n",
              "      background-color: #E8F0FE;\n",
              "      border: none;\n",
              "      border-radius: 50%;\n",
              "      cursor: pointer;\n",
              "      display: none;\n",
              "      fill: #1967D2;\n",
              "      height: 32px;\n",
              "      padding: 0 0 0 0;\n",
              "      width: 32px;\n",
              "    }\n",
              "\n",
              "    .colab-df-convert:hover {\n",
              "      background-color: #E2EBFA;\n",
              "      box-shadow: 0px 1px 2px rgba(60, 64, 67, 0.3), 0px 1px 3px 1px rgba(60, 64, 67, 0.15);\n",
              "      fill: #174EA6;\n",
              "    }\n",
              "\n",
              "    .colab-df-buttons div {\n",
              "      margin-bottom: 4px;\n",
              "    }\n",
              "\n",
              "    [theme=dark] .colab-df-convert {\n",
              "      background-color: #3B4455;\n",
              "      fill: #D2E3FC;\n",
              "    }\n",
              "\n",
              "    [theme=dark] .colab-df-convert:hover {\n",
              "      background-color: #434B5C;\n",
              "      box-shadow: 0px 1px 3px 1px rgba(0, 0, 0, 0.15);\n",
              "      filter: drop-shadow(0px 1px 2px rgba(0, 0, 0, 0.3));\n",
              "      fill: #FFFFFF;\n",
              "    }\n",
              "  </style>\n",
              "\n",
              "    <script>\n",
              "      const buttonEl =\n",
              "        document.querySelector('#df-7477974e-c7fb-4f56-9955-5edec1e75a1e button.colab-df-convert');\n",
              "      buttonEl.style.display =\n",
              "        google.colab.kernel.accessAllowed ? 'block' : 'none';\n",
              "\n",
              "      async function convertToInteractive(key) {\n",
              "        const element = document.querySelector('#df-7477974e-c7fb-4f56-9955-5edec1e75a1e');\n",
              "        const dataTable =\n",
              "          await google.colab.kernel.invokeFunction('convertToInteractive',\n",
              "                                                    [key], {});\n",
              "        if (!dataTable) return;\n",
              "\n",
              "        const docLinkHtml = 'Like what you see? Visit the ' +\n",
              "          '<a target=\"_blank\" href=https://colab.research.google.com/notebooks/data_table.ipynb>data table notebook</a>'\n",
              "          + ' to learn more about interactive tables.';\n",
              "        element.innerHTML = '';\n",
              "        dataTable['output_type'] = 'display_data';\n",
              "        await google.colab.output.renderOutput(dataTable, element);\n",
              "        const docLink = document.createElement('div');\n",
              "        docLink.innerHTML = docLinkHtml;\n",
              "        element.appendChild(docLink);\n",
              "      }\n",
              "    </script>\n",
              "  </div>\n",
              "\n",
              "\n",
              "<div id=\"df-4958517b-33ce-4fc4-a1c5-d1c779d52f18\">\n",
              "  <button class=\"colab-df-quickchart\" onclick=\"quickchart('df-4958517b-33ce-4fc4-a1c5-d1c779d52f18')\"\n",
              "            title=\"Suggest charts\"\n",
              "            style=\"display:none;\">\n",
              "\n",
              "<svg xmlns=\"http://www.w3.org/2000/svg\" height=\"24px\"viewBox=\"0 0 24 24\"\n",
              "     width=\"24px\">\n",
              "    <g>\n",
              "        <path d=\"M19 3H5c-1.1 0-2 .9-2 2v14c0 1.1.9 2 2 2h14c1.1 0 2-.9 2-2V5c0-1.1-.9-2-2-2zM9 17H7v-7h2v7zm4 0h-2V7h2v10zm4 0h-2v-4h2v4z\"/>\n",
              "    </g>\n",
              "</svg>\n",
              "  </button>\n",
              "\n",
              "<style>\n",
              "  .colab-df-quickchart {\n",
              "      --bg-color: #E8F0FE;\n",
              "      --fill-color: #1967D2;\n",
              "      --hover-bg-color: #E2EBFA;\n",
              "      --hover-fill-color: #174EA6;\n",
              "      --disabled-fill-color: #AAA;\n",
              "      --disabled-bg-color: #DDD;\n",
              "  }\n",
              "\n",
              "  [theme=dark] .colab-df-quickchart {\n",
              "      --bg-color: #3B4455;\n",
              "      --fill-color: #D2E3FC;\n",
              "      --hover-bg-color: #434B5C;\n",
              "      --hover-fill-color: #FFFFFF;\n",
              "      --disabled-bg-color: #3B4455;\n",
              "      --disabled-fill-color: #666;\n",
              "  }\n",
              "\n",
              "  .colab-df-quickchart {\n",
              "    background-color: var(--bg-color);\n",
              "    border: none;\n",
              "    border-radius: 50%;\n",
              "    cursor: pointer;\n",
              "    display: none;\n",
              "    fill: var(--fill-color);\n",
              "    height: 32px;\n",
              "    padding: 0;\n",
              "    width: 32px;\n",
              "  }\n",
              "\n",
              "  .colab-df-quickchart:hover {\n",
              "    background-color: var(--hover-bg-color);\n",
              "    box-shadow: 0 1px 2px rgba(60, 64, 67, 0.3), 0 1px 3px 1px rgba(60, 64, 67, 0.15);\n",
              "    fill: var(--button-hover-fill-color);\n",
              "  }\n",
              "\n",
              "  .colab-df-quickchart-complete:disabled,\n",
              "  .colab-df-quickchart-complete:disabled:hover {\n",
              "    background-color: var(--disabled-bg-color);\n",
              "    fill: var(--disabled-fill-color);\n",
              "    box-shadow: none;\n",
              "  }\n",
              "\n",
              "  .colab-df-spinner {\n",
              "    border: 2px solid var(--fill-color);\n",
              "    border-color: transparent;\n",
              "    border-bottom-color: var(--fill-color);\n",
              "    animation:\n",
              "      spin 1s steps(1) infinite;\n",
              "  }\n",
              "\n",
              "  @keyframes spin {\n",
              "    0% {\n",
              "      border-color: transparent;\n",
              "      border-bottom-color: var(--fill-color);\n",
              "      border-left-color: var(--fill-color);\n",
              "    }\n",
              "    20% {\n",
              "      border-color: transparent;\n",
              "      border-left-color: var(--fill-color);\n",
              "      border-top-color: var(--fill-color);\n",
              "    }\n",
              "    30% {\n",
              "      border-color: transparent;\n",
              "      border-left-color: var(--fill-color);\n",
              "      border-top-color: var(--fill-color);\n",
              "      border-right-color: var(--fill-color);\n",
              "    }\n",
              "    40% {\n",
              "      border-color: transparent;\n",
              "      border-right-color: var(--fill-color);\n",
              "      border-top-color: var(--fill-color);\n",
              "    }\n",
              "    60% {\n",
              "      border-color: transparent;\n",
              "      border-right-color: var(--fill-color);\n",
              "    }\n",
              "    80% {\n",
              "      border-color: transparent;\n",
              "      border-right-color: var(--fill-color);\n",
              "      border-bottom-color: var(--fill-color);\n",
              "    }\n",
              "    90% {\n",
              "      border-color: transparent;\n",
              "      border-bottom-color: var(--fill-color);\n",
              "    }\n",
              "  }\n",
              "</style>\n",
              "\n",
              "  <script>\n",
              "    async function quickchart(key) {\n",
              "      const quickchartButtonEl =\n",
              "        document.querySelector('#' + key + ' button');\n",
              "      quickchartButtonEl.disabled = true;  // To prevent multiple clicks.\n",
              "      quickchartButtonEl.classList.add('colab-df-spinner');\n",
              "      try {\n",
              "        const charts = await google.colab.kernel.invokeFunction(\n",
              "            'suggestCharts', [key], {});\n",
              "      } catch (error) {\n",
              "        console.error('Error during call to suggestCharts:', error);\n",
              "      }\n",
              "      quickchartButtonEl.classList.remove('colab-df-spinner');\n",
              "      quickchartButtonEl.classList.add('colab-df-quickchart-complete');\n",
              "    }\n",
              "    (() => {\n",
              "      let quickchartButtonEl =\n",
              "        document.querySelector('#df-4958517b-33ce-4fc4-a1c5-d1c779d52f18 button');\n",
              "      quickchartButtonEl.style.display =\n",
              "        google.colab.kernel.accessAllowed ? 'block' : 'none';\n",
              "    })();\n",
              "  </script>\n",
              "</div>\n",
              "\n",
              "  <div id=\"id_7aaac026-038c-4507-ab34-24bb69908b0d\">\n",
              "    <style>\n",
              "      .colab-df-generate {\n",
              "        background-color: #E8F0FE;\n",
              "        border: none;\n",
              "        border-radius: 50%;\n",
              "        cursor: pointer;\n",
              "        display: none;\n",
              "        fill: #1967D2;\n",
              "        height: 32px;\n",
              "        padding: 0 0 0 0;\n",
              "        width: 32px;\n",
              "      }\n",
              "\n",
              "      .colab-df-generate:hover {\n",
              "        background-color: #E2EBFA;\n",
              "        box-shadow: 0px 1px 2px rgba(60, 64, 67, 0.3), 0px 1px 3px 1px rgba(60, 64, 67, 0.15);\n",
              "        fill: #174EA6;\n",
              "      }\n",
              "\n",
              "      [theme=dark] .colab-df-generate {\n",
              "        background-color: #3B4455;\n",
              "        fill: #D2E3FC;\n",
              "      }\n",
              "\n",
              "      [theme=dark] .colab-df-generate:hover {\n",
              "        background-color: #434B5C;\n",
              "        box-shadow: 0px 1px 3px 1px rgba(0, 0, 0, 0.15);\n",
              "        filter: drop-shadow(0px 1px 2px rgba(0, 0, 0, 0.3));\n",
              "        fill: #FFFFFF;\n",
              "      }\n",
              "    </style>\n",
              "    <button class=\"colab-df-generate\" onclick=\"generateWithVariable('data_test')\"\n",
              "            title=\"Generate code using this dataframe.\"\n",
              "            style=\"display:none;\">\n",
              "\n",
              "  <svg xmlns=\"http://www.w3.org/2000/svg\" height=\"24px\"viewBox=\"0 0 24 24\"\n",
              "       width=\"24px\">\n",
              "    <path d=\"M7,19H8.4L18.45,9,17,7.55,7,17.6ZM5,21V16.75L18.45,3.32a2,2,0,0,1,2.83,0l1.4,1.43a1.91,1.91,0,0,1,.58,1.4,1.91,1.91,0,0,1-.58,1.4L9.25,21ZM18.45,9,17,7.55Zm-12,3A5.31,5.31,0,0,0,4.9,8.1,5.31,5.31,0,0,0,1,6.5,5.31,5.31,0,0,0,4.9,4.9,5.31,5.31,0,0,0,6.5,1,5.31,5.31,0,0,0,8.1,4.9,5.31,5.31,0,0,0,12,6.5,5.46,5.46,0,0,0,6.5,12Z\"/>\n",
              "  </svg>\n",
              "    </button>\n",
              "    <script>\n",
              "      (() => {\n",
              "      const buttonEl =\n",
              "        document.querySelector('#id_7aaac026-038c-4507-ab34-24bb69908b0d button.colab-df-generate');\n",
              "      buttonEl.style.display =\n",
              "        google.colab.kernel.accessAllowed ? 'block' : 'none';\n",
              "\n",
              "      buttonEl.onclick = () => {\n",
              "        google.colab.notebook.generateWithVariable('data_test');\n",
              "      }\n",
              "      })();\n",
              "    </script>\n",
              "  </div>\n",
              "\n",
              "    </div>\n",
              "  </div>\n"
            ],
            "application/vnd.google.colaboratory.intrinsic+json": {
              "type": "dataframe",
              "variable_name": "data_test",
              "repr_error": "0"
            }
          },
          "metadata": {},
          "execution_count": 54
        }
      ]
    },
    {
      "cell_type": "code",
      "source": [],
      "metadata": {
        "id": "G7dp1j6P5RNp"
      },
      "execution_count": null,
      "outputs": []
    }
  ]
}