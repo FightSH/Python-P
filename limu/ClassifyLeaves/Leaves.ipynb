{
 "cells": [
  {
   "cell_type": "code",
   "id": "initial_id",
   "metadata": {
    "collapsed": true,
    "ExecuteTime": {
     "end_time": "2024-12-24T07:57:59.512873Z",
     "start_time": "2024-12-24T07:57:59.489542Z"
    }
   },
   "source": [
    "\n",
    "# Import necessary packages.\n",
    "import numpy as np\n",
    "import pandas as pd\n",
    "import torch\n",
    "import os\n",
    "import torch.nn as nn\n",
    "import torchvision.transforms as transforms\n",
    "from PIL import Image\n",
    "# \"ConcatDataset\" and \"Subset\" are possibly useful when doing semi-supervised learning.\n",
    "from torch.utils.data import ConcatDataset, DataLoader, Subset, Dataset\n",
    "from torchvision.datasets import DatasetFolder, VisionDataset\n",
    "\n",
    "# This is for the progress bar.\n",
    "from tqdm.auto import tqdm\n",
    "import random\n",
    "import torchvision.models as models\n",
    "\n",
    "from lihongyi.hw2.HW2 import best_acc\n",
    "\n",
    "\n"
   ],
   "outputs": [],
   "execution_count": 8
  },
  {
   "metadata": {},
   "cell_type": "markdown",
   "source": "### 处理数据label",
   "id": "15930ff6742ffa9b"
  },
  {
   "metadata": {
    "ExecuteTime": {
     "end_time": "2024-12-24T07:58:02.983855Z",
     "start_time": "2024-12-24T07:58:02.919851Z"
    }
   },
   "cell_type": "code",
   "source": [
    "# 处理train_csv的label\n",
    "train_df = pd.read_csv('./data/train.csv')\n",
    "unique_labels = train_df['label'].unique()\n",
    "\n",
    "# 创建映射字典\n",
    "label_to_number = {label: idx + 1 for idx, label in enumerate(unique_labels)}\n",
    "\n",
    "# 打印映射结果\n",
    "print(\"Label to number mapping:\", label_to_number)\n",
    "\n",
    "# 应用映射字典\n",
    "train_df['label_encoded'] = train_df['label'].map(label_to_number)\n",
    "\n",
    "# 加1是为了从1开始编号\n",
    "train_array = train_df.to_numpy()\n",
    "print(train_array.shape)\n"
   ],
   "id": "16c4311313da4862",
   "outputs": [
    {
     "name": "stdout",
     "output_type": "stream",
     "text": [
      "Label to number mapping: {'maclura_pomifera': 1, 'ulmus_rubra': 2, 'broussonettia_papyrifera': 3, 'prunus_virginiana': 4, 'acer_rubrum': 5, 'cryptomeria_japonica': 6, 'staphylea_trifolia': 7, 'asimina_triloba': 8, 'diospyros_virginiana': 9, 'tilia_cordata': 10, 'ulmus_pumila': 11, 'quercus_muehlenbergii': 12, 'juglans_cinerea': 13, 'cercis_canadensis': 14, 'ptelea_trifoliata': 15, 'acer_palmatum': 16, 'catalpa_speciosa': 17, 'abies_concolor': 18, 'eucommia_ulmoides': 19, 'quercus_montana': 20, 'koelreuteria_paniculata': 21, 'liriodendron_tulipifera': 22, 'styrax_japonica': 23, 'malus_pumila': 24, 'prunus_sargentii': 25, 'cornus_mas': 26, 'magnolia_virginiana': 27, 'ostrya_virginiana': 28, 'magnolia_acuminata': 29, 'ilex_opaca': 30, 'acer_negundo': 31, 'fraxinus_nigra': 32, 'pyrus_calleryana': 33, 'picea_abies': 34, 'chionanthus_virginicus': 35, 'carpinus_caroliniana': 36, 'zelkova_serrata': 37, 'aesculus_pavi': 38, 'taxodium_distichum': 39, 'carya_tomentosa': 40, 'picea_pungens': 41, 'carya_glabra': 42, 'quercus_macrocarpa': 43, 'carya_cordiformis': 44, 'catalpa_bignonioides': 45, 'tsuga_canadensis': 46, 'populus_tremuloides': 47, 'magnolia_denudata': 48, 'crataegus_viridis': 49, 'populus_deltoides': 50, 'ulmus_americana': 51, 'pinus_bungeana': 52, 'cornus_florida': 53, 'pinus_densiflora': 54, 'morus_alba': 55, 'quercus_velutina': 56, 'pinus_parviflora': 57, 'salix_caroliniana': 58, 'platanus_occidentalis': 59, 'acer_saccharum': 60, 'pinus_flexilis': 61, 'gleditsia_triacanthos': 62, 'quercus_alba': 63, 'prunus_subhirtella': 64, 'pseudolarix_amabilis': 65, 'stewartia_pseudocamellia': 66, 'quercus_stellata': 67, 'pinus_rigida': 68, 'salix_nigra': 69, 'quercus_acutissima': 70, 'pinus_virginiana': 71, 'chamaecyparis_pisifera': 72, 'quercus_michauxii': 73, 'prunus_pensylvanica': 74, 'amelanchier_canadensis': 75, 'liquidambar_styraciflua': 76, 'pinus_cembra': 77, 'malus_hupehensis': 78, 'castanea_dentata': 79, 'magnolia_stellata': 80, 'chionanthus_retusus': 81, 'carya_ovata': 82, 'quercus_marilandica': 83, 'tilia_americana': 84, 'cedrus_atlantica': 85, 'ulmus_parvifolia': 86, 'nyssa_sylvatica': 87, 'quercus_virginiana': 88, 'acer_saccharinum': 89, 'magnolia_macrophylla': 90, 'crataegus_pruinosa': 91, 'pinus_nigra': 92, 'abies_nordmanniana': 93, 'pinus_taeda': 94, 'ficus_carica': 95, 'pinus_peucea': 96, 'populus_grandidentata': 97, 'acer_platanoides': 98, 'pinus_resinosa': 99, 'salix_matsudana': 100, 'pinus_sylvestris': 101, 'albizia_julibrissin': 102, 'salix_babylonica': 103, 'pinus_echinata': 104, 'magnolia_tripetala': 105, 'larix_decidua': 106, 'pinus_strobus': 107, 'aesculus_glabra': 108, 'ginkgo_biloba': 109, 'quercus_cerris': 110, 'metasequoia_glyptostroboides': 111, 'fagus_grandifolia': 112, 'quercus_nigra': 113, 'juglans_nigra': 114, 'pinus_koraiensis': 115, 'oxydendrum_arboreum': 116, 'morus_rubra': 117, 'crataegus_phaenopyrum': 118, 'pinus_wallichiana': 119, 'tilia_europaea': 120, 'betula_jacqemontii': 121, 'chamaecyparis_thyoides': 122, 'acer_ginnala': 123, 'acer_campestre': 124, 'pinus_pungens': 125, 'malus_floribunda': 126, 'picea_orientalis': 127, 'amelanchier_laevis': 128, 'celtis_tenuifolia': 129, 'gymnocladus_dioicus': 130, 'quercus_bicolor': 131, 'malus_coronaria': 132, 'cercidiphyllum_japonicum': 133, 'cedrus_libani': 134, 'betula_nigra': 135, 'acer_pensylvanicum': 136, 'platanus_acerifolia': 137, 'robinia_pseudo-acacia': 138, 'ulmus_glabra': 139, 'crataegus_laevigata': 140, 'quercus_coccinea': 141, 'prunus_serotina': 142, 'tilia_tomentosa': 143, 'quercus_imbricaria': 144, 'cladrastis_lutea': 145, 'fraxinus_pennsylvanica': 146, 'phellodendron_amurense': 147, 'betula_lenta': 148, 'quercus_robur': 149, 'aesculus_flava': 150, 'paulownia_tomentosa': 151, 'amelanchier_arborea': 152, 'quercus_shumardii': 153, 'magnolia_grandiflora': 154, 'cornus_kousa': 155, 'betula_alleghaniensis': 156, 'carpinus_betulus': 157, 'aesculus_hippocastamon': 158, 'malus_baccata': 159, 'acer_pseudoplatanus': 160, 'betula_populifolia': 161, 'prunus_yedoensis': 162, 'halesia_tetraptera': 163, 'quercus_palustris': 164, 'evodia_daniellii': 165, 'ulmus_procera': 166, 'prunus_serrulata': 167, 'quercus_phellos': 168, 'cedrus_deodara': 169, 'celtis_occidentalis': 170, 'sassafras_albidum': 171, 'acer_griseum': 172, 'ailanthus_altissima': 173, 'pinus_thunbergii': 174, 'crataegus_crus-galli': 175, 'juniperus_virginiana': 176}\n",
      "(18353, 3)\n"
     ]
    }
   ],
   "execution_count": 9
  },
  {
   "metadata": {},
   "cell_type": "markdown",
   "source": "### DataSet&Transform",
   "id": "1b845fa920a5fef0"
  },
  {
   "metadata": {
    "ExecuteTime": {
     "end_time": "2024-12-24T07:58:08.028765Z",
     "start_time": "2024-12-24T07:58:08.004764Z"
    }
   },
   "cell_type": "code",
   "source": [
    "\n",
    "train_tfm = transforms.Compose([\n",
    "    # Resize the image into a fixed shape (height = width = 128)\n",
    "    transforms.Resize((128, 128)),\n",
    "    # You may add some transforms here.\n",
    "    # ToTensor() should be the last one of the transforms.\n",
    "    transforms.ToTensor(),\n",
    "])\n",
    "\n",
    "test_tfm = transforms.Compose([\n",
    "    transforms.Resize((128, 128)),\n",
    "    transforms.ToTensor(),\n",
    "])\n",
    "\n",
    "\n",
    "# 两种形式，一种传file，一种直接传Tensor\n",
    "# 验证集使用K折验证\n",
    "\n",
    "# 存图片类型，getItem时，才转为Tensor\n",
    "class LeavesFileDataset(Dataset):\n",
    "    def __init__(self, path, train_array, tfm=test_tfm):\n",
    "        super(LeavesFileDataset).__init__()\n",
    "        self.path = path\n",
    "        self.train_array = train_array\n",
    "        self.transform = tfm\n",
    "\n",
    "    def __len__(self):\n",
    "        return len(self.train_array)\n",
    "\n",
    "    def __getitem__(self, idx):\n",
    "        data = self.train_array[idx]\n",
    "\n",
    "        im = Image.open(self.path + data[0])\n",
    "        im = self.transform(im)\n",
    "        #im = self.data[idx]\n",
    "        try:\n",
    "            label = data[2]\n",
    "        except:\n",
    "            label = -1  # test has no label\n",
    "        return im, label\n",
    "\n",
    "\n",
    "# 存张量类型，可能比较消耗内存\n",
    "class LeavesTensorDataset(Dataset):\n",
    "    def __init__(self, X, y=None):\n",
    "        super(LeavesTensorDataset).__init__()\n",
    "        self.data = X\n",
    "        if y is not None:\n",
    "            self.label = torch.LongTensor(y)\n",
    "        else:\n",
    "            self.label = None\n",
    "\n",
    "    def __len__(self):\n",
    "        return len(self.data)\n",
    "\n",
    "    def __getitem__(self, idx):\n",
    "        if self.label is not None:\n",
    "            return self.data[idx], self.label[idx]\n",
    "        else:\n",
    "            return self.data[idx]\n",
    "\n",
    "\n",
    "\n"
   ],
   "id": "b8dc7dfa5722f092",
   "outputs": [],
   "execution_count": 10
  },
  {
   "metadata": {},
   "cell_type": "markdown",
   "source": "### 超参数\n",
   "id": "a2c9f8a5926177a9"
  },
  {
   "metadata": {
    "ExecuteTime": {
     "end_time": "2024-12-24T07:58:18.750183Z",
     "start_time": "2024-12-24T07:58:18.731340Z"
    }
   },
   "cell_type": "code",
   "source": [
    "patience = 6\n",
    "n_epochs = 2\n",
    "batch_size = 64\n",
    "train_ratio = 0.95  # the ratio of data used for training, the rest will be used for validation\n",
    "# training parameters\n",
    "seed = 0  # random seed\n",
    "\n",
    "_exp_name = 'Leaves'\n",
    "\n",
    "learning_rate = 0.0001  # learning rate\n",
    "model_path = './model.ckpt'  # the path where the checkpoint will be saved\n",
    "device = \"cuda\" if torch.cuda.is_available() else \"cpu\"\n",
    "# model parameters\n",
    "\n"
   ],
   "id": "d407953d82f82aad",
   "outputs": [],
   "execution_count": 11
  },
  {
   "metadata": {
    "ExecuteTime": {
     "end_time": "2024-12-24T08:51:24.352889Z",
     "start_time": "2024-12-24T08:51:24.328889Z"
    }
   },
   "cell_type": "code",
   "source": [
    "stale = 0\n",
    "def train(n_epochs, train_loader, valid_loader, model, criterion, optimizer, device, best_acc):\n",
    "\n",
    "    # These are used to record information in training.\n",
    "\n",
    "\n",
    "    for epoch in range(n_epochs):\n",
    "        model.train()\n",
    "        print('best_acc:' + str(best_acc))\n",
    "       \n",
    "        train_loss = []\n",
    "        train_accs = []\n",
    "        for batch in tqdm(train_loader):\n",
    "            imgs, labels = batch\n",
    "            # \n",
    "\n",
    "            labels = labels.to(device)\n",
    "            # 梯度设置下 \n",
    "            optimizer.zero_grad()\n",
    "\n",
    "            logits = model(imgs.to(device))\n",
    "            loss = criterion(logits, labels)\n",
    "\n",
    "            # 反向传播\n",
    "            loss.backward()\n",
    "\n",
    "            # Clip the gradient norms for stable training. \n",
    "            grad_norm = nn.utils.clip_grad_norm_(model.parameters(), max_norm=10)\n",
    "\n",
    "            # Update the parameters with computed gradients.\n",
    "            optimizer.step()\n",
    "\n",
    "            # Compute the accuracy for current batch.\n",
    "            acc = (logits.argmax(dim=-1) == labels.to(device)).float().mean()\n",
    "\n",
    "            # Record the loss and accuracy.\n",
    "            train_loss.append(loss.item())\n",
    "            train_accs.append(acc)\n",
    "\n",
    "        train_loss = sum(train_loss) / len(train_loss)\n",
    "        train_acc = sum(train_accs) / len(train_accs)\n",
    "\n",
    "        # Print the information.\n",
    "        print(f\"[ Train | {epoch + 1:03d}/{n_epochs:03d} ] loss = {train_loss:.5f}, acc = {train_acc:.5f}\")\n",
    "\n",
    "        # ---------- Validation ----------\n",
    "        # Make sure the model is in eval mode so that some modules like dropout are disabled and work normally.\n",
    "        model.eval()\n",
    "\n",
    "        # These are used to record information in validation.\n",
    "        valid_loss = []\n",
    "        valid_accs = []\n",
    "\n",
    "        # Iterate the validation set by batches.\n",
    "        for batch in tqdm(valid_loader):\n",
    "            # A batch consists of image data and corresponding labels.\n",
    "            imgs, labels = batch\n",
    "            #imgs = imgs.half()\n",
    "\n",
    "            # We don't need gradient in validation.\n",
    "            # Using torch.no_grad() accelerates the forward process.\n",
    "            with torch.no_grad():\n",
    "                logits = model(imgs.to(device))\n",
    "\n",
    "            # We can still compute the loss (but not the gradient).\n",
    "            loss = criterion(logits, labels.to(device))\n",
    "\n",
    "            # Compute the accuracy for current batch.\n",
    "            acc = (logits.argmax(dim=-1) == labels.to(device)).float().mean()\n",
    "\n",
    "            # Record the loss and accuracy.\n",
    "            valid_loss.append(loss.item())\n",
    "            valid_accs.append(acc)\n",
    "        #break\n",
    "\n",
    "        # The average loss and accuracy for entire validation set is the average of the recorded values.\n",
    "        valid_loss = sum(valid_loss) / len(valid_loss)\n",
    "        valid_acc = sum(valid_accs) / len(valid_accs)\n",
    "\n",
    "        # Print the information.\n",
    "        print(f\"[ Valid | {epoch + 1:03d}/{n_epochs:03d} ] loss = {valid_loss:.5f}, acc = {valid_acc:.5f}\")\n",
    "\n",
    "        # update logs\n",
    "        if valid_acc > best_acc:\n",
    "            with open(f\"./{_exp_name}_log.txt\", \"a\"):\n",
    "                print(f\"[ Valid | {epoch + 1:03d}/{n_epochs:03d} ] loss = {valid_loss:.5f}, acc = {valid_acc:.5f} -> best\")\n",
    "        else:\n",
    "            with open(f\"./{_exp_name}_log.txt\", \"a\"):\n",
    "                print(f\"[ Valid | {epoch + 1:03d}/{n_epochs:03d} ] loss = {valid_loss:.5f}, acc = {valid_acc:.5f}\")\n",
    "\n",
    "        # save models\n",
    "        if valid_acc > best_acc:\n",
    "            print(f\"Best model found at epoch {epoch}, saving model\")\n",
    "            torch.save(model.state_dict(), f\"{_exp_name}_best.ckpt\")  # only save best to prevent output memory exceed error\n",
    "            best_acc = valid_acc\n",
    "            stale = 0\n",
    "        else:\n",
    "            stale += 1\n",
    "            if stale > patience:\n",
    "                print(f\"No improvment {patience} consecutive epochs, early stopping\")\n",
    "                break\n",
    "\n",
    "\n",
    "\n",
    "\n",
    "\n"
   ],
   "id": "8edddd602c9a8699",
   "outputs": [],
   "execution_count": 26
  },
  {
   "metadata": {
    "ExecuteTime": {
     "end_time": "2024-12-24T08:51:32.102745Z",
     "start_time": "2024-12-24T08:51:32.081746Z"
    }
   },
   "cell_type": "code",
   "source": [
    "\n",
    "_dataset_dir = \".\\\\data\\\\\"\n",
    "# Construct datasets.\n",
    "# The argument \"loader\" tells how torchvision reads the data.\n",
    "print(len(train_array))\n",
    "train_set = LeavesFileDataset(os.path.join(_dataset_dir), train_array,tfm=train_tfm)\n",
    "train_loader = DataLoader(train_set, batch_size=batch_size, shuffle=True, num_workers=2, pin_memory=True)\n",
    "\n",
    "\n",
    "\n",
    "\n",
    "\n"
   ],
   "id": "7aed53b63a18020d",
   "outputs": [
    {
     "name": "stdout",
     "output_type": "stream",
     "text": [
      "18353\n"
     ]
    }
   ],
   "execution_count": 27
  },
  {
   "metadata": {},
   "cell_type": "markdown",
   "source": "### K折交叉验证",
   "id": "2fe556f9a7d4a2ad"
  },
  {
   "metadata": {
    "ExecuteTime": {
     "end_time": "2024-12-24T09:14:49.992046700Z",
     "start_time": "2024-12-24T08:51:34.612566Z"
    }
   },
   "cell_type": "code",
   "source": [
    "import torchvision.models as models\n",
    "\n",
    "def k_fold_split(dataset, k_folds=5):\n",
    "    indices = list(range(len(dataset)))\n",
    "    np.random.shuffle(indices)\n",
    "    fold_size = len(dataset) // k_folds\n",
    "    folds = [indices[i * fold_size:(i + 1) * fold_size] for i in range(k_folds)]\n",
    "    \n",
    "    return folds\n",
    "\n",
    "k_folds = 3\n",
    "print('train length:'+ str(len(train_set)))\n",
    "folds = k_fold_split(train_set, k_folds)\n",
    "print('folds:'+ str(len(folds)))\n",
    "for fold in range(k_folds):\n",
    "    print(f'FOLD {fold}')\n",
    "    print('--------------------------------')\n",
    "\n",
    "    # 定义模型、损失函数、优化器等\n",
    "    model = models.resnet18()\n",
    "    # model = ...  # 初始化模型\n",
    "    criterion = nn.CrossEntropyLoss()\n",
    "    optimizer = torch.optim.Adam(model.parameters(), lr=learning_rate, weight_decay=1e-5) \n",
    "\n",
    "\n",
    "    # 根据索引创建子集\n",
    "    train_ids = [idx for f in folds[:fold] + folds[fold+1:] for idx in f]\n",
    "    valid_ids = folds[fold]\n",
    "\n",
    "    train_subsampler = Subset(train_set, train_ids)\n",
    "    print('train length:' + str( len(train_subsampler)))\n",
    "    valid_subsampler = Subset(train_set, valid_ids)\n",
    "    print('valid length:' + str( len(valid_subsampler)))\n",
    "\n",
    "    # 创建 DataLoader\n",
    "    train_loader = DataLoader(train_subsampler, batch_size=batch_size, shuffle=True)\n",
    "    valid_loader = DataLoader(valid_subsampler, batch_size=batch_size, shuffle=False)\n",
    "\n",
    "    # 调用你的训练函数\n",
    "    best_acc = 0\n",
    "    train(n_epochs, train_loader, valid_loader, model, criterion, optimizer, device,best_acc)"
   ],
   "id": "ad120821bbf19b5e",
   "outputs": [
    {
     "name": "stdout",
     "output_type": "stream",
     "text": [
      "train length:18353\n",
      "folds:3\n",
      "FOLD 0\n",
      "--------------------------------\n",
      "train length:12234\n",
      "valid length:6117\n"
     ]
    },
    {
     "data": {
      "text/plain": [
       "  0%|          | 0/192 [00:00<?, ?it/s]"
      ],
      "application/vnd.jupyter.widget-view+json": {
       "version_major": 2,
       "version_minor": 0,
       "model_id": "da7b968bb1ab40bf9ff329b222eae5eb"
      }
     },
     "metadata": {},
     "output_type": "display_data"
    },
    {
     "name": "stdout",
     "output_type": "stream",
     "text": [
      "[ Train | 001/002 ] loss = 4.73606, acc = 0.07983\n"
     ]
    },
    {
     "data": {
      "text/plain": [
       "  0%|          | 0/96 [00:00<?, ?it/s]"
      ],
      "application/vnd.jupyter.widget-view+json": {
       "version_major": 2,
       "version_minor": 0,
       "model_id": "25809b7cc9e6496c9584323f0ed6de93"
      }
     },
     "metadata": {},
     "output_type": "display_data"
    },
    {
     "name": "stdout",
     "output_type": "stream",
     "text": [
      "[ Valid | 001/002 ] loss = 3.63940, acc = 0.16522\n",
      "[ Valid | 001/002 ] loss = 3.63940, acc = 0.16522 -> best\n",
      "Best model found at epoch 0, saving model\n"
     ]
    },
    {
     "data": {
      "text/plain": [
       "  0%|          | 0/192 [00:00<?, ?it/s]"
      ],
      "application/vnd.jupyter.widget-view+json": {
       "version_major": 2,
       "version_minor": 0,
       "model_id": "09f91e56fdf9483ab11fe96bd53556ab"
      }
     },
     "metadata": {},
     "output_type": "display_data"
    },
    {
     "name": "stdout",
     "output_type": "stream",
     "text": [
      "[ Train | 002/002 ] loss = 3.10365, acc = 0.26493\n"
     ]
    },
    {
     "data": {
      "text/plain": [
       "  0%|          | 0/96 [00:00<?, ?it/s]"
      ],
      "application/vnd.jupyter.widget-view+json": {
       "version_major": 2,
       "version_minor": 0,
       "model_id": "131f57949add4b19a0029b64ac9faaf1"
      }
     },
     "metadata": {},
     "output_type": "display_data"
    },
    {
     "name": "stdout",
     "output_type": "stream",
     "text": [
      "[ Valid | 002/002 ] loss = 2.81160, acc = 0.30135\n",
      "[ Valid | 002/002 ] loss = 2.81160, acc = 0.30135 -> best\n",
      "Best model found at epoch 1, saving model\n",
      "FOLD 1\n",
      "--------------------------------\n",
      "train length:12234\n",
      "valid length:6117\n"
     ]
    },
    {
     "data": {
      "text/plain": [
       "  0%|          | 0/192 [00:00<?, ?it/s]"
      ],
      "application/vnd.jupyter.widget-view+json": {
       "version_major": 2,
       "version_minor": 0,
       "model_id": "5f8e3be02f9345fc97cd6b440b993699"
      }
     },
     "metadata": {},
     "output_type": "display_data"
    },
    {
     "name": "stdout",
     "output_type": "stream",
     "text": [
      "[ Train | 001/002 ] loss = 4.71625, acc = 0.08869\n"
     ]
    },
    {
     "data": {
      "text/plain": [
       "  0%|          | 0/96 [00:00<?, ?it/s]"
      ],
      "application/vnd.jupyter.widget-view+json": {
       "version_major": 2,
       "version_minor": 0,
       "model_id": "f4d6b0f79f9245228208a0aa6fbdd246"
      }
     },
     "metadata": {},
     "output_type": "display_data"
    },
    {
     "name": "stdout",
     "output_type": "stream",
     "text": [
      "[ Valid | 001/002 ] loss = 3.79091, acc = 0.14859\n",
      "[ Valid | 001/002 ] loss = 3.79091, acc = 0.14859 -> best\n",
      "Best model found at epoch 0, saving model\n"
     ]
    },
    {
     "data": {
      "text/plain": [
       "  0%|          | 0/192 [00:00<?, ?it/s]"
      ],
      "application/vnd.jupyter.widget-view+json": {
       "version_major": 2,
       "version_minor": 0,
       "model_id": "04423287e2d447dab4c9d74e92c7f833"
      }
     },
     "metadata": {},
     "output_type": "display_data"
    },
    {
     "ename": "KeyboardInterrupt",
     "evalue": "",
     "output_type": "error",
     "traceback": [
      "\u001B[1;31m---------------------------------------------------------------------------\u001B[0m",
      "\u001B[1;31mKeyboardInterrupt\u001B[0m                         Traceback (most recent call last)",
      "Cell \u001B[1;32mIn[28], line 41\u001B[0m\n\u001B[0;32m     39\u001B[0m \u001B[38;5;66;03m# 调用你的训练函数\u001B[39;00m\n\u001B[0;32m     40\u001B[0m best_acc \u001B[38;5;241m=\u001B[39m \u001B[38;5;241m0\u001B[39m\n\u001B[1;32m---> 41\u001B[0m \u001B[43mtrain\u001B[49m\u001B[43m(\u001B[49m\u001B[43mn_epochs\u001B[49m\u001B[43m,\u001B[49m\u001B[43m \u001B[49m\u001B[43mtrain_loader\u001B[49m\u001B[43m,\u001B[49m\u001B[43m \u001B[49m\u001B[43mvalid_loader\u001B[49m\u001B[43m,\u001B[49m\u001B[43m \u001B[49m\u001B[43mmodel\u001B[49m\u001B[43m,\u001B[49m\u001B[43m \u001B[49m\u001B[43mcriterion\u001B[49m\u001B[43m,\u001B[49m\u001B[43m \u001B[49m\u001B[43moptimizer\u001B[49m\u001B[43m,\u001B[49m\u001B[43m \u001B[49m\u001B[43mdevice\u001B[49m\u001B[43m,\u001B[49m\u001B[43mbest_acc\u001B[49m\u001B[43m)\u001B[49m\n",
      "Cell \u001B[1;32mIn[26], line 25\u001B[0m, in \u001B[0;36mtrain\u001B[1;34m(n_epochs, train_loader, valid_loader, model, criterion, optimizer, device, best_acc)\u001B[0m\n\u001B[0;32m     22\u001B[0m loss \u001B[38;5;241m=\u001B[39m criterion(logits, labels)\n\u001B[0;32m     24\u001B[0m \u001B[38;5;66;03m# 反向传播\u001B[39;00m\n\u001B[1;32m---> 25\u001B[0m \u001B[43mloss\u001B[49m\u001B[38;5;241;43m.\u001B[39;49m\u001B[43mbackward\u001B[49m\u001B[43m(\u001B[49m\u001B[43m)\u001B[49m\n\u001B[0;32m     27\u001B[0m \u001B[38;5;66;03m# Clip the gradient norms for stable training. \u001B[39;00m\n\u001B[0;32m     28\u001B[0m grad_norm \u001B[38;5;241m=\u001B[39m nn\u001B[38;5;241m.\u001B[39mutils\u001B[38;5;241m.\u001B[39mclip_grad_norm_(model\u001B[38;5;241m.\u001B[39mparameters(), max_norm\u001B[38;5;241m=\u001B[39m\u001B[38;5;241m10\u001B[39m)\n",
      "File \u001B[1;32mD:\\codeenv\\miniconda3\\envs\\d2l\\lib\\site-packages\\torch\\_tensor.py:396\u001B[0m, in \u001B[0;36mTensor.backward\u001B[1;34m(self, gradient, retain_graph, create_graph, inputs)\u001B[0m\n\u001B[0;32m    387\u001B[0m \u001B[38;5;28;01mif\u001B[39;00m has_torch_function_unary(\u001B[38;5;28mself\u001B[39m):\n\u001B[0;32m    388\u001B[0m     \u001B[38;5;28;01mreturn\u001B[39;00m handle_torch_function(\n\u001B[0;32m    389\u001B[0m         Tensor\u001B[38;5;241m.\u001B[39mbackward,\n\u001B[0;32m    390\u001B[0m         (\u001B[38;5;28mself\u001B[39m,),\n\u001B[1;32m   (...)\u001B[0m\n\u001B[0;32m    394\u001B[0m         create_graph\u001B[38;5;241m=\u001B[39mcreate_graph,\n\u001B[0;32m    395\u001B[0m         inputs\u001B[38;5;241m=\u001B[39minputs)\n\u001B[1;32m--> 396\u001B[0m \u001B[43mtorch\u001B[49m\u001B[38;5;241;43m.\u001B[39;49m\u001B[43mautograd\u001B[49m\u001B[38;5;241;43m.\u001B[39;49m\u001B[43mbackward\u001B[49m\u001B[43m(\u001B[49m\u001B[38;5;28;43mself\u001B[39;49m\u001B[43m,\u001B[49m\u001B[43m \u001B[49m\u001B[43mgradient\u001B[49m\u001B[43m,\u001B[49m\u001B[43m \u001B[49m\u001B[43mretain_graph\u001B[49m\u001B[43m,\u001B[49m\u001B[43m \u001B[49m\u001B[43mcreate_graph\u001B[49m\u001B[43m,\u001B[49m\u001B[43m \u001B[49m\u001B[43minputs\u001B[49m\u001B[38;5;241;43m=\u001B[39;49m\u001B[43minputs\u001B[49m\u001B[43m)\u001B[49m\n",
      "File \u001B[1;32mD:\\codeenv\\miniconda3\\envs\\d2l\\lib\\site-packages\\torch\\autograd\\__init__.py:173\u001B[0m, in \u001B[0;36mbackward\u001B[1;34m(tensors, grad_tensors, retain_graph, create_graph, grad_variables, inputs)\u001B[0m\n\u001B[0;32m    168\u001B[0m     retain_graph \u001B[38;5;241m=\u001B[39m create_graph\n\u001B[0;32m    170\u001B[0m \u001B[38;5;66;03m# The reason we repeat same the comment below is that\u001B[39;00m\n\u001B[0;32m    171\u001B[0m \u001B[38;5;66;03m# some Python versions print out the first line of a multi-line function\u001B[39;00m\n\u001B[0;32m    172\u001B[0m \u001B[38;5;66;03m# calls in the traceback and some print out the last line\u001B[39;00m\n\u001B[1;32m--> 173\u001B[0m \u001B[43mVariable\u001B[49m\u001B[38;5;241;43m.\u001B[39;49m\u001B[43m_execution_engine\u001B[49m\u001B[38;5;241;43m.\u001B[39;49m\u001B[43mrun_backward\u001B[49m\u001B[43m(\u001B[49m\u001B[43m  \u001B[49m\u001B[38;5;66;43;03m# Calls into the C++ engine to run the backward pass\u001B[39;49;00m\n\u001B[0;32m    174\u001B[0m \u001B[43m    \u001B[49m\u001B[43mtensors\u001B[49m\u001B[43m,\u001B[49m\u001B[43m \u001B[49m\u001B[43mgrad_tensors_\u001B[49m\u001B[43m,\u001B[49m\u001B[43m \u001B[49m\u001B[43mretain_graph\u001B[49m\u001B[43m,\u001B[49m\u001B[43m \u001B[49m\u001B[43mcreate_graph\u001B[49m\u001B[43m,\u001B[49m\u001B[43m \u001B[49m\u001B[43minputs\u001B[49m\u001B[43m,\u001B[49m\n\u001B[0;32m    175\u001B[0m \u001B[43m    \u001B[49m\u001B[43mallow_unreachable\u001B[49m\u001B[38;5;241;43m=\u001B[39;49m\u001B[38;5;28;43;01mTrue\u001B[39;49;00m\u001B[43m,\u001B[49m\u001B[43m \u001B[49m\u001B[43maccumulate_grad\u001B[49m\u001B[38;5;241;43m=\u001B[39;49m\u001B[38;5;28;43;01mTrue\u001B[39;49;00m\u001B[43m)\u001B[49m\n",
      "\u001B[1;31mKeyboardInterrupt\u001B[0m: "
     ]
    }
   ],
   "execution_count": 28
  },
  {
   "metadata": {
    "ExecuteTime": {
     "end_time": "2024-12-20T08:38:53.382378Z",
     "start_time": "2024-12-20T08:38:53.364491Z"
    }
   },
   "cell_type": "code",
   "source": [
    "# 将生成的测试结果转为\n",
    "def generate_pred(predictions):\n",
    "    number_to_label = {v: k for k, v in label_to_number.items()}\n",
    "    for i in range(predictions.shape[0]):\n",
    "        predictions[i][1] = number_to_label[int(predictions[i][1])]\n",
    "\n",
    "    with open('prediction.csv', 'w') as f:\n",
    "        f.write('Id,Class\\n')\n",
    "        for i, y in enumerate(predictions):\n",
    "            f.write('{},{}\\n'.format(i, y))\n",
    " \n",
    "\n",
    "\n",
    "\n",
    "\n",
    "\n"
   ],
   "id": "db0f025b3c8f708c",
   "outputs": [
    {
     "name": "stdout",
     "output_type": "stream",
     "text": [
      "[['images/0.jpg' 'maclura_pomi']\n",
      " ['images/1.jpg' 'broussonetti']\n",
      " ['images/2.jpg' 'broussonetti']\n",
      " ['images/3.jpg' 'prunus_virgi']\n",
      " ['images/4.jpg' 'acer_rubrum']]\n"
     ]
    }
   ],
   "execution_count": 12
  }
 ],
 "metadata": {
  "kernelspec": {
   "display_name": "Python 3",
   "language": "python",
   "name": "python3"
  },
  "language_info": {
   "codemirror_mode": {
    "name": "ipython",
    "version": 2
   },
   "file_extension": ".py",
   "mimetype": "text/x-python",
   "name": "python",
   "nbconvert_exporter": "python",
   "pygments_lexer": "ipython2",
   "version": "2.7.6"
  }
 },
 "nbformat": 4,
 "nbformat_minor": 5
}
