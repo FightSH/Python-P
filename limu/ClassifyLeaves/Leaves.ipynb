{
 "cells": [
  {
   "cell_type": "code",
   "id": "initial_id",
   "metadata": {
    "collapsed": true,
    "ExecuteTime": {
     "end_time": "2024-12-22T08:58:14.583519Z",
     "start_time": "2024-12-22T08:58:10.290652Z"
    }
   },
   "source": [
    "\n",
    "# Import necessary packages.\n",
    "import numpy as np\n",
    "import pandas as pd\n",
    "import torch\n",
    "import os\n",
    "import torch.nn as nn\n",
    "import torchvision.transforms as transforms\n",
    "from PIL import Image\n",
    "# \"ConcatDataset\" and \"Subset\" are possibly useful when doing semi-supervised learning.\n",
    "from torch.utils.data import ConcatDataset, DataLoader, Subset, Dataset\n",
    "from torchvision.datasets import DatasetFolder, VisionDataset\n",
    "\n",
    "# This is for the progress bar.\n",
    "from tqdm.auto import tqdm\n",
    "import random\n",
    "\n",
    "\n",
    "\n"
   ],
   "outputs": [],
   "execution_count": 3
  },
  {
   "metadata": {},
   "cell_type": "markdown",
   "source": "### 处理数据label",
   "id": "15930ff6742ffa9b"
  },
  {
   "metadata": {
    "ExecuteTime": {
     "end_time": "2024-12-22T08:58:27.625066Z",
     "start_time": "2024-12-22T08:58:27.583813Z"
    }
   },
   "cell_type": "code",
   "source": [
    "# 处理train_csv的label\n",
    "train_df = pd.read_csv('./data/train.csv')\n",
    "unique_labels = train_df['label'].unique()\n",
    "\n",
    "# 创建映射字典\n",
    "label_to_number = {label: idx + 1 for idx, label in enumerate(unique_labels)}\n",
    "\n",
    "# 打印映射结果\n",
    "print(\"Label to number mapping:\", label_to_number)\n",
    "\n",
    "# 应用映射字典\n",
    "train_df['label_encoded'] = train_df['label'].map(label_to_number)\n",
    "\n",
    "# 加1是为了从1开始编号\n",
    "print(train_df)\n"
   ],
   "id": "16c4311313da4862",
   "outputs": [
    {
     "name": "stdout",
     "output_type": "stream",
     "text": [
      "Label to number mapping: {'maclura_pomifera': 1, 'ulmus_rubra': 2, 'broussonettia_papyrifera': 3, 'prunus_virginiana': 4, 'acer_rubrum': 5, 'cryptomeria_japonica': 6, 'staphylea_trifolia': 7, 'asimina_triloba': 8, 'diospyros_virginiana': 9, 'tilia_cordata': 10, 'ulmus_pumila': 11, 'quercus_muehlenbergii': 12, 'juglans_cinerea': 13, 'cercis_canadensis': 14, 'ptelea_trifoliata': 15, 'acer_palmatum': 16, 'catalpa_speciosa': 17, 'abies_concolor': 18, 'eucommia_ulmoides': 19, 'quercus_montana': 20, 'koelreuteria_paniculata': 21, 'liriodendron_tulipifera': 22, 'styrax_japonica': 23, 'malus_pumila': 24, 'prunus_sargentii': 25, 'cornus_mas': 26, 'magnolia_virginiana': 27, 'ostrya_virginiana': 28, 'magnolia_acuminata': 29, 'ilex_opaca': 30, 'acer_negundo': 31, 'fraxinus_nigra': 32, 'pyrus_calleryana': 33, 'picea_abies': 34, 'chionanthus_virginicus': 35, 'carpinus_caroliniana': 36, 'zelkova_serrata': 37, 'aesculus_pavi': 38, 'taxodium_distichum': 39, 'carya_tomentosa': 40, 'picea_pungens': 41, 'carya_glabra': 42, 'quercus_macrocarpa': 43, 'carya_cordiformis': 44, 'catalpa_bignonioides': 45, 'tsuga_canadensis': 46, 'populus_tremuloides': 47, 'magnolia_denudata': 48, 'crataegus_viridis': 49, 'populus_deltoides': 50, 'ulmus_americana': 51, 'pinus_bungeana': 52, 'cornus_florida': 53, 'pinus_densiflora': 54, 'morus_alba': 55, 'quercus_velutina': 56, 'pinus_parviflora': 57, 'salix_caroliniana': 58, 'platanus_occidentalis': 59, 'acer_saccharum': 60, 'pinus_flexilis': 61, 'gleditsia_triacanthos': 62, 'quercus_alba': 63, 'prunus_subhirtella': 64, 'pseudolarix_amabilis': 65, 'stewartia_pseudocamellia': 66, 'quercus_stellata': 67, 'pinus_rigida': 68, 'salix_nigra': 69, 'quercus_acutissima': 70, 'pinus_virginiana': 71, 'chamaecyparis_pisifera': 72, 'quercus_michauxii': 73, 'prunus_pensylvanica': 74, 'amelanchier_canadensis': 75, 'liquidambar_styraciflua': 76, 'pinus_cembra': 77, 'malus_hupehensis': 78, 'castanea_dentata': 79, 'magnolia_stellata': 80, 'chionanthus_retusus': 81, 'carya_ovata': 82, 'quercus_marilandica': 83, 'tilia_americana': 84, 'cedrus_atlantica': 85, 'ulmus_parvifolia': 86, 'nyssa_sylvatica': 87, 'quercus_virginiana': 88, 'acer_saccharinum': 89, 'magnolia_macrophylla': 90, 'crataegus_pruinosa': 91, 'pinus_nigra': 92, 'abies_nordmanniana': 93, 'pinus_taeda': 94, 'ficus_carica': 95, 'pinus_peucea': 96, 'populus_grandidentata': 97, 'acer_platanoides': 98, 'pinus_resinosa': 99, 'salix_matsudana': 100, 'pinus_sylvestris': 101, 'albizia_julibrissin': 102, 'salix_babylonica': 103, 'pinus_echinata': 104, 'magnolia_tripetala': 105, 'larix_decidua': 106, 'pinus_strobus': 107, 'aesculus_glabra': 108, 'ginkgo_biloba': 109, 'quercus_cerris': 110, 'metasequoia_glyptostroboides': 111, 'fagus_grandifolia': 112, 'quercus_nigra': 113, 'juglans_nigra': 114, 'pinus_koraiensis': 115, 'oxydendrum_arboreum': 116, 'morus_rubra': 117, 'crataegus_phaenopyrum': 118, 'pinus_wallichiana': 119, 'tilia_europaea': 120, 'betula_jacqemontii': 121, 'chamaecyparis_thyoides': 122, 'acer_ginnala': 123, 'acer_campestre': 124, 'pinus_pungens': 125, 'malus_floribunda': 126, 'picea_orientalis': 127, 'amelanchier_laevis': 128, 'celtis_tenuifolia': 129, 'gymnocladus_dioicus': 130, 'quercus_bicolor': 131, 'malus_coronaria': 132, 'cercidiphyllum_japonicum': 133, 'cedrus_libani': 134, 'betula_nigra': 135, 'acer_pensylvanicum': 136, 'platanus_acerifolia': 137, 'robinia_pseudo-acacia': 138, 'ulmus_glabra': 139, 'crataegus_laevigata': 140, 'quercus_coccinea': 141, 'prunus_serotina': 142, 'tilia_tomentosa': 143, 'quercus_imbricaria': 144, 'cladrastis_lutea': 145, 'fraxinus_pennsylvanica': 146, 'phellodendron_amurense': 147, 'betula_lenta': 148, 'quercus_robur': 149, 'aesculus_flava': 150, 'paulownia_tomentosa': 151, 'amelanchier_arborea': 152, 'quercus_shumardii': 153, 'magnolia_grandiflora': 154, 'cornus_kousa': 155, 'betula_alleghaniensis': 156, 'carpinus_betulus': 157, 'aesculus_hippocastamon': 158, 'malus_baccata': 159, 'acer_pseudoplatanus': 160, 'betula_populifolia': 161, 'prunus_yedoensis': 162, 'halesia_tetraptera': 163, 'quercus_palustris': 164, 'evodia_daniellii': 165, 'ulmus_procera': 166, 'prunus_serrulata': 167, 'quercus_phellos': 168, 'cedrus_deodara': 169, 'celtis_occidentalis': 170, 'sassafras_albidum': 171, 'acer_griseum': 172, 'ailanthus_altissima': 173, 'pinus_thunbergii': 174, 'crataegus_crus-galli': 175, 'juniperus_virginiana': 176}\n",
      "                  image                    label  label_encoded\n",
      "0          images/0.jpg         maclura_pomifera              1\n",
      "1          images/1.jpg         maclura_pomifera              1\n",
      "2          images/2.jpg         maclura_pomifera              1\n",
      "3          images/3.jpg         maclura_pomifera              1\n",
      "4          images/4.jpg         maclura_pomifera              1\n",
      "...                 ...                      ...            ...\n",
      "18348  images/18348.jpg          aesculus_glabra            108\n",
      "18349  images/18349.jpg  liquidambar_styraciflua             76\n",
      "18350  images/18350.jpg            cedrus_libani            134\n",
      "18351  images/18351.jpg      prunus_pensylvanica             74\n",
      "18352  images/18352.jpg          quercus_montana             20\n",
      "\n",
      "[18353 rows x 3 columns]\n"
     ]
    }
   ],
   "execution_count": 5
  },
  {
   "metadata": {},
   "cell_type": "markdown",
   "source": "### Hyper-parameters",
   "id": "4c09f11669f6b6d6"
  },
  {
   "metadata": {},
   "cell_type": "code",
   "outputs": [],
   "execution_count": null,
   "source": [
    "\n",
    "\n",
    "\n",
    "train_ratio = 0.95               # the ratio of data used for training, the rest will be used for validation\n",
    "\n",
    "# training parameters\n",
    "seed = 0                        # random seed\n",
    "batch_size = 2048                # batch size\n",
    "num_epoch = 10                   # the number of training epoch\n",
    "learning_rate = 0.0001          # learning rate\n",
    "model_path = './model.ckpt'     # the path where the checkpoint will be saved\n",
    "\n",
    "# model parameters\n",
    "\n"
   ],
   "id": "a02d1e9e921fba81"
  },
  {
   "metadata": {},
   "cell_type": "markdown",
   "source": "### DataSet&Transform",
   "id": "1b845fa920a5fef0"
  },
  {
   "metadata": {},
   "cell_type": "code",
   "outputs": [],
   "execution_count": null,
   "source": [
    "\n",
    "train_tfm = transforms.Compose([\n",
    "    # Resize the image into a fixed shape (height = width = 128)\n",
    "    transforms.Resize((128, 128)),\n",
    "    # You may add some transforms here.\n",
    "    # ToTensor() should be the last one of the transforms.\n",
    "    transforms.ToTensor(),\n",
    "])\n",
    "\n",
    "test_tfm = transforms.Compose([\n",
    "    transforms.Resize((128, 128)),\n",
    "    transforms.ToTensor(),\n",
    "])\n",
    "\n",
    "\n",
    "class FoodDataset(Dataset):\n",
    "\n",
    "    def __init__(self,path,tfm=test_tfm,files = None):\n",
    "        super(FoodDataset).__init__()\n",
    "        self.path = path\n",
    "        self.files = sorted([os.path.join(path,x) for x in os.listdir(path) if x.endswith(\".jpg\")])\n",
    "        if files != None:\n",
    "            self.files = files\n",
    "        print(f\"One {path} sample\",self.files[0])\n",
    "        self.transform = tfm\n",
    "  \n",
    "    def __len__(self):\n",
    "        return len(self.files)\n",
    "  \n",
    "    def __getitem__(self,idx):\n",
    "        fname = self.files[idx]\n",
    "        im = Image.open(fname)\n",
    "        im = self.transform(im)\n",
    "        #im = self.data[idx]\n",
    "       \n",
    "        try:\n",
    "            label = int(fname.split(\"\\\\\")[-1].split(\"_\")[0])\n",
    "        except:\n",
    "            print(\"error someone is -1\")\n",
    "            label = -1 # test has no label\n",
    "        return im,label\n",
    "\n",
    "\n",
    "def preprocess_data(data_df, mode, train_ratio=0.8, train_val_seed=1337):\n",
    "\n",
    "    \n",
    "    label_dict = {}\n",
    "    if mode != 'test':\n",
    "      phone_file = open(os.path.join(phone_path, f'{mode}_labels.txt')).readlines()\n",
    "\n",
    "      for line in phone_file:\n",
    "          line = line.strip('\\n').split(' ')\n",
    "          label_dict[line[0]] = [int(p) for p in line[1:]]\n",
    "\n",
    "    if split == 'train' or split == 'val':\n",
    "        # split training and validation data\n",
    "        \n",
    "        \n",
    "        usage_list = open(os.path.join(phone_path, 'train_split.txt')).readlines()\n",
    "        random.seed(train_val_seed)\n",
    "        random.shuffle(usage_list)\n",
    "        percent = int(len(usage_list) * train_ratio)\n",
    "        usage_list = usage_list[:percent] if split == 'train' else usage_list[percent:]\n",
    "    elif split == 'test':\n",
    "        usage_list = open(os.path.join(phone_path, 'test_split.txt')).readlines()\n",
    "    else:\n",
    "        raise ValueError('Invalid \\'split\\' argument for dataset: PhoneDataset!')\n",
    "\n",
    "    usage_list = [line.strip('\\n') for line in usage_list]\n",
    "    print('[Dataset] - # phone classes: ' + str(class_num) + ', number of utterances for ' + split + ': ' + str(len(usage_list)))\n",
    "\n",
    "    max_len = 3000000\n",
    "    X = torch.empty(max_len, 39 * concat_nframes)\n",
    "    if mode != 'test':\n",
    "      y = torch.empty(max_len, dtype=torch.long)\n",
    "\n",
    "    idx = 0\n",
    "    for i, fname in tqdm(enumerate(usage_list)):\n",
    "        feat = load_feat(os.path.join(feat_dir, mode, f'{fname}.pt'))\n",
    "        cur_len = len(feat)\n",
    "        feat = concat_feat(feat, concat_nframes)\n",
    "        if mode != 'test':\n",
    "          label = torch.LongTensor(label_dict[fname])\n",
    "\n",
    "        X[idx: idx + cur_len, :] = feat\n",
    "        if mode != 'test':\n",
    "          y[idx: idx + cur_len] = label\n",
    "\n",
    "        idx += cur_len\n",
    "\n",
    "    X = X[:idx, :]\n",
    "    if mode != 'test':\n",
    "      y = y[:idx]\n",
    "\n",
    "    print(f'[INFO] {split} set')\n",
    "    print(X.shape)\n",
    "    if mode != 'test':\n",
    "      print(y.shape)\n",
    "      return X, y\n",
    "    else:\n",
    "      return X\n",
    "\n"
   ],
   "id": "b8dc7dfa5722f092"
  },
  {
   "metadata": {
    "ExecuteTime": {
     "end_time": "2024-12-20T08:38:53.382378Z",
     "start_time": "2024-12-20T08:38:53.364491Z"
    }
   },
   "cell_type": "code",
   "source": [
    "# 将生成的测试结果转为\n",
    "def generate_pred(predictions):\n",
    "    \n",
    "    number_to_label = {v: k for k, v in label_to_number.items()}\n",
    "    for i in range(predictions.shape[0]):\n",
    "        predictions[i][1] = number_to_label[int(predictions[i][1])]\n",
    "    \n",
    "    with open('prediction.csv', 'w') as f:\n",
    "        f.write('Id,Class\\n')\n",
    "        for i, y in enumerate(predictions):\n",
    "            f.write('{},{}\\n'.format(i, y))\n",
    "     \n",
    "\n",
    "\n",
    "\n"
   ],
   "id": "db0f025b3c8f708c",
   "outputs": [
    {
     "name": "stdout",
     "output_type": "stream",
     "text": [
      "[['images/0.jpg' 'maclura_pomi']\n",
      " ['images/1.jpg' 'broussonetti']\n",
      " ['images/2.jpg' 'broussonetti']\n",
      " ['images/3.jpg' 'prunus_virgi']\n",
      " ['images/4.jpg' 'acer_rubrum']]\n"
     ]
    }
   ],
   "execution_count": 12
  }
 ],
 "metadata": {
  "kernelspec": {
   "display_name": "Python 3",
   "language": "python",
   "name": "python3"
  },
  "language_info": {
   "codemirror_mode": {
    "name": "ipython",
    "version": 2
   },
   "file_extension": ".py",
   "mimetype": "text/x-python",
   "name": "python",
   "nbconvert_exporter": "python",
   "pygments_lexer": "ipython2",
   "version": "2.7.6"
  }
 },
 "nbformat": 4,
 "nbformat_minor": 5
}
