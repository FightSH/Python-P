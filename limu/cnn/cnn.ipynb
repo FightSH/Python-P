{
 "cells": [
  {
   "cell_type": "code",
   "id": "initial_id",
   "metadata": {
    "collapsed": true,
    "ExecuteTime": {
     "end_time": "2024-12-03T07:58:25.098350Z",
     "start_time": "2024-12-03T07:58:25.093350Z"
    }
   },
   "source": [
    "\n",
    "import torch\n",
    "from torch import nn\n",
    "from d2l import torch as d2l\n",
    "\n"
   ],
   "outputs": [],
   "execution_count": 17
  },
  {
   "metadata": {
    "ExecuteTime": {
     "end_time": "2024-12-03T07:58:25.176334Z",
     "start_time": "2024-12-03T07:58:25.165338Z"
    }
   },
   "cell_type": "code",
   "source": [
    "# 卷积操作\n",
    "def corr2d(X, K):  #@save\n",
    "    \"\"\"计算二维互相关运算\"\"\"\n",
    "    h, w = K.shape\n",
    "    Y = torch.zeros((X.shape[0] - h + 1, X.shape[1] - w + 1))\n",
    "    for i in range(Y.shape[0]):\n",
    "        for j in range(Y.shape[1]):\n",
    "            Y[i, j] = (X[i:i + h, j:j + w] * K).sum()\n",
    "    return Y\n",
    "\n",
    "'''\n",
    " 0 1 2 \n",
    " 3 4 5  \n",
    " 6 7 8\n",
    " \n",
    " 0 1\n",
    " 2 3\n",
    "'''\n",
    "# 在卷积层中，输入张量和核张量通过(互相关运算)产生输出张量。\n",
    "X = torch.tensor([[0.0, 1.0, 2.0], [3.0, 4.0, 5.0], [6.0, 7.0, 8.0]])\n",
    "K = torch.tensor([[0.0, 1.0], [2.0, 3.0]])\n",
    "# 输入 张量X 和卷积核张量 K\n",
    "corr2d(X, K)\n"
   ],
   "id": "31fd095cefac0ae8",
   "outputs": [
    {
     "data": {
      "text/plain": [
       "tensor([[19., 25.],\n",
       "        [37., 43.]])"
      ]
     },
     "execution_count": 18,
     "metadata": {},
     "output_type": "execute_result"
    }
   ],
   "execution_count": 18
  },
  {
   "metadata": {
    "ExecuteTime": {
     "end_time": "2024-12-03T07:58:25.272336Z",
     "start_time": "2024-12-03T07:58:25.246342Z"
    }
   },
   "cell_type": "code",
   "source": [
    "## 卷积层\n",
    "\n",
    "# 卷积层对输入和卷积核权重进行互相关运算，并在添加标量偏置之后产生输出。\n",
    "# 所以，卷积层中的两个被训练的参数是卷积核权重和标量偏置。\n",
    "# 就像我们之前随机初始化全连接层一样，在训练基于卷积层的模型时，我们也随机初始化卷积核权重。 \n",
    "\n",
    "class Conv2D(nn.Module):\n",
    "    def __init__(self, kernel_size):\n",
    "        super().__init__()\n",
    "        self.weight = nn.Parameter(torch.rand(kernel_size))\n",
    "        self.bias = nn.Parameter(torch.zeros(1))\n",
    "    def forward(self, x):\n",
    "        return corr2d(x, self.weight) + self.bias\n",
    "    \n"
   ],
   "id": "7b5f571b480c0774",
   "outputs": [],
   "execution_count": 19
  },
  {
   "metadata": {
    "ExecuteTime": {
     "end_time": "2024-12-03T07:58:25.333882Z",
     "start_time": "2024-12-03T07:58:25.320883Z"
    }
   },
   "cell_type": "code",
   "source": [
    "# 一个简单的应用 通过CNN来找到像素变化的位置\n",
    "\n",
    "# 6行8列的矩阵 一个图像其中 中间四列为黑色（$0$），其余像素为白色（$1$）。\n",
    "X = torch.ones((6, 8))\n",
    "X[:, 2:6] = 0\n",
    "X\n"
   ],
   "id": "c0fc347de0ad5f2c",
   "outputs": [
    {
     "data": {
      "text/plain": [
       "tensor([[1., 1., 0., 0., 0., 0., 1., 1.],\n",
       "        [1., 1., 0., 0., 0., 0., 1., 1.],\n",
       "        [1., 1., 0., 0., 0., 0., 1., 1.],\n",
       "        [1., 1., 0., 0., 0., 0., 1., 1.],\n",
       "        [1., 1., 0., 0., 0., 0., 1., 1.],\n",
       "        [1., 1., 0., 0., 0., 0., 1., 1.]])"
      ]
     },
     "execution_count": 20,
     "metadata": {},
     "output_type": "execute_result"
    }
   ],
   "execution_count": 20
  },
  {
   "metadata": {
    "ExecuteTime": {
     "end_time": "2024-12-03T07:58:25.444892Z",
     "start_time": "2024-12-03T07:58:25.435887Z"
    }
   },
   "cell_type": "code",
   "source": [
    "# 构造卷积核 1*2\n",
    "K = torch.tensor([[1.0, -1.0]])\n",
    "K"
   ],
   "id": "4783f16858566152",
   "outputs": [
    {
     "data": {
      "text/plain": [
       "tensor([[ 1., -1.]])"
      ]
     },
     "execution_count": 21,
     "metadata": {},
     "output_type": "execute_result"
    }
   ],
   "execution_count": 21
  },
  {
   "metadata": {
    "ExecuteTime": {
     "end_time": "2024-12-03T07:58:25.586534Z",
     "start_time": "2024-12-03T07:58:25.572534Z"
    }
   },
   "cell_type": "code",
   "source": [
    "# 我们对参数X（输入）和K（卷积核）执行互相关运算。 如下所示，[输出Y中的1代表从白色到黑色的边缘，-1代表从黑色到白色的边缘]，其他情况的输出为\n",
    "Y = corr2d(X, K)\n",
    "Y"
   ],
   "id": "28f72e3b1d5d4139",
   "outputs": [
    {
     "data": {
      "text/plain": [
       "tensor([[ 0.,  1.,  0.,  0.,  0., -1.,  0.],\n",
       "        [ 0.,  1.,  0.,  0.,  0., -1.,  0.],\n",
       "        [ 0.,  1.,  0.,  0.,  0., -1.,  0.],\n",
       "        [ 0.,  1.,  0.,  0.,  0., -1.,  0.],\n",
       "        [ 0.,  1.,  0.,  0.,  0., -1.,  0.],\n",
       "        [ 0.,  1.,  0.,  0.,  0., -1.,  0.]])"
      ]
     },
     "execution_count": 22,
     "metadata": {},
     "output_type": "execute_result"
    }
   ],
   "execution_count": 22
  },
  {
   "metadata": {
    "ExecuteTime": {
     "end_time": "2024-12-03T07:58:25.712228Z",
     "start_time": "2024-12-03T07:58:25.698230Z"
    }
   },
   "cell_type": "code",
   "source": [
    "# 现在我们将输入的二维图像转置，再进行如上的互相关运算。 其输出如下，之前检测到的垂直边缘消失了。 不出所料，这个[卷积核K只可以检测垂直边缘]，无法检测水平边缘。\n",
    "corr2d(X.t(), K)"
   ],
   "id": "968e832ce2bc6607",
   "outputs": [
    {
     "data": {
      "text/plain": [
       "tensor([[0., 0., 0., 0., 0.],\n",
       "        [0., 0., 0., 0., 0.],\n",
       "        [0., 0., 0., 0., 0.],\n",
       "        [0., 0., 0., 0., 0.],\n",
       "        [0., 0., 0., 0., 0.],\n",
       "        [0., 0., 0., 0., 0.],\n",
       "        [0., 0., 0., 0., 0.],\n",
       "        [0., 0., 0., 0., 0.]])"
      ]
     },
     "execution_count": 23,
     "metadata": {},
     "output_type": "execute_result"
    }
   ],
   "execution_count": 23
  },
  {
   "metadata": {
    "ExecuteTime": {
     "end_time": "2024-12-03T07:58:25.837544Z",
     "start_time": "2024-12-03T07:58:25.823543Z"
    }
   },
   "cell_type": "code",
   "source": [
    "## 卷积核的学习\n",
    "# 构造一个二维卷积层，它具有1个输出通道和形状为（1，2）的卷积核\n",
    "conv2d = nn.Conv2d(1,1, kernel_size=(1, 2), bias=False)\n",
    "\n",
    "# 这个二维卷积层使用四维输入和输出格式（批量大小、通道、高度、宽度），\n",
    "# 其中批量大小和通道数都为1\n",
    "# 注意观察 X 的形状\n",
    "X = X.reshape((1, 1, 6, 8))\n",
    "Y = Y.reshape((1, 1, 6, 7))\n",
    "lr = 3e-2  # 学习率\n",
    "\n",
    "\n",
    "for i in range(10):\n",
    "    Y_hat = conv2d(X)\n",
    "    l = (Y_hat - Y) ** 2\n",
    "    conv2d.zero_grad()\n",
    "    l.sum().backward()\n",
    "    # 迭代卷积核\n",
    "    conv2d.weight.data[:] -= lr * conv2d.weight.grad\n",
    "    if (i + 1) % 2 == 0:\n",
    "        print(f'epoch {i+1}, loss {l.sum():.3f}')\n"
   ],
   "id": "67139bd8dc1adc24",
   "outputs": [
    {
     "name": "stdout",
     "output_type": "stream",
     "text": [
      "epoch 2, loss 6.564\n",
      "epoch 4, loss 1.927\n",
      "epoch 6, loss 0.661\n",
      "epoch 8, loss 0.249\n",
      "epoch 10, loss 0.099\n"
     ]
    }
   ],
   "execution_count": 24
  },
  {
   "metadata": {
    "ExecuteTime": {
     "end_time": "2024-12-03T07:58:25.932543Z",
     "start_time": "2024-12-03T07:58:25.920545Z"
    }
   },
   "cell_type": "code",
   "source": "conv2d.weight.data.reshape((1, 2))",
   "id": "58dee1c27fef93a5",
   "outputs": [
    {
     "data": {
      "text/plain": [
       "tensor([[ 1.0228, -0.9588]])"
      ]
     },
     "execution_count": 25,
     "metadata": {},
     "output_type": "execute_result"
    }
   ],
   "execution_count": 25
  }
 ],
 "metadata": {
  "kernelspec": {
   "display_name": "Python 3",
   "language": "python",
   "name": "python3"
  },
  "language_info": {
   "codemirror_mode": {
    "name": "ipython",
    "version": 2
   },
   "file_extension": ".py",
   "mimetype": "text/x-python",
   "name": "python",
   "nbconvert_exporter": "python",
   "pygments_lexer": "ipython2",
   "version": "2.7.6"
  }
 },
 "nbformat": 4,
 "nbformat_minor": 5
}
